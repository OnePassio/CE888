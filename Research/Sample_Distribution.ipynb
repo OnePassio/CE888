{
  "nbformat": 4,
  "nbformat_minor": 0,
  "metadata": {
    "colab": {
      "name": "Sample Distribution.ipynb",
      "provenance": [],
      "collapsed_sections": [],
      "authorship_tag": "ABX9TyM810BLcT0612h7Z1KsVE/7",
      "include_colab_link": true
    },
    "kernelspec": {
      "name": "python3",
      "display_name": "Python 3"
    }
  },
  "cells": [
    {
      "cell_type": "markdown",
      "metadata": {
        "id": "view-in-github",
        "colab_type": "text"
      },
      "source": [
        "<a href=\"https://colab.research.google.com/github/OnePassio/CE888/blob/master/Research/Sample_Distribution.ipynb\" target=\"_parent\"><img src=\"https://colab.research.google.com/assets/colab-badge.svg\" alt=\"Open In Colab\"/></a>"
      ]
    },
    {
      "cell_type": "markdown",
      "metadata": {
        "id": "k90S_LIuJMPC",
        "colab_type": "text"
      },
      "source": [
        "# Uniform Distribution"
      ]
    },
    {
      "cell_type": "code",
      "metadata": {
        "id": "KDC4l3oEJFzh",
        "colab_type": "code",
        "colab": {
          "base_uri": "https://localhost:8080/",
          "height": 265
        },
        "outputId": "ceea9464-2766-408b-fbf9-b68e7dfb370e"
      },
      "source": [
        "import numpy as np\n",
        "import matplotlib.pyplot as plt\n",
        "\n",
        "values= np.random.uniform(-10,10,10000)\n",
        "plt.hist(values,50)\n",
        "plt.show()"
      ],
      "execution_count": 7,
      "outputs": [
        {
          "output_type": "display_data",
          "data": {
            "image/png": "[encoded data removed]",
            "text/plain": [
              "<Figure size 432x288 with 1 Axes>"
            ]
          },
          "metadata": {
            "tags": []
          }
        }
      ]
    },
    {
      "cell_type": "markdown",
      "metadata": {
        "id": "o3lsEG4oKAGb",
        "colab_type": "text"
      },
      "source": [
        "# Normal / Gaussian"
      ]
    },
    {
      "cell_type": "code",
      "metadata": {
        "id": "75l5wViZKEXS",
        "colab_type": "code",
        "colab": {
          "base_uri": "https://localhost:8080/",
          "height": 282
        },
        "outputId": "f6941e76-12ba-438a-832f-156b90f2ecf3"
      },
      "source": [
        "import numpy as np\n",
        "from scipy.stats import norm\n",
        "import matplotlib.pyplot as plt\n",
        "x=np.arange(-3,3,0.001)\n",
        "plt.plot(x,norm.pdf(x))"
      ],
      "execution_count": 8,
      "outputs": [
        {
          "output_type": "execute_result",
          "data": {
            "text/plain": [
              "[<matplotlib.lines.Line2D at 0x7f8ff192a940>]"
            ]
          },
          "metadata": {
            "tags": []
          },
          "execution_count": 8
        },
        {
          "output_type": "display_data",
          "data": {
            "image/png": "[encoded data removed]",
            "text/plain": [
              "<Figure size 432x288 with 1 Axes>"
            ]
          },
          "metadata": {
            "tags": []
          }
        }
      ]
    },
    {
      "cell_type": "code",
      "metadata": {
        "id": "8WqHFGkvNZ0-",
        "colab_type": "code",
        "colab": {
          "base_uri": "https://localhost:8080/",
          "height": 405
        },
        "outputId": "5ce3d9e2-7418-4ac6-a439-53a0b0c14a0e"
      },
      "source": [
        "import numpy as np \n",
        "import matplotlib.pyplot as plt\n",
        "mu =10\n",
        "sigma=2\n",
        "values= np.random.normal(mu,sigma,100000)\n",
        "plt.hist(values,50)\n",
        "plt.show()\n",
        "print(\"show percentile 40.50,60\")\n",
        "print(np.percentile(values, [40,50,60]))\n",
        "print(\"moments 1: mean\")\n",
        "print(np.mean(values))\n",
        "print(\"momenst 2: var\")\n",
        "print(np.var(values))\n",
        "import scipy.stats as sp\n",
        "print(\"momenst 3: skew\")\n",
        "print(sp.skew(values)); "
      ],
      "execution_count": 67,
      "outputs": [
        {
          "output_type": "display_data",
          "data": {
            "image/png": "[encoded data removed]",
            "text/plain": [
              "<Figure size 432x288 with 1 Axes>"
            ]
          },
          "metadata": {
            "tags": []
          }
        },
        {
          "output_type": "stream",
          "text": [
            "show percentile 40.50,60\n",
            "[ 9.49836255 10.00123137 10.50494807]\n",
            "moments 1: mean\n",
            "10.002294284642238\n",
            "momenst 2: var\n",
            "3.9801663508913787\n",
            "momenst 3: skew\n",
            "0.009487905558989032\n"
          ],
          "name": "stdout"
        }
      ]
    },
    {
      "cell_type": "markdown",
      "metadata": {
        "id": "vYkL5lpJNxB2",
        "colab_type": "text"
      },
      "source": [
        "# Exponential PDF/\"Power Law\""
      ]
    },
    {
      "cell_type": "code",
      "metadata": {
        "id": "0XRdgZvoN3UQ",
        "colab_type": "code",
        "colab": {
          "base_uri": "https://localhost:8080/",
          "height": 299
        },
        "outputId": "3bdb5d91-47cd-495a-fca1-88356a80e8bb"
      },
      "source": [
        "import numpy as np\n",
        "from scipy.stats import expon\n",
        "import matplotlib.pyplot as plt\n",
        "\n",
        "x=np.arange(0,10,0.001)\n",
        "#print(x)\n",
        "plt.plot(x,expon.pdf(x))"
      ],
      "execution_count": 19,
      "outputs": [
        {
          "output_type": "stream",
          "text": [
            "[0.000e+00 1.000e-03 2.000e-03 ... 9.997e+00 9.998e+00 9.999e+00]\n"
          ],
          "name": "stdout"
        },
        {
          "output_type": "execute_result",
          "data": {
            "text/plain": [
              "[<matplotlib.lines.Line2D at 0x7f8fe75db080>]"
            ]
          },
          "metadata": {
            "tags": []
          },
          "execution_count": 19
        },
        {
          "output_type": "display_data",
          "data": {
            "image/png": "[encoded data removed]",
            "text/plain": [
              "<Figure size 432x288 with 1 Axes>"
            ]
          },
          "metadata": {
            "tags": []
          }
        }
      ]
    },
    {
      "cell_type": "markdown",
      "metadata": {
        "id": "-11q3nDhOP6f",
        "colab_type": "text"
      },
      "source": [
        "#Binomial Probalitity Mass Function: Phân phối nhị thức"
      ]
    },
    {
      "cell_type": "code",
      "metadata": {
        "id": "ykUpSO7kOUA2",
        "colab_type": "code",
        "colab": {
          "base_uri": "https://localhost:8080/",
          "height": 282
        },
        "outputId": "594d3d3f-2811-4e59-ca11-b72b43c8ec01"
      },
      "source": [
        "import numpy as np\n",
        "from scipy.stats import binom\n",
        "import matplotlib.pyplot as plt\n",
        "n,p =10,0.5\n",
        "x=np.arange(0,10,0.001)\n",
        "plt.plot(x,binom.pmf(x,n,p))\n"
      ],
      "execution_count": 20,
      "outputs": [
        {
          "output_type": "execute_result",
          "data": {
            "text/plain": [
              "[<matplotlib.lines.Line2D at 0x7f8fe75a0b00>]"
            ]
          },
          "metadata": {
            "tags": []
          },
          "execution_count": 20
        },
        {
          "output_type": "display_data",
          "data": {
            "image/png": "[encoded data removed]",
            "text/plain": [
              "<Figure size 432x288 with 1 Axes>"
            ]
          },
          "metadata": {
            "tags": []
          }
        }
      ]
    },
    {
      "cell_type": "markdown",
      "metadata": {
        "id": "ma5HW_oVPqPq",
        "colab_type": "text"
      },
      "source": [
        "#Poisson Probalitity Mass function\n",
        "Example: My website gets on average 500 visits per day. What's the odds of getting 550?"
      ]
    },
    {
      "cell_type": "code",
      "metadata": {
        "id": "ExOF-_PRQLCt",
        "colab_type": "code",
        "colab": {
          "base_uri": "https://localhost:8080/",
          "height": 265
        },
        "outputId": "acb2123a-3624-4c27-a1cd-8ca3a02bf238"
      },
      "source": [
        "from scipy.stats import poisson\n",
        "import matplotlib.pyplot as plt\n",
        "\n",
        "mu=500\n",
        "x=np.arange(400,600,0.5)\n",
        "plt.plot(x,poisson.pmf(x,mu))\n",
        "#plt.savefig(\"/Users/Apple/Desktop/1.png\",format='png')\n",
        "\n",
        "plt.savefig('figure.png',format='png')\n",
        "from google.colab import files\n",
        "#files.download('figure.png')"
      ],
      "execution_count": 74,
      "outputs": [
        {
          "output_type": "display_data",
          "data": {
            "image/png": "[encoded data removed]",
            "text/plain": [
              "<Figure size 432x288 with 1 Axes>"
            ]
          },
          "metadata": {
            "tags": []
          }
        }
      ]
    }
  ]
}