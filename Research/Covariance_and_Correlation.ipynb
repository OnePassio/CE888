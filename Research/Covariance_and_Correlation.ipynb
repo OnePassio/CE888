{
  "nbformat": 4,
  "nbformat_minor": 0,
  "metadata": {
    "colab": {
      "name": "Covariance and Correlation.ipynb",
      "provenance": [],
      "collapsed_sections": [],
      "authorship_tag": "ABX9TyNeKNFtb4hxT+DJxqhZumqd",
      "include_colab_link": true
    },
    "kernelspec": {
      "name": "python3",
      "display_name": "Python 3"
    }
  },
  "cells": [
    {
      "cell_type": "markdown",
      "metadata": {
        "id": "view-in-github",
        "colab_type": "text"
      },
      "source": [
        "<a href=\"https://colab.research.google.com/github/OnePassio/CE888/blob/master/Research/Covariance_and_Correlation.ipynb\" target=\"_parent\"><img src=\"https://colab.research.google.com/assets/colab-badge.svg\" alt=\"Open In Colab\"/></a>"
      ]
    },
    {
      "cell_type": "markdown",
      "metadata": {
        "id": "5rWFcspk0XVq",
        "colab_type": "text"
      },
      "source": [
        "#Covariance\n",
        "Covariance measures how two variables vary in tandem from their means.\n",
        "\n",
        "For example, let's say we work for an e-commerce company, and they are interested in finding a correlation between page speed (how fast each web page renders for a customer) and how much a customer spends."
      ]
    },
    {
      "cell_type": "code",
      "metadata": {
        "id": "nK6m1Cyjz3DJ",
        "colab_type": "code",
        "outputId": "b779a942-071a-4979-aa58-d11cbb121386",
        "colab": {
          "base_uri": "https://localhost:8080/",
          "height": 282
        }
      },
      "source": [
        "%matplotlib inline\n",
        "import numpy as np\n",
        "from pylab import *\n",
        "def de_mean(x):\n",
        "  #return np.mean(x)\n",
        "  xmean=mean(x)\n",
        "  return [xi - xmean for xi in x]\n",
        "\n",
        "def covariance(x,y):\n",
        "  #m1\n",
        "  n=len(x)\n",
        "  result1= dot(de_mean(x),de_mean(y))/(n-1)\n",
        "  #m2\n",
        "  result2=np.cov(x, y, bias=False)[0][1]\n",
        "\n",
        "  #print(\"method 1:{}\".format(result1))\n",
        "  #print(\"method 2:{}\".format(result2))\n",
        "  return result1\n",
        "\n",
        "pageSpeeds=np.random.normal(3.0,1.0,1000)\n",
        "purchaseAmount=np.random.normal(50.0,10.0,1000)\n",
        "\n",
        "scatter(pageSpeeds,purchaseAmount)\n",
        "cov=covariance(pageSpeeds, purchaseAmount)\n",
        "print(\"Covariance is {}\".format(cov))"
      ],
      "execution_count": 0,
      "outputs": [
        {
          "output_type": "stream",
          "text": [
            "Covariance is -0.1854934593408703\n"
          ],
          "name": "stdout"
        },
        {
          "output_type": "display_data",
          "data": {
            "image/png": "[encoded data removed]",
            "text/plain": [
              "<Figure size 432x288 with 1 Axes>"
            ]
          },
          "metadata": {
            "tags": []
          }
        }
      ]
    },
    {
      "cell_type": "markdown",
      "metadata": {
        "id": "BDJqBiBH38LE",
        "colab_type": "text"
      },
      "source": [
        "Now try to find a relation\n"
      ]
    },
    {
      "cell_type": "code",
      "metadata": {
        "id": "A-82DuOp4EFH",
        "colab_type": "code",
        "outputId": "b342a18b-37e0-40f2-e7fc-e830479df8b9",
        "colab": {
          "base_uri": "https://localhost:8080/",
          "height": 282
        }
      },
      "source": [
        "purchaseAmount=np.random.normal(50.0,10.0,1000)/pageSpeeds\n",
        "scatter(pageSpeeds,purchaseAmount)\n",
        "cov=covariance(pageSpeeds,purchaseAmount)\n",
        "print(\"Covariance is {}\".format(cov))"
      ],
      "execution_count": 0,
      "outputs": [
        {
          "output_type": "stream",
          "text": [
            "Covariance is -11.470922295282016\n"
          ],
          "name": "stdout"
        },
        {
          "output_type": "display_data",
          "data": {
            "image/png": "[encoded data removed]",
            "text/plain": [
              "<Figure size 432x288 with 1 Axes>"
            ]
          },
          "metadata": {
            "tags": []
          }
        }
      ]
    },
    {
      "cell_type": "markdown",
      "metadata": {
        "id": "_LB8-fMz4y5Z",
        "colab_type": "text"
      },
      "source": [
        "But, What does this value mean? Covariance is sensitive to the units used in the variables, which makes it difficult to intepret. While Correlation is normalize every thing by their standard deviation, give us an easier to understand value that range from -1 (for a perfect inverse correlation) to 1 (for a perfect positive correlation)"
      ]
    },
    {
      "cell_type": "code",
      "metadata": {
        "id": "2aQsZ-UB5W51",
        "colab_type": "code",
        "outputId": "81cf4790-847a-4078-c65b-69e915de8fe3",
        "colab": {
          "base_uri": "https://localhost:8080/",
          "height": 34
        }
      },
      "source": [
        "def correlation(x,y):\n",
        "  #method1\n",
        "  stddev_x=x.std();\n",
        "  stddev_y=np.std(y);\n",
        "  result1= covariance(x,y)/(stddev_x*stddev_y)\n",
        "  #method2\n",
        "  result2=np.corrcoef(x,y)[1,0]\n",
        "  #print(\"method 1:{}\".format(result1))\n",
        "  #print(\"method 2:{}\".format(result2))\n",
        "  return result1\n",
        "\n",
        "\n",
        "col=correlation(pageSpeeds,purchaseAmount)\n",
        "print(\"Corellation is {}\",col)"
      ],
      "execution_count": 0,
      "outputs": [
        {
          "output_type": "stream",
          "text": [
            "Corellation is {} -0.32163738403284936\n"
          ],
          "name": "stdout"
        }
      ]
    },
    {
      "cell_type": "code",
      "metadata": {
        "id": "0yIFtY2l7K4j",
        "colab_type": "code",
        "outputId": "334b57a2-874b-428c-a5e2-35d92cc5a8f5",
        "colab": {
          "base_uri": "https://localhost:8080/",
          "height": 282
        }
      },
      "source": [
        "purchaseAmount=100-pageSpeeds*3\n",
        "scatter(pageSpeeds,purchaseAmount)\n",
        "col=correlation(pageSpeeds,purchaseAmount)\n",
        "print(\"Corellation is {}\",col)\n"
      ],
      "execution_count": 0,
      "outputs": [
        {
          "output_type": "stream",
          "text": [
            "Corellation is {} -1.0010010010010004\n"
          ],
          "name": "stdout"
        },
        {
          "output_type": "display_data",
          "data": {
            "image/png": "[encoded data removed]",
            "text/plain": [
              "<Figure size 432x288 with 1 Axes>"
            ]
          },
          "metadata": {
            "tags": []
          }
        }
      ]
    }
  ]
}