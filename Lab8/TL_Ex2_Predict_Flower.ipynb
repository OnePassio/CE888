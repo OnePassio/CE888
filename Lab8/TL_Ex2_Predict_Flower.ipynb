{
  "nbformat": 4,
  "nbformat_minor": 0,
  "metadata": {
    "colab": {
      "name": "Lab8_TransferLearning_Ex2_Predict_2_flower.ipynb",
      "provenance": [],
      "collapsed_sections": [],
      "machine_shape": "hm",
      "include_colab_link": true
    },
    "kernelspec": {
      "name": "python3",
      "display_name": "Python 3"
    },
    "accelerator": "GPU"
  },
  "cells": [
    {
      "cell_type": "markdown",
      "metadata": {
        "id": "view-in-github",
        "colab_type": "text"
      },
      "source": [
        "<a href=\"https://colab.research.google.com/github/OnePassio/CE888/blob/master/Lab8/TL_Ex2_Predict_Flower.ipynb\" target=\"_parent\"><img src=\"https://colab.research.google.com/assets/colab-badge.svg\" alt=\"Open In Colab\"/></a>"
      ]
    },
    {
      "cell_type": "code",
      "metadata": {
        "id": "ZGifp6s3N-GX",
        "colab_type": "code",
        "outputId": "23a1cc12-2dd5-48f9-8772-57724e9653a6",
        "colab": {
          "base_uri": "https://localhost:8080/",
          "height": 136
        }
      },
      "source": [
        "!git clone https://github.com/sagihaider/CE888_2020.git"
      ],
      "execution_count": 1,
      "outputs": [
        {
          "output_type": "stream",
          "text": [
            "Cloning into 'CE888_2020'...\n",
            "remote: Enumerating objects: 64, done.\u001b[K\n",
            "remote: Counting objects: 100% (64/64), done.\u001b[K\n",
            "remote: Compressing objects: 100% (60/60), done.\u001b[K\n",
            "remote: Total 25146 (delta 28), reused 4 (delta 0), pack-reused 25082\u001b[K\n",
            "Receiving objects: 100% (25146/25146), 561.99 MiB | 51.97 MiB/s, done.\n",
            "Resolving deltas: 100% (64/64), done.\n"
          ],
          "name": "stdout"
        }
      ]
    },
    {
      "cell_type": "markdown",
      "metadata": {
        "id": "v54N7htBKRL4",
        "colab_type": "text"
      },
      "source": [
        "#download dataset for flower from kaggle"
      ]
    },
    {
      "cell_type": "code",
      "metadata": {
        "id": "QpyQuBxg4BtI",
        "colab_type": "code",
        "outputId": "50bc013b-89d3-4d42-9b9f-c7cbb9135bb6",
        "colab": {
          "base_uri": "https://localhost:8080/",
          "height": 68
        }
      },
      "source": [
        "import os\n",
        "os.environ['KAGGLE_USERNAME'] = \"thomastran89\" # username from the json file\n",
        "os.environ['KAGGLE_KEY'] = \"29b93919c31aa2997218d05bc048f093\" # key from the json file\n",
        "!kaggle datasets download -d alxmamaev/flowers-recognition"
      ],
      "execution_count": 2,
      "outputs": [
        {
          "output_type": "stream",
          "text": [
            "Downloading flowers-recognition.zip to /content\n",
            "\r  0% 0.00/450M [00:00<?, ?B/s]\r  1% 5.00M/450M [00:00<00:18, 25.7MB/s]\r  6% 28.0M/450M [00:00<00:12, 35.0MB/s]\r 10% 45.0M/450M [00:00<00:09, 46.1MB/s]\r 12% 56.0M/450M [00:00<00:09, 43.9MB/s]\r 18% 81.0M/450M [00:00<00:07, 54.0MB/s]\r 20% 91.0M/450M [00:01<00:06, 55.5MB/s]\r 26% 115M/450M [00:01<00:04, 72.4MB/s] \r 28% 128M/450M [00:01<00:04, 81.3MB/s]\r 34% 153M/450M [00:01<00:03, 97.7MB/s]\r 37% 167M/450M [00:01<00:03, 91.6MB/s]\r 42% 191M/450M [00:01<00:02, 113MB/s] \r 46% 207M/450M [00:02<00:02, 92.2MB/s]\r 49% 222M/450M [00:02<00:02, 105MB/s] \r 54% 241M/450M [00:02<00:02, 98.0MB/s]\r 58% 263M/450M [00:02<00:01, 118MB/s] \r 62% 281M/450M [00:02<00:01, 132MB/s]\r 66% 297M/450M [00:02<00:01, 140MB/s]\r 70% 317M/450M [00:02<00:00, 155MB/s]\r 74% 334M/450M [00:02<00:00, 125MB/s]\r 79% 355M/450M [00:03<00:00, 142MB/s]\r 83% 372M/450M [00:03<00:00, 139MB/s]\r 86% 388M/450M [00:03<00:00, 111MB/s]\r 89% 401M/450M [00:04<00:01, 41.9MB/s]\r 94% 425M/450M [00:04<00:00, 55.8MB/s]\r 98% 440M/450M [00:04<00:00, 69.2MB/s]\n",
            "\r100% 450M/450M [00:04<00:00, 104MB/s] \n"
          ],
          "name": "stdout"
        }
      ]
    },
    {
      "cell_type": "code",
      "metadata": {
        "id": "ThZAB0z3KQJn",
        "colab_type": "code",
        "colab": {}
      },
      "source": [
        "!unzip flowers-recognition.zip"
      ],
      "execution_count": 0,
      "outputs": []
    },
    {
      "cell_type": "code",
      "metadata": {
        "id": "LSHOqyYxLoRi",
        "colab_type": "code",
        "colab": {}
      },
      "source": [
        "mv flowers data"
      ],
      "execution_count": 0,
      "outputs": []
    },
    {
      "cell_type": "code",
      "metadata": {
        "id": "i3mawQsmFgML",
        "colab_type": "code",
        "outputId": "dae29812-fca5-4bc6-850c-fe35122e99fe",
        "colab": {
          "base_uri": "https://localhost:8080/",
          "height": 34
        }
      },
      "source": [
        "!ls"
      ],
      "execution_count": 5,
      "outputs": [
        {
          "output_type": "stream",
          "text": [
            "CE888_2020  data  flowers-recognition.zip  sample_data\n"
          ],
          "name": "stdout"
        }
      ]
    },
    {
      "cell_type": "code",
      "metadata": {
        "id": "mGt0uqOWPWAX",
        "colab_type": "code",
        "colab": {}
      },
      "source": [
        "!rm -r data/flowers #remove unneccesary folder from kaggle data\n",
        "#!rm -r data/rose \n",
        "!rm -r data/dandelion\n",
        "#!rm -r data/daisy"
      ],
      "execution_count": 0,
      "outputs": []
    },
    {
      "cell_type": "code",
      "metadata": {
        "id": "nOgz4mqfKjNe",
        "colab_type": "code",
        "outputId": "b8647461-c6df-4510-f4a0-042c0b181c5d",
        "colab": {
          "base_uri": "https://localhost:8080/",
          "height": 34
        }
      },
      "source": [
        "!ls data"
      ],
      "execution_count": 7,
      "outputs": [
        {
          "output_type": "stream",
          "text": [
            "daisy  rose  sunflower\ttulip\n"
          ],
          "name": "stdout"
        }
      ]
    },
    {
      "cell_type": "markdown",
      "metadata": {
        "id": "L5CXFTf_4fNZ",
        "colab_type": "text"
      },
      "source": [
        "Install packages tensorflow 1.3.0 and keras 2.0.7"
      ]
    },
    {
      "cell_type": "code",
      "metadata": {
        "id": "_sUSJLQK4tGp",
        "colab_type": "code",
        "outputId": "3339e964-34bf-47cf-f91e-26a988b2fa00",
        "colab": {
          "base_uri": "https://localhost:8080/",
          "height": 887
        }
      },
      "source": [
        "!pip install tensorflow==1.3.0\n",
        "!pip install keras==2.0.7"
      ],
      "execution_count": 8,
      "outputs": [
        {
          "output_type": "stream",
          "text": [
            "Collecting tensorflow==1.3.0\n",
            "\u001b[?25l  Downloading https://files.pythonhosted.org/packages/7c/9f/57e1404fc9345759e4a732c4ab48ab4dd78fd1e60ee1270442b8850fa75f/tensorflow-1.3.0-cp36-cp36m-manylinux1_x86_64.whl (43.5MB)\n",
            "\u001b[K     |████████████████████████████████| 43.6MB 70kB/s \n",
            "\u001b[?25hCollecting tensorflow-tensorboard<0.2.0,>=0.1.0\n",
            "\u001b[?25l  Downloading https://files.pythonhosted.org/packages/93/31/bb4111c3141d22bd7b2b553a26aa0c1863c86cb723919e5bd7847b3de4fc/tensorflow_tensorboard-0.1.8-py3-none-any.whl (1.6MB)\n",
            "\u001b[K     |████████████████████████████████| 1.6MB 43.5MB/s \n",
            "\u001b[?25hRequirement already satisfied: six>=1.10.0 in /usr/local/lib/python3.6/dist-packages (from tensorflow==1.3.0) (1.12.0)\n",
            "Requirement already satisfied: protobuf>=3.3.0 in /usr/local/lib/python3.6/dist-packages (from tensorflow==1.3.0) (3.10.0)\n",
            "Requirement already satisfied: numpy>=1.11.0 in /usr/local/lib/python3.6/dist-packages (from tensorflow==1.3.0) (1.17.5)\n",
            "Requirement already satisfied: wheel>=0.26 in /usr/local/lib/python3.6/dist-packages (from tensorflow==1.3.0) (0.34.2)\n",
            "Requirement already satisfied: werkzeug>=0.11.10 in /usr/local/lib/python3.6/dist-packages (from tensorflow-tensorboard<0.2.0,>=0.1.0->tensorflow==1.3.0) (1.0.0)\n",
            "Collecting html5lib==0.9999999\n",
            "\u001b[?25l  Downloading https://files.pythonhosted.org/packages/ae/ae/bcb60402c60932b32dfaf19bb53870b29eda2cd17551ba5639219fb5ebf9/html5lib-0.9999999.tar.gz (889kB)\n",
            "\u001b[K     |████████████████████████████████| 890kB 41.9MB/s \n",
            "\u001b[?25hRequirement already satisfied: markdown>=2.6.8 in /usr/local/lib/python3.6/dist-packages (from tensorflow-tensorboard<0.2.0,>=0.1.0->tensorflow==1.3.0) (3.2.1)\n",
            "Collecting bleach==1.5.0\n",
            "  Downloading https://files.pythonhosted.org/packages/33/70/86c5fec937ea4964184d4d6c4f0b9551564f821e1c3575907639036d9b90/bleach-1.5.0-py2.py3-none-any.whl\n",
            "Requirement already satisfied: setuptools in /usr/local/lib/python3.6/dist-packages (from protobuf>=3.3.0->tensorflow==1.3.0) (45.2.0)\n",
            "Building wheels for collected packages: html5lib\n",
            "  Building wheel for html5lib (setup.py) ... \u001b[?25l\u001b[?25hdone\n",
            "  Created wheel for html5lib: filename=html5lib-0.9999999-cp36-none-any.whl size=107220 sha256=81652b4543bb800c7652c871fb2670faa56aa6c0c68bdcd60945b087d5c0b749\n",
            "  Stored in directory: /root/.cache/pip/wheels/50/ae/f9/d2b189788efcf61d1ee0e36045476735c838898eef1cad6e29\n",
            "Successfully built html5lib\n",
            "\u001b[31mERROR: stable-baselines 2.2.1 has requirement tensorflow>=1.5.0, but you'll have tensorflow 1.3.0 which is incompatible.\u001b[0m\n",
            "\u001b[31mERROR: magenta 0.3.19 has requirement tensorflow>=1.12.0, but you'll have tensorflow 1.3.0 which is incompatible.\u001b[0m\n",
            "Installing collected packages: html5lib, bleach, tensorflow-tensorboard, tensorflow\n",
            "  Found existing installation: html5lib 1.0.1\n",
            "    Uninstalling html5lib-1.0.1:\n",
            "      Successfully uninstalled html5lib-1.0.1\n",
            "  Found existing installation: bleach 3.1.0\n",
            "    Uninstalling bleach-3.1.0:\n",
            "      Successfully uninstalled bleach-3.1.0\n",
            "  Found existing installation: tensorflow 1.15.0\n",
            "    Uninstalling tensorflow-1.15.0:\n",
            "      Successfully uninstalled tensorflow-1.15.0\n",
            "Successfully installed bleach-1.5.0 html5lib-0.9999999 tensorflow-1.3.0 tensorflow-tensorboard-0.1.8\n",
            "Collecting keras==2.0.7\n",
            "\u001b[?25l  Downloading https://files.pythonhosted.org/packages/69/9b/d4a03bf5dcf533fecbbd88053be3a7b4a435e8c2602e5e21a02779dd1aca/Keras-2.0.7-py2.py3-none-any.whl (275kB)\n",
            "\u001b[K     |████████████████████████████████| 276kB 2.7MB/s \n",
            "\u001b[?25hRequirement already satisfied: theano in /usr/local/lib/python3.6/dist-packages (from keras==2.0.7) (1.0.4)\n",
            "Requirement already satisfied: pyyaml in /usr/local/lib/python3.6/dist-packages (from keras==2.0.7) (3.13)\n",
            "Requirement already satisfied: six in /usr/local/lib/python3.6/dist-packages (from keras==2.0.7) (1.12.0)\n",
            "Requirement already satisfied: scipy>=0.14 in /usr/local/lib/python3.6/dist-packages (from theano->keras==2.0.7) (1.4.1)\n",
            "Requirement already satisfied: numpy>=1.9.1 in /usr/local/lib/python3.6/dist-packages (from theano->keras==2.0.7) (1.17.5)\n",
            "\u001b[31mERROR: textgenrnn 1.4.1 has requirement keras>=2.1.5, but you'll have keras 2.0.7 which is incompatible.\u001b[0m\n",
            "Installing collected packages: keras\n",
            "  Found existing installation: Keras 2.2.5\n",
            "    Uninstalling Keras-2.2.5:\n",
            "      Successfully uninstalled Keras-2.2.5\n",
            "Successfully installed keras-2.0.7\n"
          ],
          "name": "stdout"
        }
      ]
    },
    {
      "cell_type": "code",
      "metadata": {
        "id": "6ir0M9g_42S5",
        "colab_type": "code",
        "outputId": "de510740-1a6c-4e33-b3fe-d1cb3fee3077",
        "colab": {
          "base_uri": "https://localhost:8080/",
          "height": 304
        }
      },
      "source": [
        "import numpy as np\n",
        "import os\n",
        "import time\n",
        "from CE888_2020.Lab_8.vgg16 import VGG16\n",
        "from keras.preprocessing import image\n",
        "from keras.applications.imagenet_utils import preprocess_input\n",
        "from keras.applications.imagenet_utils import decode_predictions\n",
        "from keras.layers import Dense, Activation, Flatten\n",
        "from keras.layers import merge, Input\n",
        "from keras.models import Model\n",
        "from keras.utils import np_utils\n",
        "from sklearn.utils import shuffle\n",
        "from sklearn.model_selection import train_test_split"
      ],
      "execution_count": 9,
      "outputs": [
        {
          "output_type": "stream",
          "text": [
            "Using TensorFlow backend.\n",
            "/usr/local/lib/python3.6/dist-packages/tensorflow/python/framework/dtypes.py:458: FutureWarning: Passing (type, 1) or '1type' as a synonym of type is deprecated; in a future version of numpy, it will be understood as (type, (1,)) / '(1,)type'.\n",
            "  _np_qint8 = np.dtype([(\"qint8\", np.int8, 1)])\n",
            "/usr/local/lib/python3.6/dist-packages/tensorflow/python/framework/dtypes.py:459: FutureWarning: Passing (type, 1) or '1type' as a synonym of type is deprecated; in a future version of numpy, it will be understood as (type, (1,)) / '(1,)type'.\n",
            "  _np_quint8 = np.dtype([(\"quint8\", np.uint8, 1)])\n",
            "/usr/local/lib/python3.6/dist-packages/tensorflow/python/framework/dtypes.py:460: FutureWarning: Passing (type, 1) or '1type' as a synonym of type is deprecated; in a future version of numpy, it will be understood as (type, (1,)) / '(1,)type'.\n",
            "  _np_qint16 = np.dtype([(\"qint16\", np.int16, 1)])\n",
            "/usr/local/lib/python3.6/dist-packages/tensorflow/python/framework/dtypes.py:461: FutureWarning: Passing (type, 1) or '1type' as a synonym of type is deprecated; in a future version of numpy, it will be understood as (type, (1,)) / '(1,)type'.\n",
            "  _np_quint16 = np.dtype([(\"quint16\", np.uint16, 1)])\n",
            "/usr/local/lib/python3.6/dist-packages/tensorflow/python/framework/dtypes.py:462: FutureWarning: Passing (type, 1) or '1type' as a synonym of type is deprecated; in a future version of numpy, it will be understood as (type, (1,)) / '(1,)type'.\n",
            "  _np_qint32 = np.dtype([(\"qint32\", np.int32, 1)])\n",
            "/usr/local/lib/python3.6/dist-packages/tensorflow/python/framework/dtypes.py:465: FutureWarning: Passing (type, 1) or '1type' as a synonym of type is deprecated; in a future version of numpy, it will be understood as (type, (1,)) / '(1,)type'.\n",
            "  np_resource = np.dtype([(\"resource\", np.ubyte, 1)])\n"
          ],
          "name": "stderr"
        },
        {
          "output_type": "display_data",
          "data": {
            "text/html": [
              "<p style=\"color: red;\">\n",
              "The default version of TensorFlow in Colab will soon switch to TensorFlow 2.x.<br>\n",
              "We recommend you <a href=\"https://www.tensorflow.org/guide/migrate\" target=\"_blank\">upgrade</a> now \n",
              "or ensure your notebook will continue to use TensorFlow 1.x via the <code>%tensorflow_version 1.x</code> magic:\n",
              "<a href=\"https://colab.research.google.com/notebooks/tensorflow_version.ipynb\" target=\"_blank\">more info</a>.</p>\n"
            ],
            "text/plain": [
              "<IPython.core.display.HTML object>"
            ]
          },
          "metadata": {
            "tags": []
          }
        }
      ]
    },
    {
      "cell_type": "code",
      "metadata": {
        "id": "EOHvUJxQ5lWQ",
        "colab_type": "code",
        "outputId": "a4338068-11fe-494f-e229-d246374a487c",
        "colab": {
          "base_uri": "https://localhost:8080/",
          "height": 68
        }
      },
      "source": [
        "#%% Load an elephant image as an example and see the image-processing\n",
        "\n",
        "img_path = 'data/tulip/100930342_92e8746431_n.jpg' # image name\n",
        "img = image.load_img(img_path, target_size=(224, 224)) # load image\n",
        "x = image.img_to_array(img) # convert image to array\n",
        "print (x.shape)\n",
        "x = np.expand_dims(x, axis=0) # expand dimension\n",
        "print (x.shape)\n",
        "x = preprocess_input(x)\n",
        "print('Input image shape:', x.shape)"
      ],
      "execution_count": 10,
      "outputs": [
        {
          "output_type": "stream",
          "text": [
            "(224, 224, 3)\n",
            "(1, 224, 224, 3)\n",
            "Input image shape: (1, 224, 224, 3)\n"
          ],
          "name": "stdout"
        }
      ]
    },
    {
      "cell_type": "code",
      "metadata": {
        "id": "-bH1gHhqo8rW",
        "colab_type": "code",
        "colab": {}
      },
      "source": [
        "#%% Loading the training data\n",
        "PATH = os.getcwd()\n",
        "# Define data path\n",
        "data_path = PATH + '/data'\n",
        "data_dir_list = os.listdir(data_path)"
      ],
      "execution_count": 0,
      "outputs": []
    },
    {
      "cell_type": "code",
      "metadata": {
        "id": "33MalFoM5pTX",
        "colab_type": "code",
        "outputId": "fa5dd1db-c39c-429e-9050-4b6b7e5c1be9",
        "colab": {
          "base_uri": "https://localhost:8080/",
          "height": 289
        }
      },
      "source": [
        "img_data_list=[] # created an empty list for images to be loaded\n",
        "\n",
        "offset=[]\n",
        "offset.append(0)\n",
        "total=0\n",
        "for dataset in data_dir_list:\n",
        "\timg_list=os.listdir(data_path+'/'+ dataset)\n",
        "\tprint ('Loaded the images of dataset-'+'{}\\n'.format(dataset))\n",
        "\tcount=0\n",
        "\tfor img in img_list:\n",
        "\t\ttry:\n",
        "\t\t\timg_path = data_path + '/'+ dataset + '/'+ img\n",
        "\t\t\timg = image.load_img(img_path, target_size=(224, 224))\n",
        "\t\t\tx = image.img_to_array(img)\n",
        "\t\t\tx = np.expand_dims(x, axis=0)\n",
        "\t\t\tx = preprocess_input(x)\n",
        "\t#\t\tx = x/255\n",
        "\t\t\t# print('Input image shape:', x.shape)\n",
        "\t\t\timg_data_list.append(x)\n",
        "\t\t\tcount=count+1\n",
        "\t\t\ttotal=total+1\n",
        "\t\t\tif count>=40:\n",
        "\t\t\t\t\tbreak\n",
        "\t\texcept:\n",
        "\t\t\tpass\n",
        "\t\t\t#print(\"An exception occurred:{}\".format(img))\n",
        "\tprint(\"dataset {}have total image is:{}\",dataset,count)\n",
        "\toffset.append(total)\n",
        "print(offset)\n",
        "#%% \n",
        "img_data = np.array(img_data_list)\n",
        "#img_data = img_data.astype('float32')\n",
        "print (img_data.shape)\n",
        "img_data=np.rollaxis(img_data,1,0)\n",
        "print (img_data.shape)\n",
        "img_data=img_data[0]\n",
        "print (img_data.shape)"
      ],
      "execution_count": 12,
      "outputs": [
        {
          "output_type": "stream",
          "text": [
            "Loaded the images of dataset-rose\n",
            "\n",
            "dataset {}have total image is:{} rose 40\n",
            "Loaded the images of dataset-daisy\n",
            "\n",
            "dataset {}have total image is:{} daisy 40\n",
            "Loaded the images of dataset-tulip\n",
            "\n",
            "dataset {}have total image is:{} tulip 40\n",
            "Loaded the images of dataset-sunflower\n",
            "\n",
            "dataset {}have total image is:{} sunflower 40\n",
            "[0, 40, 80, 120, 160]\n",
            "(160, 1, 224, 224, 3)\n",
            "(1, 160, 224, 224, 3)\n",
            "(160, 224, 224, 3)\n"
          ],
          "name": "stdout"
        }
      ]
    },
    {
      "cell_type": "code",
      "metadata": {
        "id": "LlZmTqYG5raH",
        "colab_type": "code",
        "outputId": "3799244e-29b1-4158-a033-e84eb47be017",
        "colab": {
          "base_uri": "https://localhost:8080/",
          "height": 34
        }
      },
      "source": [
        "# Define the number of classes\n",
        "num_classes = 4\n",
        "print(img_data.shape[0])\n",
        "num_of_samples = img_data.shape[0]\n",
        "labels = np.ones((num_of_samples,),dtype='int64')\n",
        "\n",
        "labels[offset[0]:offset[1]]=0\n",
        "labels[offset[1]:]=1\n",
        "labels[offset[2]:offset[3]]=2\n",
        "labels[offset[3]:offset[4]]=2\n",
        "#labels[offset[4]:]=3\n",
        "\n",
        "names = [\"rose\",\"daisy\",'tulip','sunflower',]\n",
        "\n",
        "# convert class labels to on-hot encoding\n",
        "Y = np_utils.to_categorical(labels, num_classes)\n",
        "\n",
        "#Shuffle the dataset\n",
        "x,y = shuffle(img_data,Y, random_state=2)\n",
        "# Split the dataset\n",
        "X_train, X_test, y_train, y_test = train_test_split(x, y, test_size=0.5, random_state=2)\n"
      ],
      "execution_count": 13,
      "outputs": [
        {
          "output_type": "stream",
          "text": [
            "160\n"
          ],
          "name": "stdout"
        }
      ]
    },
    {
      "cell_type": "code",
      "metadata": {
        "id": "KmH_k5ps5wAf",
        "colab_type": "code",
        "outputId": "3c71daa5-1432-404e-d524-4e6a348e06ed",
        "colab": {
          "base_uri": "https://localhost:8080/",
          "height": 935
        }
      },
      "source": [
        "#%% Fine Tuning\n",
        "\n",
        "image_input = Input(shape=(224, 224, 3))\n",
        "\n",
        "model = VGG16(input_tensor=image_input, include_top=True,weights='imagenet')\n",
        "\n",
        "model.summary()"
      ],
      "execution_count": 14,
      "outputs": [
        {
          "output_type": "stream",
          "text": [
            "Downloading data from https://github.com/fchollet/deep-learning-models/releases/download/v0.1/vgg16_weights_tf_dim_ordering_tf_kernels.h5\n",
            "552615936/553467096 [============================>.] - ETA: 0s_________________________________________________________________\n",
            "Layer (type)                 Output Shape              Param #   \n",
            "=================================================================\n",
            "input_1 (InputLayer)         (None, 224, 224, 3)       0         \n",
            "_________________________________________________________________\n",
            "block1_conv1 (Conv2D)        (None, 224, 224, 64)      1792      \n",
            "_________________________________________________________________\n",
            "block1_conv2 (Conv2D)        (None, 224, 224, 64)      36928     \n",
            "_________________________________________________________________\n",
            "block1_pool (MaxPooling2D)   (None, 112, 112, 64)      0         \n",
            "_________________________________________________________________\n",
            "block2_conv1 (Conv2D)        (None, 112, 112, 128)     73856     \n",
            "_________________________________________________________________\n",
            "block2_conv2 (Conv2D)        (None, 112, 112, 128)     147584    \n",
            "_________________________________________________________________\n",
            "block2_pool (MaxPooling2D)   (None, 56, 56, 128)       0         \n",
            "_________________________________________________________________\n",
            "block3_conv1 (Conv2D)        (None, 56, 56, 256)       295168    \n",
            "_________________________________________________________________\n",
            "block3_conv2 (Conv2D)        (None, 56, 56, 256)       590080    \n",
            "_________________________________________________________________\n",
            "block3_conv3 (Conv2D)        (None, 56, 56, 256)       590080    \n",
            "_________________________________________________________________\n",
            "block3_pool (MaxPooling2D)   (None, 28, 28, 256)       0         \n",
            "_________________________________________________________________\n",
            "block4_conv1 (Conv2D)        (None, 28, 28, 512)       1180160   \n",
            "_________________________________________________________________\n",
            "block4_conv2 (Conv2D)        (None, 28, 28, 512)       2359808   \n",
            "_________________________________________________________________\n",
            "block4_conv3 (Conv2D)        (None, 28, 28, 512)       2359808   \n",
            "_________________________________________________________________\n",
            "block4_pool (MaxPooling2D)   (None, 14, 14, 512)       0         \n",
            "_________________________________________________________________\n",
            "block5_conv1 (Conv2D)        (None, 14, 14, 512)       2359808   \n",
            "_________________________________________________________________\n",
            "block5_conv2 (Conv2D)        (None, 14, 14, 512)       2359808   \n",
            "_________________________________________________________________\n",
            "block5_conv3 (Conv2D)        (None, 14, 14, 512)       2359808   \n",
            "_________________________________________________________________\n",
            "block5_pool (MaxPooling2D)   (None, 7, 7, 512)         0         \n",
            "_________________________________________________________________\n",
            "flatten (Flatten)            (None, 25088)             0         \n",
            "_________________________________________________________________\n",
            "fc1 (Dense)                  (None, 4096)              102764544 \n",
            "_________________________________________________________________\n",
            "fc2 (Dense)                  (None, 4096)              16781312  \n",
            "_________________________________________________________________\n",
            "predictions (Dense)          (None, 1000)              4097000   \n",
            "=================================================================\n",
            "Total params: 138,357,544\n",
            "Trainable params: 138,357,544\n",
            "Non-trainable params: 0\n",
            "_________________________________________________________________\n"
          ],
          "name": "stdout"
        }
      ]
    },
    {
      "cell_type": "code",
      "metadata": {
        "id": "C6Zbx2ok54Av",
        "colab_type": "code",
        "outputId": "308cf5c2-023f-4621-bee5-f2fe8b0cc2dc",
        "colab": {
          "base_uri": "https://localhost:8080/",
          "height": 918
        }
      },
      "source": [
        "last_layer = model.get_layer('block5_pool').output\n",
        "x= Flatten(name='flatten')(last_layer)\n",
        "x = Dense(128, activation='relu', name='fc1')(x)\n",
        "x = Dense(128, activation='relu', name='fc2')(x)\n",
        "out = Dense(num_classes, activation='softmax', name='output')(x)\n",
        "custom_vgg_model2 = Model(image_input, out)\n",
        "custom_vgg_model2.summary()"
      ],
      "execution_count": 15,
      "outputs": [
        {
          "output_type": "stream",
          "text": [
            "_________________________________________________________________\n",
            "Layer (type)                 Output Shape              Param #   \n",
            "=================================================================\n",
            "input_1 (InputLayer)         (None, 224, 224, 3)       0         \n",
            "_________________________________________________________________\n",
            "block1_conv1 (Conv2D)        (None, 224, 224, 64)      1792      \n",
            "_________________________________________________________________\n",
            "block1_conv2 (Conv2D)        (None, 224, 224, 64)      36928     \n",
            "_________________________________________________________________\n",
            "block1_pool (MaxPooling2D)   (None, 112, 112, 64)      0         \n",
            "_________________________________________________________________\n",
            "block2_conv1 (Conv2D)        (None, 112, 112, 128)     73856     \n",
            "_________________________________________________________________\n",
            "block2_conv2 (Conv2D)        (None, 112, 112, 128)     147584    \n",
            "_________________________________________________________________\n",
            "block2_pool (MaxPooling2D)   (None, 56, 56, 128)       0         \n",
            "_________________________________________________________________\n",
            "block3_conv1 (Conv2D)        (None, 56, 56, 256)       295168    \n",
            "_________________________________________________________________\n",
            "block3_conv2 (Conv2D)        (None, 56, 56, 256)       590080    \n",
            "_________________________________________________________________\n",
            "block3_conv3 (Conv2D)        (None, 56, 56, 256)       590080    \n",
            "_________________________________________________________________\n",
            "block3_pool (MaxPooling2D)   (None, 28, 28, 256)       0         \n",
            "_________________________________________________________________\n",
            "block4_conv1 (Conv2D)        (None, 28, 28, 512)       1180160   \n",
            "_________________________________________________________________\n",
            "block4_conv2 (Conv2D)        (None, 28, 28, 512)       2359808   \n",
            "_________________________________________________________________\n",
            "block4_conv3 (Conv2D)        (None, 28, 28, 512)       2359808   \n",
            "_________________________________________________________________\n",
            "block4_pool (MaxPooling2D)   (None, 14, 14, 512)       0         \n",
            "_________________________________________________________________\n",
            "block5_conv1 (Conv2D)        (None, 14, 14, 512)       2359808   \n",
            "_________________________________________________________________\n",
            "block5_conv2 (Conv2D)        (None, 14, 14, 512)       2359808   \n",
            "_________________________________________________________________\n",
            "block5_conv3 (Conv2D)        (None, 14, 14, 512)       2359808   \n",
            "_________________________________________________________________\n",
            "block5_pool (MaxPooling2D)   (None, 7, 7, 512)         0         \n",
            "_________________________________________________________________\n",
            "flatten (Flatten)            (None, 25088)             0         \n",
            "_________________________________________________________________\n",
            "fc1 (Dense)                  (None, 128)               3211392   \n",
            "_________________________________________________________________\n",
            "fc2 (Dense)                  (None, 128)               16512     \n",
            "_________________________________________________________________\n",
            "output (Dense)               (None, 4)                 516       \n",
            "=================================================================\n",
            "Total params: 17,943,108\n",
            "Trainable params: 17,943,108\n",
            "Non-trainable params: 0\n",
            "_________________________________________________________________\n"
          ],
          "name": "stdout"
        }
      ]
    },
    {
      "cell_type": "code",
      "metadata": {
        "id": "EZTDo98uqvsX",
        "colab_type": "code",
        "outputId": "478e54d2-2501-4cdc-f0e5-8e4ebf4595d4",
        "colab": {
          "base_uri": "https://localhost:8080/",
          "height": 918
        }
      },
      "source": [
        "\n",
        "# freeze all the layers except the dense layers\n",
        "for layer in custom_vgg_model2.layers[:-3]:\n",
        "\tlayer.trainable = False\n",
        "\n",
        "custom_vgg_model2.summary()\n",
        "\n",
        "custom_vgg_model2.compile(loss='categorical_crossentropy',optimizer='adadelta',metrics=['accuracy'])"
      ],
      "execution_count": 16,
      "outputs": [
        {
          "output_type": "stream",
          "text": [
            "_________________________________________________________________\n",
            "Layer (type)                 Output Shape              Param #   \n",
            "=================================================================\n",
            "input_1 (InputLayer)         (None, 224, 224, 3)       0         \n",
            "_________________________________________________________________\n",
            "block1_conv1 (Conv2D)        (None, 224, 224, 64)      1792      \n",
            "_________________________________________________________________\n",
            "block1_conv2 (Conv2D)        (None, 224, 224, 64)      36928     \n",
            "_________________________________________________________________\n",
            "block1_pool (MaxPooling2D)   (None, 112, 112, 64)      0         \n",
            "_________________________________________________________________\n",
            "block2_conv1 (Conv2D)        (None, 112, 112, 128)     73856     \n",
            "_________________________________________________________________\n",
            "block2_conv2 (Conv2D)        (None, 112, 112, 128)     147584    \n",
            "_________________________________________________________________\n",
            "block2_pool (MaxPooling2D)   (None, 56, 56, 128)       0         \n",
            "_________________________________________________________________\n",
            "block3_conv1 (Conv2D)        (None, 56, 56, 256)       295168    \n",
            "_________________________________________________________________\n",
            "block3_conv2 (Conv2D)        (None, 56, 56, 256)       590080    \n",
            "_________________________________________________________________\n",
            "block3_conv3 (Conv2D)        (None, 56, 56, 256)       590080    \n",
            "_________________________________________________________________\n",
            "block3_pool (MaxPooling2D)   (None, 28, 28, 256)       0         \n",
            "_________________________________________________________________\n",
            "block4_conv1 (Conv2D)        (None, 28, 28, 512)       1180160   \n",
            "_________________________________________________________________\n",
            "block4_conv2 (Conv2D)        (None, 28, 28, 512)       2359808   \n",
            "_________________________________________________________________\n",
            "block4_conv3 (Conv2D)        (None, 28, 28, 512)       2359808   \n",
            "_________________________________________________________________\n",
            "block4_pool (MaxPooling2D)   (None, 14, 14, 512)       0         \n",
            "_________________________________________________________________\n",
            "block5_conv1 (Conv2D)        (None, 14, 14, 512)       2359808   \n",
            "_________________________________________________________________\n",
            "block5_conv2 (Conv2D)        (None, 14, 14, 512)       2359808   \n",
            "_________________________________________________________________\n",
            "block5_conv3 (Conv2D)        (None, 14, 14, 512)       2359808   \n",
            "_________________________________________________________________\n",
            "block5_pool (MaxPooling2D)   (None, 7, 7, 512)         0         \n",
            "_________________________________________________________________\n",
            "flatten (Flatten)            (None, 25088)             0         \n",
            "_________________________________________________________________\n",
            "fc1 (Dense)                  (None, 128)               3211392   \n",
            "_________________________________________________________________\n",
            "fc2 (Dense)                  (None, 128)               16512     \n",
            "_________________________________________________________________\n",
            "output (Dense)               (None, 4)                 516       \n",
            "=================================================================\n",
            "Total params: 17,943,108\n",
            "Trainable params: 3,228,420\n",
            "Non-trainable params: 14,714,688\n",
            "_________________________________________________________________\n"
          ],
          "name": "stdout"
        }
      ]
    },
    {
      "cell_type": "code",
      "metadata": {
        "id": "60yxKF8_jY0J",
        "colab_type": "code",
        "colab": {}
      },
      "source": [
        ""
      ],
      "execution_count": 0,
      "outputs": []
    },
    {
      "cell_type": "code",
      "metadata": {
        "id": "9YNyLGT6AbVq",
        "colab_type": "code",
        "outputId": "6a913b5e-bce7-4ce8-f233-b626d1e89ce4",
        "colab": {
          "base_uri": "https://localhost:8080/",
          "height": 221
        }
      },
      "source": [
        "t=time.time()\n",
        "#\tt = now()\n",
        "hist = custom_vgg_model2.fit(X_train, y_train, batch_size=4, epochs=4, verbose=1, validation_data=(X_test, y_test))\n",
        "print('Training time: %s' % (t - time.time()))\n",
        "(loss, accuracy) = custom_vgg_model2.evaluate(X_test, y_test, batch_size=4, verbose=1)\n",
        "\n",
        "print(\"[INFO] loss={:.4f}, accuracy: {:.4f}%\".format(loss,accuracy * 100))"
      ],
      "execution_count": 20,
      "outputs": [
        {
          "output_type": "stream",
          "text": [
            "Train on 80 samples, validate on 80 samples\n",
            "Epoch 1/4\n",
            "80/80 [==============================] - 132s - loss: 4.1265 - acc: 0.6375 - val_loss: 2.6657 - val_acc: 0.7000\n",
            "Epoch 2/4\n",
            "80/80 [==============================] - 131s - loss: 0.8137 - acc: 0.8750 - val_loss: 3.8925 - val_acc: 0.6500\n",
            "Epoch 3/4\n",
            "80/80 [==============================] - 131s - loss: 0.4092 - acc: 0.9750 - val_loss: 2.9487 - val_acc: 0.7375\n",
            "Epoch 4/4\n",
            "80/80 [==============================] - 130s - loss: 0.4030 - acc: 0.9750 - val_loss: 2.9460 - val_acc: 0.7375\n",
            "Training time: -526.8626375198364\n",
            "80/80 [==============================] - 64s    \n",
            "[INFO] loss=2.9460, accuracy: 73.7500%\n"
          ],
          "name": "stdout"
        }
      ]
    },
    {
      "cell_type": "code",
      "metadata": {
        "id": "IPo5QKsBn7k2",
        "colab_type": "code",
        "colab": {
          "base_uri": "https://localhost:8080/",
          "height": 739
        },
        "outputId": "c5141293-16b1-4c83-a849-9f2a5bd6aaba"
      },
      "source": [
        "#%% plot\n",
        "import matplotlib.pyplot as plt\n",
        "# visualizing losses and accuracy\n",
        "train_loss=hist.history['loss']\n",
        "val_loss=hist.history['val_loss']\n",
        "train_acc=hist.history['acc']\n",
        "val_acc=hist.history['val_acc']\n",
        "xc=range(4)\n",
        "\n",
        "plt.figure(1,figsize=(7,5))\n",
        "plt.plot(xc,train_loss)\n",
        "plt.plot(xc,val_loss)\n",
        "plt.xlabel('num of Epochs')\n",
        "plt.ylabel('loss')\n",
        "plt.title('train_loss vs val_loss')\n",
        "plt.grid(True)\n",
        "plt.legend(['train','val'])\n",
        "#print plt.style.available # use bmh, classic,ggplot for big pictures\n",
        "plt.style.use(['classic'])\n",
        "\n",
        "plt.figure(2,figsize=(7,5))\n",
        "plt.plot(xc,train_acc)\n",
        "plt.plot(xc,val_acc)\n",
        "plt.xlabel('num of Epochs')\n",
        "plt.ylabel('accuracy')\n",
        "plt.title('train_acc vs val_acc')\n",
        "plt.grid(True)\n",
        "plt.legend(['train','val'],loc=4)\n",
        "#print plt.style.available # use bmh, classic,ggplot for big pictures\n",
        "plt.style.use(['classic'])"
      ],
      "execution_count": 21,
      "outputs": [
        {
          "output_type": "display_data",
          "data": {
            "image/png": "[encoded data removed]",
            "text/plain": [
              "<Figure size 504x360 with 1 Axes>"
            ]
          },
          "metadata": {
            "tags": []
          }
        },
        {
          "output_type": "display_data",
          "data": {
            "image/png": "[encoded data removed]",
            "text/plain": [
              "<Figure size 560x400 with 1 Axes>"
            ]
          },
          "metadata": {
            "tags": []
          }
        }
      ]
    },
    {
      "cell_type": "markdown",
      "metadata": {
        "id": "wfd1BpS78GH9",
        "colab_type": "text"
      },
      "source": [
        "## Test On some real data"
      ]
    },
    {
      "cell_type": "code",
      "metadata": {
        "id": "IRjFg65a8yzG",
        "colab_type": "code",
        "colab": {}
      },
      "source": [
        "# graphics utils\n",
        "from IPython.core.display import display, HTML\n",
        "from PIL import Image\n",
        "from io import BytesIO\n",
        "import base64\n",
        "import numpy as np\n",
        "\n",
        "def img_to_display(filename):\n",
        "    # inspired on this kernel:\n",
        "    # https://www.kaggle.com/stassl/displaying-inline-images-in-pandas-dataframe\n",
        "    # credits to stassl :)\n",
        "    \n",
        "    i = Image.open(filename)\n",
        "    i.thumbnail((200, 200), Image.LANCZOS)\n",
        "    \n",
        "    with BytesIO() as buffer:\n",
        "        i.save(buffer, 'jpeg')\n",
        "        return base64.b64encode(buffer.getvalue()).decode()\n",
        "    \n",
        "\n",
        "def display_result(filename, prediction, target):\n",
        "    '''\n",
        "    Display the results in HTML\n",
        "    \n",
        "    '''\n",
        "\n",
        "    type_image = 'Unknown'\n",
        "    max_val = max(prediction)\n",
        "    \n",
        "    index = -1\n",
        "    for i in range(len(prediction)):\n",
        "      if abs(prediction[i]-max_val)<0.001:\n",
        "        index=i\n",
        "        break\n",
        "    if index==0:\n",
        "        type_image=\"Rose\"\n",
        "    elif index==1:\n",
        "        type_image=\"Daisy\"\n",
        "    elif index==2:\n",
        "      type_image=\"Tulip\"\n",
        "    elif index==3:\n",
        "      type_image=\"Sunflower\"\n",
        "            \n",
        "    display_html = '''\n",
        "    <div style=\"overflow: auto;  border: 2px solid #D8D8D8;\n",
        "        padding: 5px; width: 620px;\" >\n",
        "        <img src=\"data:image/jpeg;base64,{}\" style=\"float: left;\" width=\"200\" height=\"200\">\n",
        "        <div style=\"padding: 10px 0px 0px 20px; overflow: auto;\">\n",
        "            <h3 style=\"margin-left: 50px; margin-top: 2px;\">Predict is: {}</h3>\n",
        "            <p style=\"margin-left: 50px; margin-top: 5px; font-size: 16px\">Real Target: {}</p>\n",
        "            <p style=\"margin-left: 50px; margin-top:  10px; font-size: 12px\">Predict {} is Rose.</p>\n",
        "            <p style=\"margin-left: 50px; margin-top: 12px; font-size: 12px\">Preidct {} is Daisy.</p>\n",
        "            <p style=\"margin-left: 50px; margin-top: 14px; font-size: 12px\">Predict {} is Tulip.</p>\n",
        "            <p style=\"margin-left: 50px; margin-top: 16px; font-size: 12px\">Predict {} is Sunflower.</p>\n",
        "            <p style=\"margin-left: 50px; margin-top: 28px; font-size: 12px\">Filename: {}</p>\n",
        "        </div>\n",
        "    </div>\n",
        "    '''.format(img_to_display(filename)\n",
        "               , type_image\n",
        "               , target\n",
        "               , \"{0:.2f}%\".format(prediction[0]*100,2)\n",
        "               , \"{0:.2f}%\".format(prediction[1]*100,2)\n",
        "               , \"{0:.2f}%\".format(prediction[2]*100,2)\n",
        "               , \"{0:.2f}%\".format(prediction[3]*100,2)\n",
        "               , filename\n",
        "               )\n",
        "\n",
        "    display(HTML(display_html))"
      ],
      "execution_count": 0,
      "outputs": []
    },
    {
      "cell_type": "code",
      "metadata": {
        "id": "Yy00vVjJ-Jss",
        "colab_type": "code",
        "colab": {
          "base_uri": "https://localhost:8080/",
          "height": 153
        },
        "outputId": "dd348d23-cb86-45a1-d056-cfe986e29011"
      },
      "source": [
        "#data test\n",
        "import random\n",
        "import numpy as np\n",
        "\n",
        "\n",
        "data_test=[];\n",
        "real_result=[];\n",
        "\n",
        "#add flower\n",
        "for i in range(2):\n",
        "  filename=random.choice(os.listdir(\"data/sunflower\"));\n",
        "  src=os.path.join(\"data/sunflower\",filename);\n",
        "  data_test.append(src)\n",
        "  real_result.append(\"Sunflower\")\n",
        "  #add\n",
        "  filename=random.choice(os.listdir(\"data/tulip\"));\n",
        "  src=os.path.join(\"data/tulip\",filename);\n",
        "  data_test.append(src)\n",
        "  real_result.append(\"Tulip\")\n",
        "\n",
        "  filename=random.choice(os.listdir(\"data/daisy\"));\n",
        "  src=os.path.join(\"data/daisy\",filename);\n",
        "  data_test.append(src)\n",
        "  real_result.append(\"Daisy\")\n",
        "\n",
        "  filename=random.choice(os.listdir(\"data/rose\"));\n",
        "  src=os.path.join(\"data/rose\",filename);\n",
        "  data_test.append(src)\n",
        "  real_result.append(\"Rose\")\n",
        "\n",
        "data_test"
      ],
      "execution_count": 65,
      "outputs": [
        {
          "output_type": "execute_result",
          "data": {
            "text/plain": [
              "['data/sunflower/20406385204_469f6749e2_n.jpg',\n",
              " 'data/tulip/5718512892_a175a94c45_n.jpg',\n",
              " 'data/daisy/34637970155_a2b917077c_n.jpg',\n",
              " 'data/rose/22325299158_6e32e599f8_m.jpg',\n",
              " 'data/sunflower/5028817729_f04d32bac8_n.jpg',\n",
              " 'data/tulip/17224410762_402455ed8f.jpg',\n",
              " 'data/daisy/34695914906_961f92ffcd_n.jpg',\n",
              " 'data/rose/12406418663_af20dc225f_n.jpg']"
            ]
          },
          "metadata": {
            "tags": []
          },
          "execution_count": 65
        }
      ]
    },
    {
      "cell_type": "code",
      "metadata": {
        "id": "Fw00CKwY-tFt",
        "colab_type": "code",
        "colab": {
          "base_uri": "https://localhost:8080/",
          "height": 1000
        },
        "outputId": "4d9027ad-e653-4e53-9f5d-a17cb37f9359"
      },
      "source": [
        "\n",
        "import numpy as np\n",
        "from keras.preprocessing import image\n",
        "\n",
        "for i in range(len(data_test)):\n",
        "  img_path = data_test[i] # image name\n",
        "  img = image.load_img(img_path, target_size=(224, 224)) # load image\n",
        "  x = image.img_to_array(img) # convert image to array\n",
        "  x = np.expand_dims(x, axis=0) # expand dimension\n",
        "  x = preprocess_input(x)\n",
        "  predict=custom_vgg_model2.predict(x)\n",
        "  #print(predict)\n",
        "  #print(\"{},{}\".format(predict[0][0],predict[0][1]))\n",
        "  display_result(img_path, predict[0], real_result[i])"
      ],
      "execution_count": 66,
      "outputs": [
        {
          "output_type": "display_data",
          "data": {
            "text/html": [
              "\n",
              "    <div style=\"overflow: auto;  border: 2px solid #D8D8D8;\n",
              "        padding: 5px; width: 620px;\" >\n",
              "        <img src=\"data:image/jpeg;base64,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\" style=\"float: left;\" width=\"200\" height=\"200\">\n",
              "        <div style=\"padding: 10px 0px 0px 20px; overflow: auto;\">\n",
              "            <h3 style=\"margin-left: 50px; margin-top: 2px;\">Predict is: Tulip</h3>\n",
              "            <p style=\"margin-left: 50px; margin-top: 5px; font-size: 16px\">Real Target: Sunflower</p>\n",
              "            <p style=\"margin-left: 50px; margin-top:  10px; font-size: 12px\">Predict 0.86% is Rose.</p>\n",
              "            <p style=\"margin-left: 50px; margin-top: 12px; font-size: 12px\">Preidct 0.00% is Daisy.</p>\n",
              "            <p style=\"margin-left: 50px; margin-top: 14px; font-size: 12px\">Predict 99.14% is Tulip.</p>\n",
              "            <p style=\"margin-left: 50px; margin-top: 16px; font-size: 12px\">Predict 0.00% is Sunflower.</p>\n",
              "            <p style=\"margin-left: 50px; margin-top: 28px; font-size: 12px\">Filename: data/sunflower/20406385204_469f6749e2_n.jpg</p>\n",
              "        </div>\n",
              "    </div>\n",
              "    "
            ],
            "text/plain": [
              "<IPython.core.display.HTML object>"
            ]
          },
          "metadata": {
            "tags": []
          }
        },
        {
          "output_type": "display_data",
          "data": {
            "text/html": [
              "\n",
              "    <div style=\"overflow: auto;  border: 2px solid #D8D8D8;\n",
              "        padding: 5px; width: 620px;\" >\n",
              "        <img src=\"data:image/jpeg;base64,/9j/4AAQSkZJRgABAQAAAQABAAD/2wBDAAgGBgcGBQgHBwcJCQgKDBQNDAsLDBkSEw8UHRofHh0aHBwgJC4nICIsIxwcKDcpLDAxNDQ0Hyc5PTgyPC4zNDL/2wBDAQkJCQwLDBgNDRgyIRwhMjIyMjIyMjIyMjIyMjIyMjIyMjIyMjIyMjIyMjIyMjIyMjIyMjIyMjIyMjIyMjIyMjL/wAARCACEAMgDASIAAhEBAxEB/8QAHwAAAQUBAQEBAQEAAAAAAAAAAAECAwQFBgcICQoL/8QAtRAAAgEDAwIEAwUFBAQAAAF9AQIDAAQRBRIhMUEGE1FhByJxFDKBkaEII0KxwRVS0fAkM2JyggkKFhcYGRolJicoKSo0NTY3ODk6Q0RFRkdISUpTVFVWV1hZWmNkZWZnaGlqc3R1dnd4eXqDhIWGh4iJipKTlJWWl5iZmqKjpKWmp6ipqrKztLW2t7i5usLDxMXGx8jJytLT1NXW19jZ2uHi4+Tl5ufo6erx8vP09fb3+Pn6/8QAHwEAAwEBAQEBAQEBAQAAAAAAAAECAwQFBgcICQoL/8QAtREAAgECBAQDBAcFBAQAAQJ3AAECAxEEBSExBhJBUQdhcRMiMoEIFEKRobHBCSMzUvAVYnLRChYkNOEl8RcYGRomJygpKjU2Nzg5OkNERUZHSElKU1RVVldYWVpjZGVmZ2hpanN0dXZ3eHl6goOEhYaHiImKkpOUlZaXmJmaoqOkpaanqKmqsrO0tba3uLm6wsPExcbHyMnK0tPU1dbX2Nna4uPk5ebn6Onq8vP09fb3+Pn6/9oADAMBAAIRAxEAPwDgIpWikW4EqsWUEqRT4NKury7Fz5UrluQMcVoeF9Nt9U1dftEn7hMlm9T/AIV69ZxabZARxXKFvQ9hXgV8T7J8q3MUpHA6N4fn1OWMTyNFtIyxHIFbQ8F29vqs0y6k2xhxvTOPxrrUhtYY5CtyrM3zdqjk1a2ht9sjh8DptrmWLutEGqWphx+HLZLZza6pIxPLhVyGNV9JtzBaqUmbZ5uH3DkDPNb9vrVmF2fLGedrbeK5DWL+Wxu1iiljkVsuCvrW1NuorMqGuhveIZNFeWFJnLnGBt6g1lW/9nT+IBaRQs1naoCIx/FIf8K5yCwvNau5bvT1a6+zx75AWwFc9BVzwdLr0UNzDHppkv8AO+XeNrDnjrSqNQi0mm152N1T2vfXyOw1y3t7LRp3tLGM3RQ7VPXca5rwn4aa+0Tz9WaUXgkO7c2SPoa27G516ecx3mjTI7HarOwIP4ir6W+urOkMmnEIT95GDKPrXO8bOEPZxSv6ouOHUnvb5D5o2gaFXi+0oBhSRyKinivH8uQWhGDxjoa110rVpISrCGNgcgZ5p7aFqrRRxG6TdjJOcAVzKpUk9bfiday6j9qqjiYdI1DVdQntpIGgcn5XfhRnvmmah4Q13w0sVxpmrJdXErfvIUUEKPUZrqDZa7HKbd1LKTgOOQRTf+EduVkEkUziRAfuN19q9Khi/ZQcdNfP9DX+y6S/5ery6lci+voYBexysq4O3OFz9KvDRIn3BoflIzjdRb6Dd3Ns5mlnWXOeXwK04/Dl1F5cqXBcH+Ek1jGXvO0r+hH1HD021Krf5NGHcaDbSNHtcROh5ye1V4dL02HVWR3DxuuW56Gtifw3cmRvPYyMzcBO1Qrot5bw5eEnBwzNj5RXR7VvZ6+pr9XwKWsnf5mdeadpYikitYYhvP8ArCORWJdwyWM0X2S/AR+JCw4zWzrehXIhVUvWWNjlsDp+NcPqMGvQNtVftUAbAXGGP504pu6Oef8AZ0PdV5P1OwtLZEC3N3qjqGBOzA2msmTQ7C9eSWe/eRyTswBgj0qmuieJ92LpFiRSBtL7hg+mK6L/AIRcRaabiAy3MiwnfCkmCG7MtEpuGhrzYTm5XT+/f/gmUmi2MKi3WZzckggbegre8S2dqbGWdZz54jUBQf6VythZ60dTs9RmcrAJI4pctuIVj1/DNdrrQhXURp62plEjhXlHbNV70dtTknUoT/gwsmcn4p0ua61DQhDtHlQ5IHFFdbPoklwHubdyZEwiBuRx1FFZVIyk9DGdJPXlf3nBDw7bWMatDNIo44U/d9quiNVt+JHg55lPJNcI3ibVpbtSqCMEcJjqB3q5J4o1S5jS1u7LYkhBDDg7fUUpYLEytzO5rGtQ57qJ6BaalE8Hkqq/u+DI/BJpl1q1tbjypdkjnkBBnk+9YqajDa2qu6bomxkjkmpbDVLS6ulSO0KY5Qt3rh9gldvY92GXQck5tM2La+teEUASEdD2NLbX1iuoyo1mpnAGWC5z+NYevhUc3nRFXA29Wb0rmrbxReCJwqsJWOS23J+lbU8DKpFuJyV4Rp1eWNtO56ZZ+Jo7K+lhitokaVgZABj8/Wt+XxTDbIzRIruxBY9BivCoNS1W71K4vPOjUoAQXXHH0ouPFmq/aDAHRoDxuxgmqllE21JfPU45YmK0ktT1/V/HNq8tthTEwb5Qp5Jqx/wmN7HFC6eVgPmTPdf6V5LdNqT6dFH/AGbIxkXIdcsR71RtNc1C2tXR4ndlG3EnVR9K2/sifxLcSxUE+V2aPaovHMEt7ItsUcnBOWzVTUPGoe/SCEqZgcmOPk/jXhaTSw3L3FqWRs/Md2MVcivpLZ/MaYpLJnLg/MatZNfVSuv1M5Ylwe3vfoe5nxYV/eGZQUHKsR/Ks6y8Wyy6iVSQM0r8AnArxd7q42gRyFgvqfmNXrW+mnKq24PENy4PNQ8nik7O51UqyqJW09Uez6h4mi86NJJngZJNsgzkAevvXU/8JBGI7ZY5EcP91hXjNhpsmuad9uRwZVyChbHIrU0XWGtUjWWQTQINu4jhGrSnlTg9G1ft1Mqs+l00uuv4o9Pm1Typ0lkk2KwJ56nFXbbVI7yE7sYIzjrn61wuoapby6Moc750+cEdh7Vhz+N7bSNOV4WUG4bbvPb61Syudr03yu+t9mZRnGTa3t5f1+J3un6tpXiO4uIbaXJgcxyRe4OKS7XSk1GPTJ5UMpTeisedv+RXm/hq8bw7Je6xb4niumDvt+Ykk84xVn/hLbTUPG0V89qNyw+UJSDheScH862nl8lUtf3bd+tjFwi36nb3s1lY6hZxht8VwxU87sYFaSRhJGW2eHA+9GTgsD6V5NY+OEm8VahCkSpFFuCM3Py9yPxrp9R8R2l74cDARvcRLlJUbD4HPbrXTQwfJaUrO3437+hcowjK/wCO528WnQJeobRAYZVy4xkDHSrH9m/6Q0irGG3BuetcR4a8dWmqRR20cgj8wBFlm+Xacever3nGDVI7I6l5M8zBw4fcNvfFCwUU9Fv2/roVB+z/AK/r8DqV0to42ZH2FnLGMe9FYV8upfa0vo9VkuIbYcpCo+YehHrRSeFoN63T9Q5PaaqX3nzzb7rqMeY5aZl2qRxtGafHdXNtqAkRxcNGPKBkG4AVRuLa5s7hFVsFWBJB4xWhFe21rICQpLn5gOmD1rssmtjiqRqwqXirO5pnUX3GCRVdBhuBjk+lNtr+Sa5ktwjxBeS2cFh7ViXU8Kb/ACNx3N8pJ6A1LaXEo3zO+5kj2q3qK5ZYak23ynXUxeIhSi1UuaM93NaXkTwOZN2RFETnBPc1Xn/tPw9LHf3URDHJA6g1SW9Y3RhEqoFXzDIRn5uwqG71fU9VO26GEQbQD6murlhDVaGFKMpNXd3uaVx4kGqq/wC4Ac4GcY4qO000XlpLdtcxL5TEBD1NZ32ZLYYSTcQMOB61UP2iF0w7iPJbaOhrS5lOScmp6G7B4v1LTNqySs8CttXaeQKnt/FcFpqkV01uZhMB5uVBI57VzjRtJb8qWMjAAY5qWaE28a/umjljx8rDBqfaeZtGu+TVep1k9rpvibXIk02H7EjjdM0jfmfrR4u8KL4da2uLe8iubedcAt94N9PSsSHRdeuY4rqws5yrjG9R1H+HvWrqdtfCOJ9TDKkEJSMZDZY/Ss3Wg/dTV+1zflil7Wz83bp0ZXv/AArqMFlBf27iVZlB2qOT9KnGq2GlW8M1jZu9ztxMjng+tSHXtR8jSzDBveOExxID09zWZdWskytO52yN85A9e9XzKOqMqtZRt711cQeJNSh1JriAqkBIcwr93OMdK1tM1hNNlL377nuXLOq/w+mRXN2wSW5K7lQMwBc9q2dL0/SINfZNYuFnt2jwCG4z60KTdrk06jqTSa0NXWL8XF5b39lfPtKhDEnp7iqmrQyRT2Ny5S4t4n8xl24X6GqOtfYtB1WC40K4863BDBGOQPY1bTxBqOqaLcIdNUwM33yP0FE6al8h88oxcYSsu3zNux8UaVFalrFQjuxH2de7H+lUpLi5mW8thpkscMj7pGjO7BFcRbReX5jhNnOd30qWDxNqVm3lW8rMr+9DkpbmalGc7bep076rpdnqcD6XZgvMQkpf+E9CK3ZIp1vIfLs4FjPyu6HJX2rkbKxt9XjcwzyQ6njeQ5/dlv6VettG8WWKtO8kUgjJkK+bndgdvesliKTvCTsdKwtScbrZ9Vr/AFY2dThaHWmtRZ77VI1xtH3TnOab4o1bSTrVszW0jeXH8jw5BLAdK0rO7mubGK4vgqzSICR/dHYVm3d7ZXMuyNCXQ/JIRxmvPWLUarUVdL+rndHKpexU0/es9OnkdHYa/f6UsV3GJXimi3SQKN3lADv+FFcoE1Lw+8Fxd6kj22oRSTRRqOWKjhT7UV6sa9NxXU8ipUUXZ6nEvOd0Ls3yPklSc8+9StbJ9lWZiSjkiQf3TVdxD5qeYmdi/madBdpFI73PzxvnK+nHBpq1rmMpSklK4jxkIsayZ8s5U+taMTrLAsZKoMfNj3qL/hGtUs4lu5IWkgkwSU+YqD6jr3qa50+7hnkU2lxtC/eETbcfXFc3tIyWkka16bTSjBr7zLeL7PPwwOTwTV2y0mS+ecwTgCNgHZjwR7e9aNp4Wv8AUJ4J54WitGI/eE4JHsPWuzXTraCIRwQpGh5wB3rlr4xQXLHVv8Dty7ASrS56l1H8WeeXlodPMqjlgeGPf3quZkmYLNyU4XB7V6JLpcc5ZfLXO0jkZzx0NYl7o2niFF8ra4II2cZ9j7UUsxTVmtTetks3KUqcl6P/ADKnhS2M+qCZo28mFSysRwx6V3d3ZWWoxwi5t45fLcOpYdMdvcHuPauf0c+RcgMCEZdvsK6JVKOV9RxXmYmvJ1ObY9ChhIUKbpPXqI8riYbSQR6U+RRLCPNRdwx8wGCR71Ru7hrcjbwzZ59BVddVk+7MpZeMtnn8KzcG1ZHTGSDWNLt7lrdhdNaTIxPmKudynsf8fauEl1He0QHAwVbnqa7xGWfUEkcgxAgj6DtUmtabp2pWoaaAKQ2UeNdpz+HUV2YbEypRUJ6r8jgx+XfWHzU9GvxPOpLOWxhS6YKwc54Pb0pskMMkqK6DYoyMmtG/0m9WRTKm6GMDG1sg+hFdXpvh2GytFnuoVkvHGcMMiIeg9/U16NfERpJTfXbzPDweCrYio6a0tv5f8E8+aPzLYIo2hH7+lS24uI0leK4kWEADYG4zXf3lhBcxtHLGGU9QOKx5vD8AicW6CF2HQE7SfpWFPMIPfQ9GtkmIhd0pJr7mcbLdCSERKhUIPmyfvGq1vBsxIzYY9BWpa6HqOp3MsNvAN0R2uGcLz6c9az5oZIpHVl2ujbXB6jHau2M1LY8n2cqavOLVzSsNQbTtWSVCNp+UhhwRXfWuvwNF88ckangAHcBXndjNbjUUaaASx9AprRi1XZJMskO2Hf8AIy+lcmKwzqe9Hc7sDmHsIulLY6vUb23nTbby7lYcjGMVnRRKmWzgZ4rIXXLIkKrNkucfLVu8121tolEELSlRwW4FcSw9SK5VFnrLM6Sa5pFjWTpUkcc9zPfM8a+XEEPyp67VNFcpqWpz3k3mXDfLt2qijAFFejTpNRSk9TxMRXpSqN04K3mtX+IkoR7VJDgkYC1YtPD99qciBIwkR/5ayHavvj14pkNk8KpFeKyo671wO/pW/wCE2Mv9oKzHYpUIhPABzWlerKlTcl0OfCwjUqKMtjsbM+SiwB9xjG1WPUqO9Sm5ngbCsdvbBrmi8sEuFY4B4Ga17a9E8YR/v44PrXz8qbTufWRcGi0LqTdtL/Ke3anbw7box07VXERdqmjUq2O1TNcuolJp3iWI0x8wPJrINsssrtJwdzbABktg4OfatKe7Fvb/ACDMh4X2P/1qwrPVLMvO5mBji4Z88MR1Aq8Onfm6EYmuoNXZfitgp5HWtOC4idfL35ki5wepXpXMya6t3DO1tmMqPleQYz9BXOLrt1BM7yKWkQ43A8EGuxYGVaL5tH0/rscOJzOCS5NTs71t84PXAxVSRWGMjINYtv4ptwY0uQyY4L9R7Vrw6ja3A3iePYOrFhgVlOjUpv3kTTxkZJO5ctUbKAHBJGKsX9wGKwKAFjYgY9MCsafxHaWtwYoSZZ8cYHyqPr3P0p1tMbhnYuSWO4E+tH1eryOo1ZI7aGYUnUVK+r+4lZpF+43yk/dbkZ9q1LHU2uH8i5IL4+RvX2rOZd0ZxzjrVYlkcMp5zmsuVTVj0OdRZuyndKAO1RMpOcjpUUtxjTvtC/ff5V+ves9b6SJySpkB6gnGazjBs6JVookRmF95kfBOc4+mKw9e8O6hfXb3Vikbo+N2XAJbHP51tw3dsQQY5BJ2GcgD+tacMpMKsr4XOTntXVCrKk7o8/E0YYmNp7Hkqx3V1KEgjbK/eVeoqeS7uIIjaOMs3Zx0pYWZb67v4QxQO7IAcE5JNPY/bGjmkxvH3s96929o3PjZ2U7LVIjhi2SwSZwij5zUl08fnCQjap5wPSopy1ujwhsqxwD60B1kVVZuNnX0NSK7KV3cmSfAGBniitCG0tpctvMrn7nt60U7pF+iBtRmubqNpZCUCn862dBvhaXMrnOzbhwPTPX8K5iUOkhYrtViSPbmtHSrry79HI+U8MKicFKLi+pKbg1KPQ7+4jSULIhBUjcCOhFNhBUhhxg1iRan/ZzNFy9uSWUDqn0rTXUINiFmC7wCA1eTUoSgrbo9ahjVJb2NmKbHfrU+7KZz+NcxLr1rBdfZt5aQckKM4q1FrdvfwXAgl2CFcFu5Y9h7D1rCVCpK1kdH12nC8mzK8Y6o9vbtDBOOMK+3qM9s/SsPS7D7eFvILpUCDDRt0PqMU6KzKQeVcFWeaZmJY5z/APXqK3sEs3lmjMjRbtuB0r2MPSjTp8h4+IxDrTci9duoiKKSpU4z61WntrhtMS5Ty2eV9uw9wO9KkZvHEf3G5yT0A9akSUtbRB+FToB6VovdWhzJtIzEsmULHIuSDmTHYnoK0/sEkFvEYJAY3Q5DDgEVLasI7WdnbLz4OCOlRBLkwSkM/lKc9OBSTb3HzFeJcTB5CCyqc06TUbnIlt28tYcMFHGfrVGHzJZsqec4xV4WiSWjYBEuSAAetXK1rMItxlc7XRruLVrQSINrsuHQ9j/hTjGpyuMHFcQ9xcaLcRmObbOqggr0A9D61p2viB5Yj9pIUSA/MO1eVPByi24ao9qjmd0lU3NsStJGsYY+VGxIHqT3qs4Yy7egHX3p1pd2kkCeTPGw/wB6pt8CRtLJKiqOSxPArGzj0OtYqMtbkYQryO/bPNZmta69rZmxteZHJ8x+yg9vrVTU/ESSSGG1JEJGDKBhvw9KzTGJLZdrDEeSxPcV20MK/jqfccuLzNpezp/N/wCRnPIy9TtHU1Zt5EltBJyNuc461I1uL7dGMEKMlhUNjE0VvdAg7QBtPrmvQlax4qta/UdfSpPBboMhIxgMRz+NQ2oVo2ZTnaelWLiICyZcfMCrkntVZnSGVPKHDcY9aIu6C90XDdg3nnIgjGANqiimNbNCod+SSQcdv8iipeor20Q1VlmaNWTcoG0rjpU0Vq9pqnkSsp4IJHTkcVJDKY1F2fvAMxHrSGRpmW7kjwzckkUmwv0J7wj7HCrEb2IWtG8kjht4YI5drptCn1NZt3bC4ht5A+AXJI7gCmRt/wATDzZzxGvyJnknHFF0RbQJY0n1yAE+X5o8t2/rVrWbq3trwR20YASMJxxnFZiSF3S4fnbIoxUl75P2hYVctKSFZuwNSlqadLFu8K39raSbdnzYGO2BSfbBEI4LdiYw2ckY3GmNtOlMYiWME2FI/nUZMZjWXbheB+dOHX5kMja+kjaQRqMONrEdqlEubUrxhfl96RUUxSgLlu/vUJOLQnoWbpQ9dB+Rbiud0BQDJXk/4Vox6iv2dLDyyZGJaTb0FZblUDmMALt6fhVazuJF5QZaRsE96FZi5bnRTWcdvamK3VdzEEEDk5qnqMB0udEVt8m0Nx0zT7NyjTQrMWMI3AH+Gs66u5prpnmwWUYwKV29GCSsxRbm6fz7gEu3RPSm3CiPcqqAoFNF28VozsSPRjUZmJtA79/WrlZKyBJt3ZGIvLgAVRv65qdLxyI25PO2QHpiqouPNYHsDzVoaY7ZlDqVwWOOg9BQ0VZvcrXBAlcqABngVPbwvKpY5EZ492NJD5Zk3ygFM5we9T3U8kTBlwTnCqPSmthNu9kJKVsb0RrhlfBkx79angeIpcugAiDfL9KpzkSorEEM1K7BbIQRfxtj61Dvaw3qKmJreV5OBJk/QDpVYwlruNjgqASCK0EVVgbI3KFxgVTiiaS4eKPI2rnmnF2QK99B4dvsd4G5+ZWHtiilgVpJmgUfNJCxP4c0VSV9RppbjxF5ilD90DBHrzWp9kRrcqzYwBz/ACrRstN0+/sUuIZnK5IJHBB96pyq9x9ogtZEZlQKRnn8qUotpJGV9StdJbWcUAjJLLBmRs9W3ccVn3lrFBdxPFKZRKhJP91u9RXzPLF5bDYxIzuHPB5FXtPubGK0njuYi0rcxv6A9h+NSk0aXsrlKOIm0nct90qcfjVC5zHdFm7tnmtyy8ttN1GJyBIFDID1PPNZVzZT3jBo1ICr1PTFOG401fUuWUJuJPsokKBwW47NjimSKYk8pgSpAGT61XWV4t8iN8yjg9afPdzRyedE+EcZKdQpxyKadmJxbLKyBZVkH3W4b+tJMRFtRu+elVYpM5U9G+Yexq75i7oiwyS3H4Cp2aE0NC4wnouOfpUVmWJdjGFCntwCPWplIMjFjgAEk0+1aMuI4iXQoQWPanBO1xN6A6yW489mXdM+3KjkqfWpHaCSc5AJ2YYHsahnuC37qABiuTuPbHpVFx5rBlZsHofrTaBa7lhoBcljLPEQo+WMNj86hvQFCxoMKD0qO1iV76d9xXYcADuafcsQxYEAqaTaukXaxGOLcupwCcEeuK0NOlluXWFeABubPYVli6e4VhJj5emBirlg5W+C5wGTDY9Kpq7B3SZaewljRtzAHnacZyKis4PtILknCDn61s3MsdpbKFPygY3Mc81l2rRxyzIj8P8ANtPY0+tjJPQjurZ28mOI/MzbG9h61LPCq3RWPhYwFHHt1qSCVftrk9CMCo55lW4lkPAxn8al/AVd3sEhb7O6IUBYYG7pVWK4KbJMEleGxVSWZppgCflHJAqJJSku3PBotpYtRNfSZkOtwBuGfcg9sjiiqBWSGeOcNjADIR2IoosTKN9jZ064kt0voIjtjK7se9Raeg89rvJ83JXOe1FFK7UEyXuwvn3hiyqck549qoRgMozziiiq+0OOw9z++z0zij7VKu6AEbNgPuKKKmO5TRAn8zUQ/wBfIv8ACe34H/CiimUhcfKtXE+aGEnqHz+hooqJEsSZitvOR1CGm2h8vTQycF8ljRRWkNmJ/D8yO2JVmI7qM0W5/e47bqKKJfCBLAgS4cr3+b8c1SnkbPXqxJooqV8ZcdxTK5tNhxtDZHApyEiZiD2FFFUgewkkjvPkseF4GeKfaMTOvP8AnFFFU9xPYs5IVSDzVOWV3I3HPeiio6hEdYRLNcur5xsb9AaqLzNHmiiqL6l9P3kqK3ILAY9qKKK0itDCTP/Z\" style=\"float: left;\" width=\"200\" height=\"200\">\n",
              "        <div style=\"padding: 10px 0px 0px 20px; overflow: auto;\">\n",
              "            <h3 style=\"margin-left: 50px; margin-top: 2px;\">Predict is: Tulip</h3>\n",
              "            <p style=\"margin-left: 50px; margin-top: 5px; font-size: 16px\">Real Target: Tulip</p>\n",
              "            <p style=\"margin-left: 50px; margin-top:  10px; font-size: 12px\">Predict 13.58% is Rose.</p>\n",
              "            <p style=\"margin-left: 50px; margin-top: 12px; font-size: 12px\">Preidct 0.00% is Daisy.</p>\n",
              "            <p style=\"margin-left: 50px; margin-top: 14px; font-size: 12px\">Predict 86.42% is Tulip.</p>\n",
              "            <p style=\"margin-left: 50px; margin-top: 16px; font-size: 12px\">Predict 0.00% is Sunflower.</p>\n",
              "            <p style=\"margin-left: 50px; margin-top: 28px; font-size: 12px\">Filename: data/tulip/5718512892_a175a94c45_n.jpg</p>\n",
              "        </div>\n",
              "    </div>\n",
              "    "
            ],
            "text/plain": [
              "<IPython.core.display.HTML object>"
            ]
          },
          "metadata": {
            "tags": []
          }
        },
        {
          "output_type": "display_data",
          "data": {
            "text/html": [
              "\n",
              "    <div style=\"overflow: auto;  border: 2px solid #D8D8D8;\n",
              "        padding: 5px; width: 620px;\" >\n",
              "        <img src=\"data:image/jpeg;base64,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\" style=\"float: left;\" width=\"200\" height=\"200\">\n",
              "        <div style=\"padding: 10px 0px 0px 20px; overflow: auto;\">\n",
              "            <h3 style=\"margin-left: 50px; margin-top: 2px;\">Predict is: Daisy</h3>\n",
              "            <p style=\"margin-left: 50px; margin-top: 5px; font-size: 16px\">Real Target: Daisy</p>\n",
              "            <p style=\"margin-left: 50px; margin-top:  10px; font-size: 12px\">Predict 0.01% is Rose.</p>\n",
              "            <p style=\"margin-left: 50px; margin-top: 12px; font-size: 12px\">Preidct 95.69% is Daisy.</p>\n",
              "            <p style=\"margin-left: 50px; margin-top: 14px; font-size: 12px\">Predict 4.29% is Tulip.</p>\n",
              "            <p style=\"margin-left: 50px; margin-top: 16px; font-size: 12px\">Predict 0.01% is Sunflower.</p>\n",
              "            <p style=\"margin-left: 50px; margin-top: 28px; font-size: 12px\">Filename: data/daisy/34637970155_a2b917077c_n.jpg</p>\n",
              "        </div>\n",
              "    </div>\n",
              "    "
            ],
            "text/plain": [
              "<IPython.core.display.HTML object>"
            ]
          },
          "metadata": {
            "tags": []
          }
        },
        {
          "output_type": "display_data",
          "data": {
            "text/html": [
              "\n",
              "    <div style=\"overflow: auto;  border: 2px solid #D8D8D8;\n",
              "        padding: 5px; width: 620px;\" >\n",
              "        <img src=\"data:image/jpeg;base64,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\" style=\"float: left;\" width=\"200\" height=\"200\">\n",
              "        <div style=\"padding: 10px 0px 0px 20px; overflow: auto;\">\n",
              "            <h3 style=\"margin-left: 50px; margin-top: 2px;\">Predict is: Rose</h3>\n",
              "            <p style=\"margin-left: 50px; margin-top: 5px; font-size: 16px\">Real Target: Rose</p>\n",
              "            <p style=\"margin-left: 50px; margin-top:  10px; font-size: 12px\">Predict 100.00% is Rose.</p>\n",
              "            <p style=\"margin-left: 50px; margin-top: 12px; font-size: 12px\">Preidct 0.00% is Daisy.</p>\n",
              "            <p style=\"margin-left: 50px; margin-top: 14px; font-size: 12px\">Predict 0.00% is Tulip.</p>\n",
              "            <p style=\"margin-left: 50px; margin-top: 16px; font-size: 12px\">Predict 0.00% is Sunflower.</p>\n",
              "            <p style=\"margin-left: 50px; margin-top: 28px; font-size: 12px\">Filename: data/rose/22325299158_6e32e599f8_m.jpg</p>\n",
              "        </div>\n",
              "    </div>\n",
              "    "
            ],
            "text/plain": [
              "<IPython.core.display.HTML object>"
            ]
          },
          "metadata": {
            "tags": []
          }
        },
        {
          "output_type": "display_data",
          "data": {
            "text/html": [
              "\n",
              "    <div style=\"overflow: auto;  border: 2px solid #D8D8D8;\n",
              "        padding: 5px; width: 620px;\" >\n",
              "        <img src=\"data:image/jpeg;base64,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\" style=\"float: left;\" width=\"200\" height=\"200\">\n",
              "        <div style=\"padding: 10px 0px 0px 20px; overflow: auto;\">\n",
              "            <h3 style=\"margin-left: 50px; margin-top: 2px;\">Predict is: Tulip</h3>\n",
              "            <p style=\"margin-left: 50px; margin-top: 5px; font-size: 16px\">Real Target: Sunflower</p>\n",
              "            <p style=\"margin-left: 50px; margin-top:  10px; font-size: 12px\">Predict 0.00% is Rose.</p>\n",
              "            <p style=\"margin-left: 50px; margin-top: 12px; font-size: 12px\">Preidct 0.00% is Daisy.</p>\n",
              "            <p style=\"margin-left: 50px; margin-top: 14px; font-size: 12px\">Predict 100.00% is Tulip.</p>\n",
              "            <p style=\"margin-left: 50px; margin-top: 16px; font-size: 12px\">Predict 0.00% is Sunflower.</p>\n",
              "            <p style=\"margin-left: 50px; margin-top: 28px; font-size: 12px\">Filename: data/sunflower/5028817729_f04d32bac8_n.jpg</p>\n",
              "        </div>\n",
              "    </div>\n",
              "    "
            ],
            "text/plain": [
              "<IPython.core.display.HTML object>"
            ]
          },
          "metadata": {
            "tags": []
          }
        },
        {
          "output_type": "display_data",
          "data": {
            "text/html": [
              "\n",
              "    <div style=\"overflow: auto;  border: 2px solid #D8D8D8;\n",
              "        padding: 5px; width: 620px;\" >\n",
              "        <img src=\"data:image/jpeg;base64,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\" style=\"float: left;\" width=\"200\" height=\"200\">\n",
              "        <div style=\"padding: 10px 0px 0px 20px; overflow: auto;\">\n",
              "            <h3 style=\"margin-left: 50px; margin-top: 2px;\">Predict is: Tulip</h3>\n",
              "            <p style=\"margin-left: 50px; margin-top: 5px; font-size: 16px\">Real Target: Tulip</p>\n",
              "            <p style=\"margin-left: 50px; margin-top:  10px; font-size: 12px\">Predict 0.00% is Rose.</p>\n",
              "            <p style=\"margin-left: 50px; margin-top: 12px; font-size: 12px\">Preidct 0.00% is Daisy.</p>\n",
              "            <p style=\"margin-left: 50px; margin-top: 14px; font-size: 12px\">Predict 100.00% is Tulip.</p>\n",
              "            <p style=\"margin-left: 50px; margin-top: 16px; font-size: 12px\">Predict 0.00% is Sunflower.</p>\n",
              "            <p style=\"margin-left: 50px; margin-top: 28px; font-size: 12px\">Filename: data/tulip/17224410762_402455ed8f.jpg</p>\n",
              "        </div>\n",
              "    </div>\n",
              "    "
            ],
            "text/plain": [
              "<IPython.core.display.HTML object>"
            ]
          },
          "metadata": {
            "tags": []
          }
        },
        {
          "output_type": "display_data",
          "data": {
            "text/html": [
              "\n",
              "    <div style=\"overflow: auto;  border: 2px solid #D8D8D8;\n",
              "        padding: 5px; width: 620px;\" >\n",
              "        <img src=\"data:image/jpeg;base64,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\" style=\"float: left;\" width=\"200\" height=\"200\">\n",
              "        <div style=\"padding: 10px 0px 0px 20px; overflow: auto;\">\n",
              "            <h3 style=\"margin-left: 50px; margin-top: 2px;\">Predict is: Daisy</h3>\n",
              "            <p style=\"margin-left: 50px; margin-top: 5px; font-size: 16px\">Real Target: Daisy</p>\n",
              "            <p style=\"margin-left: 50px; margin-top:  10px; font-size: 12px\">Predict 0.00% is Rose.</p>\n",
              "            <p style=\"margin-left: 50px; margin-top: 12px; font-size: 12px\">Preidct 100.00% is Daisy.</p>\n",
              "            <p style=\"margin-left: 50px; margin-top: 14px; font-size: 12px\">Predict 0.00% is Tulip.</p>\n",
              "            <p style=\"margin-left: 50px; margin-top: 16px; font-size: 12px\">Predict 0.00% is Sunflower.</p>\n",
              "            <p style=\"margin-left: 50px; margin-top: 28px; font-size: 12px\">Filename: data/daisy/34695914906_961f92ffcd_n.jpg</p>\n",
              "        </div>\n",
              "    </div>\n",
              "    "
            ],
            "text/plain": [
              "<IPython.core.display.HTML object>"
            ]
          },
          "metadata": {
            "tags": []
          }
        },
        {
          "output_type": "display_data",
          "data": {
            "text/html": [
              "\n",
              "    <div style=\"overflow: auto;  border: 2px solid #D8D8D8;\n",
              "        padding: 5px; width: 620px;\" >\n",
              "        <img src=\"data:image/jpeg;base64,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\" style=\"float: left;\" width=\"200\" height=\"200\">\n",
              "        <div style=\"padding: 10px 0px 0px 20px; overflow: auto;\">\n",
              "            <h3 style=\"margin-left: 50px; margin-top: 2px;\">Predict is: Rose</h3>\n",
              "            <p style=\"margin-left: 50px; margin-top: 5px; font-size: 16px\">Real Target: Rose</p>\n",
              "            <p style=\"margin-left: 50px; margin-top:  10px; font-size: 12px\">Predict 100.00% is Rose.</p>\n",
              "            <p style=\"margin-left: 50px; margin-top: 12px; font-size: 12px\">Preidct 0.00% is Daisy.</p>\n",
              "            <p style=\"margin-left: 50px; margin-top: 14px; font-size: 12px\">Predict 0.00% is Tulip.</p>\n",
              "            <p style=\"margin-left: 50px; margin-top: 16px; font-size: 12px\">Predict 0.00% is Sunflower.</p>\n",
              "            <p style=\"margin-left: 50px; margin-top: 28px; font-size: 12px\">Filename: data/rose/12406418663_af20dc225f_n.jpg</p>\n",
              "        </div>\n",
              "    </div>\n",
              "    "
            ],
            "text/plain": [
              "<IPython.core.display.HTML object>"
            ]
          },
          "metadata": {
            "tags": []
          }
        }
      ]
    }
  ]
}