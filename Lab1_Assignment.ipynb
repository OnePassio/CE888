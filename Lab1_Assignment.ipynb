{
  "nbformat": 4,
  "nbformat_minor": 0,
  "metadata": {
    "colab": {
      "name": "Lab1_Assignment.ipynb",
      "provenance": [],
      "collapsed_sections": [],
      "authorship_tag": "ABX9TyPOKAbfjrNlaL+3ltTj8L9Y",
      "include_colab_link": true
    },
    "kernelspec": {
      "name": "python3",
      "display_name": "Python 3"
    }
  },
  "cells": [
    {
      "cell_type": "markdown",
      "metadata": {
        "id": "view-in-github",
        "colab_type": "text"
      },
      "source": [
        "<a href=\"https://colab.research.google.com/github/OnePassio/CE888/blob/master/Lab1_Assignment.ipynb\" target=\"_parent\"><img src=\"https://colab.research.google.com/assets/colab-badge.svg\" alt=\"Open In Colab\"/></a>"
      ]
    },
    {
      "cell_type": "markdown",
      "metadata": {
        "id": "3Cd-rIWZ0tq8",
        "colab_type": "text"
      },
      "source": [
        "\n",
        "\n",
        "# CE888 - Lab 1\n",
        "Student email: qt19331@essex.ac.uk\n",
        "\n"
      ]
    },
    {
      "cell_type": "markdown",
      "metadata": {
        "id": "Mggo91W61AGU",
        "colab_type": "text"
      },
      "source": [
        "## Print a plot"
      ]
    },
    {
      "cell_type": "code",
      "metadata": {
        "id": "rEKlhEIQ08Dk",
        "colab_type": "code",
        "colab": {
          "base_uri": "https://localhost:8080/",
          "height": 282
        },
        "outputId": "7dc9c265-91b9-4a3d-e153-c020986f699e"
      },
      "source": [
        "import matplotlib.pyplot as plt\n",
        "import numpy as np\n",
        "\n",
        "t = np.linspace(0, 2*np.pi, 50)\n",
        "x = np.sin(t)\n",
        "y = np.cos(t)\n",
        "# Now create a figure\n",
        "plt.figure()\n",
        "# and plot x inside it\n",
        "plt.plot(x)"
      ],
      "execution_count": 5,
      "outputs": [
        {
          "output_type": "execute_result",
          "data": {
            "text/plain": [
              "[<matplotlib.lines.Line2D at 0x7f2cfbfe35f8>]"
            ]
          },
          "metadata": {
            "tags": []
          },
          "execution_count": 5
        },
        {
          "output_type": "display_data",
          "data": {
            "image/png": "[encoded data removed]",
            "text/plain": [
              "<Figure size 432x288 with 1 Axes>"
            ]
          },
          "metadata": {
            "tags": []
          }
        }
      ]
    },
    {
      "cell_type": "code",
      "metadata": {
        "id": "hpTA4cvhxmy2",
        "colab_type": "code",
        "colab": {}
      },
      "source": [
        "\n",
        "\n",
        "\n",
        "\n",
        "\n",
        "\n",
        "\n",
        "\n",
        "\n",
        "\n",
        "\n",
        "\n",
        "\n"
      ],
      "execution_count": 0,
      "outputs": []
    },
    {
      "cell_type": "markdown",
      "metadata": {
        "id": "zDRcbadz1Q67",
        "colab_type": "text"
      },
      "source": [
        "## 1. Create a (4 x 2) integer array and print it's attributes"
      ]
    },
    {
      "cell_type": "code",
      "metadata": {
        "id": "K11PYojbyl-W",
        "colab_type": "code",
        "colab": {
          "base_uri": "https://localhost:8080/",
          "height": 51
        },
        "outputId": "699ba2a2-ae47-464b-c46e-8d92729c0dbc"
      },
      "source": [
        "import numpy as np\n",
        "array42 = np.array([[11,12,13,14],[21,22,23,24]])\n",
        "print(array42)"
      ],
      "execution_count": 6,
      "outputs": [
        {
          "output_type": "stream",
          "text": [
            "[[11 12 13 14]\n",
            " [21 22 23 24]]\n"
          ],
          "name": "stdout"
        }
      ]
    },
    {
      "cell_type": "markdown",
      "metadata": {
        "id": "Mg2sk0hs1eXD",
        "colab_type": "text"
      },
      "source": [
        "##2.Create an array of dimension (1,10) and sort it in ascending and descending order"
      ]
    },
    {
      "cell_type": "code",
      "metadata": {
        "id": "O7_XSZ7m1lLD",
        "colab_type": "code",
        "colab": {
          "base_uri": "https://localhost:8080/",
          "height": 119
        },
        "outputId": "afaddf8a-2c96-49d1-8f38-16b1ca6ca3ec"
      },
      "source": [
        "import numpy as np\n",
        "list=np.random.randint(0,1000,size=(1, 10))\n",
        "print(\"Original\")\n",
        "print(list)\n",
        "listSortAsc = np.sort(list)\n",
        "print(\"Ascending\")\n",
        "print(listSortAsc)\n",
        "listSortDes = -np.sort(-list)\n",
        "print(\"Descending\")\n",
        "print(listSortDes)"
      ],
      "execution_count": 60,
      "outputs": [
        {
          "output_type": "stream",
          "text": [
            "Original\n",
            "[[503  17 939  74 875 931 611 228 453 864]]\n",
            "Ascending\n",
            "[[ 17  74 228 453 503 611 864 875 931 939]]\n",
            "Descending\n",
            "[[939 931 875 864 611 503 453 228  74  17]]\n"
          ],
          "name": "stdout"
        }
      ]
    },
    {
      "cell_type": "markdown",
      "metadata": {
        "id": "Dw6jHPI82UOd",
        "colab_type": "text"
      },
      "source": [
        "## 3.Convert an 1D array [1 2 3 4 5 6 7 8 9] to 2D array [[1 2 3], [4 5 6], [7 8 9]]"
      ]
    },
    {
      "cell_type": "code",
      "metadata": {
        "id": "rekUsivl4AY2",
        "colab_type": "code",
        "colab": {
          "base_uri": "https://localhost:8080/",
          "height": 68
        },
        "outputId": "87561bcb-25dd-41b1-8a2a-f45ff7c4fb8a"
      },
      "source": [
        "import numpy as np\n",
        "list=[1,2,3,4,5,6,7,8,9]\n",
        "output=np.reshape(list,(3,3))\n",
        "print(output)"
      ],
      "execution_count": 20,
      "outputs": [
        {
          "output_type": "stream",
          "text": [
            "[[1 2 3]\n",
            " [4 5 6]\n",
            " [7 8 9]]\n"
          ],
          "name": "stdout"
        }
      ]
    },
    {
      "cell_type": "markdown",
      "metadata": {
        "id": "iWKm_rMf4ovG",
        "colab_type": "text"
      },
      "source": [
        "##4. Stack two arrays of any size horizontally and vertically"
      ]
    },
    {
      "cell_type": "code",
      "metadata": {
        "id": "c5otyi574ssM",
        "colab_type": "code",
        "colab": {
          "base_uri": "https://localhost:8080/",
          "height": 34
        },
        "outputId": "7501b219-996c-4bf1-9884-067e50182271"
      },
      "source": [
        "import numpy as np\n",
        "a = np.array([1,2,3,4, 11])\n",
        "b = np.array([5,6,7,8, 12])\n",
        "\n",
        "c = np.hstack((a,b))\n",
        "print(c)"
      ],
      "execution_count": 70,
      "outputs": [
        {
          "output_type": "stream",
          "text": [
            "[ 1  2  3  4 11  5  6  7  8 12]\n"
          ],
          "name": "stdout"
        }
      ]
    },
    {
      "cell_type": "markdown",
      "metadata": {
        "id": "T0Z9nxQa5XnO",
        "colab_type": "text"
      },
      "source": [
        "##5. Create two array of same size and find commom elements\n"
      ]
    },
    {
      "cell_type": "code",
      "metadata": {
        "id": "tkCGerWw5Za0",
        "colab_type": "code",
        "colab": {
          "base_uri": "https://localhost:8080/",
          "height": 34
        },
        "outputId": "c1ba5905-aacf-4023-cb8c-afcaaff01c94"
      },
      "source": [
        "import numpy as np\n",
        "array1=[11,22,33,44,55,66,77]\n",
        "array2=[11,88,33,12,13,14,15]\n",
        "common=np.intersect1d(array1, array2)\n",
        "print(common)\n",
        "\n"
      ],
      "execution_count": 25,
      "outputs": [
        {
          "output_type": "stream",
          "text": [
            "[11 33]\n"
          ],
          "name": "stdout"
        }
      ]
    },
    {
      "cell_type": "markdown",
      "metadata": {
        "id": "voCnXnf258Me",
        "colab_type": "text"
      },
      "source": [
        "##6. Create a 2D array of 5 by 5 and find the min and max values from each row and each column"
      ]
    },
    {
      "cell_type": "code",
      "metadata": {
        "id": "SvDRZpEr6CUA",
        "colab_type": "code",
        "colab": {
          "base_uri": "https://localhost:8080/",
          "height": 119
        },
        "outputId": "700e43b5-ea22-445b-ba78-2a496d13f2ec"
      },
      "source": [
        "import numpy as np\n",
        "random_matrix = np.random.randint(0,1000,size=(5, 5))\n",
        "max_value=np.amax(random_matrix)\n",
        "min_value=np.amin(random_matrix)\n",
        "print(random_matrix)\n",
        "print(\"Max Value is={}, Min Value is={}\".format(max_value, min_value))\n"
      ],
      "execution_count": 34,
      "outputs": [
        {
          "output_type": "stream",
          "text": [
            "[[680 363 693 828 484]\n",
            " [794  55 403 101 404]\n",
            " [401 516 616 192 335]\n",
            " [192 834 634 119 844]\n",
            " [577 614 667 432 395]]\n",
            "Max Value is=844, Min Value is=55\n"
          ],
          "name": "stdout"
        }
      ]
    },
    {
      "cell_type": "markdown",
      "metadata": {
        "id": "k-ZqI5Kc7bau",
        "colab_type": "text"
      },
      "source": [
        "##7. Create an array of size 100 and compute the mean, median, standard deviation."
      ]
    },
    {
      "cell_type": "code",
      "metadata": {
        "id": "CqI3g_to7ded",
        "colab_type": "code",
        "colab": {
          "base_uri": "https://localhost:8080/",
          "height": 170
        },
        "outputId": "49ac450c-8239-41d8-a5e7-f5999b6d0d3c"
      },
      "source": [
        "import numpy as np\n",
        "list = np.random.randint(0,1000,size=(100))\n",
        "mean=np.mean(list)\n",
        "median=np.median(list)\n",
        "std=np.std(list)\n",
        "print(list)\n",
        "print(\"Mean is={},\\nMedian is={},\\nStandard deviation is={}\".format(mean, median,std))"
      ],
      "execution_count": 38,
      "outputs": [
        {
          "output_type": "stream",
          "text": [
            "[574 826 284 300 148 264 187 379 499 594 656 608 496 201 746 430 852 920\n",
            " 640 635  19 507   6 145  52 550 732 203 567 401 603 147 847 194 306  25\n",
            " 337 709 360 963 164 666 232 590 988  29 358 946 178  80 475 476 294 643\n",
            "  96 833 745  43 344 890  73 859 606 509 294 258  72  59 441   3  93 890\n",
            " 268 800 960 879 526 516  47 279 503  60 676 431 406 520 419 781 208 122\n",
            " 838 186 675 805 688 877 489 961 717 479]\n",
            "Mean is=462.55,\n",
            "Median is=477.5,\n",
            "Standard deviation is=285.98599178980777\n"
          ],
          "name": "stdout"
        }
      ]
    },
    {
      "cell_type": "markdown",
      "metadata": {
        "id": "oV9PiqWM8NoA",
        "colab_type": "text"
      },
      "source": [
        "##8. Normalize a 5x5 random matrix"
      ]
    },
    {
      "cell_type": "code",
      "metadata": {
        "id": "qunN6kiX8T9W",
        "colab_type": "code",
        "colab": {
          "base_uri": "https://localhost:8080/",
          "height": 204
        },
        "outputId": "9d157df4-7c59-497c-936d-9c8cbc7e478c"
      },
      "source": [
        "import numpy as np\n",
        "random_matrix = np.random.randint(0,100,size=(5, 5))\n",
        "row_sums = random_matrix.sum(axis=1)\n",
        "\n",
        "new_matrix = random_matrix / row_sums[:, np.newaxis]\n",
        "print(random_matrix)\n",
        "print(\"Normalize:\")\n",
        "print(new_matrix)\n"
      ],
      "execution_count": 43,
      "outputs": [
        {
          "output_type": "stream",
          "text": [
            "[[91 50 10 94 11]\n",
            " [46 76 23 99 11]\n",
            " [40 88 19 94 36]\n",
            " [99 89 33 96 28]\n",
            " [95  7 25 93 12]]\n",
            "Normalize:\n",
            "[[0.35546875 0.1953125  0.0390625  0.3671875  0.04296875]\n",
            " [0.18039216 0.29803922 0.09019608 0.38823529 0.04313725]\n",
            " [0.14440433 0.31768953 0.06859206 0.33935018 0.1299639 ]\n",
            " [0.28695652 0.25797101 0.09565217 0.27826087 0.08115942]\n",
            " [0.40948276 0.03017241 0.10775862 0.40086207 0.05172414]]\n"
          ],
          "name": "stdout"
        }
      ]
    },
    {
      "cell_type": "markdown",
      "metadata": {
        "id": "ePNCth7b9du4",
        "colab_type": "text"
      },
      "source": [
        "##9. Consider an array of dimension (4,4,3), how to mulitply it by an array with dimensions (4,4)?"
      ]
    },
    {
      "cell_type": "code",
      "metadata": {
        "id": "UOqTrmmQ9lp7",
        "colab_type": "code",
        "colab": {
          "base_uri": "https://localhost:8080/",
          "height": 85
        },
        "outputId": "eba4b9a5-fe77-49ce-d5d9-954cd2ebcb40"
      },
      "source": [
        "import numpy as np\n",
        "a = np.random.randint(0,100,size=(4, 4,3))\n",
        "b= np.random.randint(0,100,size=(4, 4))\n",
        "#print(a)\n",
        "#print(b)\n",
        "reshape_a=np.reshape(a,(16,3))\n",
        "\n",
        "#a1=reshape_a[:,0].reshape(4,4)\n",
        "#a2=reshape_a[:,1].reshape(4,4)\n",
        "#a3=reshape_a[:,2].reshape(4,4)\n",
        "#final=a1*b+a2*b+a3*b\n",
        "#print(final)\n",
        "\n",
        "#improve with loop\n",
        "result=np.zeros((4,4))\n",
        "for i in range(0,3):\n",
        "  result=result+reshape_a[:,i].reshape(4,4)*b\n",
        "print(result)\n"
      ],
      "execution_count": 101,
      "outputs": [
        {
          "output_type": "stream",
          "text": [
            "[[ 4410. 11470.  1708. 11891.]\n",
            " [   92.  3036.  7068.  9576.]\n",
            " [ 4914.  3560. 12716.  2728.]\n",
            " [ 3096.  8715.  4071. 12441.]]\n"
          ],
          "name": "stdout"
        }
      ]
    }
  ]
}