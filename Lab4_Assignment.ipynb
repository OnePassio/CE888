{
  "nbformat": 4,
  "nbformat_minor": 0,
  "metadata": {
    "colab": {
      "name": "Lab4_Assignment",
      "provenance": [],
      "private_outputs": true,
      "collapsed_sections": [],
      "toc_visible": true,
      "authorship_tag": "ABX9TyPcVVOoEtOnsvHAap8qgYCj",
      "include_colab_link": true
    },
    "kernelspec": {
      "name": "python3",
      "display_name": "Python 3"
    },
    "accelerator": "GPU"
  },
  "cells": [
    {
      "cell_type": "markdown",
      "metadata": {
        "id": "view-in-github",
        "colab_type": "text"
      },
      "source": [
        "<a href=\"https://colab.research.google.com/github/OnePassio/CE888/blob/master/Lab4_Assignment.ipynb\" target=\"_parent\"><img src=\"https://colab.research.google.com/assets/colab-badge.svg\" alt=\"Open In Colab\"/></a>"
      ]
    },
    {
      "cell_type": "markdown",
      "metadata": {
        "id": "1ZWZSNlr44Q8",
        "colab_type": "text"
      },
      "source": [
        "# Lab4: \n",
        "Github: https://github.com/albanda/CE888/tree/master/lab4"
      ]
    },
    {
      "cell_type": "markdown",
      "metadata": {
        "id": "3W4EvkGc1-i2",
        "colab_type": "text"
      },
      "source": [
        "#Load data \n",
        "file: bank-additional-full.csv"
      ]
    },
    {
      "cell_type": "code",
      "metadata": {
        "id": "yzOxesvWxQiz",
        "colab_type": "code",
        "colab": {}
      },
      "source": [
        "import pandas as pd\n",
        "import numpy as np\n",
        "import warnings\n",
        "warnings.filterwarnings('ignore')\n",
        "\n",
        "df_bank = pd.read_csv('https://raw.githubusercontent.com/albanda/CE888/master/lab4/bank-additional-full.csv',\n",
        "                       sep=';',header=0)\n",
        "df_bank.head()\n"
      ],
      "execution_count": 0,
      "outputs": []
    },
    {
      "cell_type": "markdown",
      "metadata": {
        "id": "SwMY00XF4NNK",
        "colab_type": "text"
      },
      "source": [
        "#task\n",
        "Use a classifier (anything, but ExtraTreesClassifier with 100 estimators is the easiest option) on the data with outcome/output variable \"y\"\n",
        "\n",
        "-  *Convert to dummies using df_dummies = pd.get_dummies(df)*\n",
        "-  *Columns \"y_no\" and \"duration\" must be deleted - use something like del df_copy[\"attribute\"] for this*\n",
        "-  *Plot histogram of the label y_yes*\n",
        "-  *Get the values and run a classifier (with outcome y_yes)*\n",
        "-  *Report the results of 10-Kfold stratified cross-validation*\n",
        "-  *Get sample importances and a confusion matrix*"
      ]
    },
    {
      "cell_type": "code",
      "metadata": {
        "id": "9BiVqsjl5W6C",
        "colab_type": "code",
        "colab": {}
      },
      "source": [
        "# convert to dummies\n",
        "df_dummies=pd.get_dummies(df_bank)\n",
        "\n",
        "# remove duration and y_no\n",
        "df_dummies=df_dummies.drop(['y_no','duration'], axis=1)\n",
        "\n",
        "#print test\n",
        "df_dummies.head()\n",
        "\n"
      ],
      "execution_count": 0,
      "outputs": []
    },
    {
      "cell_type": "markdown",
      "metadata": {
        "id": "QvdTAH6Z9CFP",
        "colab_type": "text"
      },
      "source": [
        "#Plot histogram of the label y_yes"
      ]
    },
    {
      "cell_type": "code",
      "metadata": {
        "id": "6Z51OjQ678_s",
        "colab_type": "code",
        "colab": {}
      },
      "source": [
        "#plot y_yes\n",
        "import matplotlib.pyplot as plt\n",
        "\n",
        "plt.hist(df_dummies['y_yes'],color='b')\n",
        "plt.legend(\"y_yes\");\n",
        "\n",
        "#df_dummies.hist(column='y_yes')\n"
      ],
      "execution_count": 0,
      "outputs": []
    },
    {
      "cell_type": "markdown",
      "metadata": {
        "id": "1tpdLKdB9H4d",
        "colab_type": "text"
      },
      "source": [
        "#Get the values and run a classifier (with outcome y_yes)"
      ]
    },
    {
      "cell_type": "code",
      "metadata": {
        "id": "uw54isCLLi9t",
        "colab_type": "code",
        "colab": {}
      },
      "source": [
        "from sklearn.model_selection import train_test_split\n",
        "#Get the values and run a classifier \n",
        "features= ['age','campaign','pdays','previous','emp.var.rate','cons.price.idx','cons.conf.idx','euribor3m','nr.employed','job_admin.','job_blue-collar','job_entrepreneur','job_housemaid','job_management','job_retired','job_self-employed','job_services','job_student','job_technician','job_unemployed','job_unknown','marital_divorced','marital_married','marital_single','marital_unknown','education_basic.4y','education_basic.6y','education_basic.9y','education_high.school','education_illiterate','education_professional.course','education_university.degree','education_unknown','default_no','default_unknown','default_yes','housing_no','housing_unknown','housing_yes','loan_no','loan_unknown','loan_yes','contact_cellular','contact_telephone','month_apr','month_aug','month_dec','month_jul','month_jun','month_mar','month_may','month_nov','month_oct','month_sep','day_of_week_fri','day_of_week_mon','day_of_week_thu','day_of_week_tue','day_of_week_wed','poutcome_failure','poutcome_nonexistent','poutcome_success']\n",
        "X=df_dummies[features].copy()\n",
        "y=df_dummies['y_yes']\n",
        "\n",
        "X_train, X_test, y_train, y_test = train_test_split(X, y, test_size=0.5, stratify=y, random_state=0)\n",
        "\n",
        "X_train.head()"
      ],
      "execution_count": 0,
      "outputs": []
    },
    {
      "cell_type": "markdown",
      "metadata": {
        "id": "oAqudhKZLiXN",
        "colab_type": "text"
      },
      "source": [
        ""
      ]
    },
    {
      "cell_type": "code",
      "metadata": {
        "id": "z5l1oyP4ACyV",
        "colab_type": "code",
        "colab": {}
      },
      "source": [
        "from sklearn.ensemble import ExtraTreesClassifier\n",
        "from sklearn.dummy import DummyClassifier\n",
        "from sklearn.model_selection import cross_val_score\n",
        "from sklearn.metrics import make_scorer, accuracy_score\n",
        "\n",
        "clf = ExtraTreesClassifier(n_estimators=1000, max_depth=4)\n",
        "clf.fit(X_train,y_train)\n",
        "dummy_clf = DummyClassifier() # generates predictions by respecting the training set's class distribution\n",
        "dummy_clf.fit(X_train,y_train)\n",
        "scores = cross_val_score(clf, X_train, y_train, cv=10,scoring=make_scorer(accuracy_score))\n",
        "dummy_scores = cross_val_score(dummy_clf, X_train, y_train, cv=10, scoring=make_scorer(accuracy_score))\n",
        "\n",
        "#Report the results of 10-Kfold stratified cross-validation\n",
        "print(\"ACC: %0.2f +/- %0.2f\" % (scores.mean(), scores.std()))\n",
        "print(\"Dummy ACC: %0.2f +/- %0.2f\" % (dummy_scores.mean(), dummy_scores.std()))"
      ],
      "execution_count": 0,
      "outputs": []
    },
    {
      "cell_type": "code",
      "metadata": {
        "id": "qFWu0_7-DIxb",
        "colab_type": "code",
        "colab": {}
      },
      "source": [
        "#cross validation test\n",
        "from sklearn.model_selection import cross_val_score\n",
        "scores=cross_val_score(clf, X_train, y_train, cv=10,scoring=make_scorer(accuracy_score))\n",
        "scores"
      ],
      "execution_count": 0,
      "outputs": []
    },
    {
      "cell_type": "markdown",
      "metadata": {
        "id": "amB7X0QjDSxw",
        "colab_type": "text"
      },
      "source": [
        "Get sample importances"
      ]
    },
    {
      "cell_type": "code",
      "metadata": {
        "id": "OcrwzTMvDThg",
        "colab_type": "code",
        "colab": {}
      },
      "source": [
        "importances = clf.feature_importances_\n",
        "\n",
        "std = np.std([tree.feature_importances_ for tree in clf.estimators_], axis=0)\n",
        "indices = np.argsort(importances)[::-1]\n",
        "print(\"Feature ranking:\")\n",
        "for f in range(X.shape[1]):\n",
        "  print(\"%d. %s (%f)\" % (f + 1, features[indices[f]], importances[indices[f]]))\n",
        "# Plot the feature importances of the forest\n",
        "fig = plt.figure()\n",
        "plt.title(\"Feature importances\")\n",
        "plt.bar(range(X_train.shape[1]), importances[indices], color=\"r\", yerr=std[indices], align=\"center\")\n",
        "plt.xticks(range(X_train.shape[1]), np.array(features)[indices])\n",
        "plt.xlim([-1, X_train.shape[1]])\n",
        "fig.set_size_inches(15, 8)\n",
        "axes = plt.gca()\n",
        "axes.set_ylim([0, None])"
      ],
      "execution_count": 0,
      "outputs": []
    },
    {
      "cell_type": "markdown",
      "metadata": {
        "id": "V0K1h_3_DZ8r",
        "colab_type": "text"
      },
      "source": [
        "a confusion matrix"
      ]
    },
    {
      "cell_type": "code",
      "metadata": {
        "id": "N3oQk7uQQ4Ma",
        "colab_type": "code",
        "colab": {}
      },
      "source": [
        "\n",
        "def plot_confusion_matrix2(cm, classes,\n",
        "                          normalize=False,\n",
        "                          title='Confusion matrix',\n",
        "                          cmap=plt.cm.Blues):\n",
        "    \"\"\"\n",
        "    This function prints and plots the confusion matrix.\n",
        "    Normalization can be applied by setting `normalize=True`.\n",
        "    \"\"\"\n",
        "    if normalize:\n",
        "        cm = cm.astype('float') / cm.sum(axis=1)[:, np.newaxis]\n",
        "        print(\"Normalized confusion matrix\")\n",
        "    else:\n",
        "        print('Confusion matrix, without normalization')\n",
        "    plt.imshow(cm, interpolation='nearest', cmap=cmap)\n",
        "    plt.title(title)\n",
        "    plt.colorbar()\n",
        "    tick_marks = np.arange(len(classes))\n",
        "    plt.xticks(tick_marks, classes, rotation=45)\n",
        "    plt.yticks(tick_marks, classes)\n",
        "    thresh = cm.max() / 2.\n",
        "    for i, j in itertools.product(range(cm.shape[0]), range(cm.shape[1])):\n",
        "        t = \"(%.2f)\"%(cm[i, j])\n",
        "    plt.tight_layout()\n",
        "    plt.ylabel('True label')\n",
        "    plt.xlabel('Predicted label')"
      ],
      "execution_count": 0,
      "outputs": []
    },
    {
      "cell_type": "code",
      "metadata": {
        "id": "QelNz361D2MB",
        "colab_type": "code",
        "colab": {}
      },
      "source": [
        "# Compute confusion matrix\n",
        "from sklearn.metrics import confusion_matrix\n",
        "import itertools\n",
        "# Compute confusion matrix\n",
        "y_pred = clf.predict(X_test)\n",
        "cnf_matrix = confusion_matrix(y_test, y_pred)\n",
        "np.set_printoptions(precision=2)\n",
        "\n",
        "# Plot non-normalized confusion matrix\n",
        "plt.figure()\n",
        "plot_confusion_matrix2(cnf_matrix, classes=range(len(set(y_test))), normalize = True,\n",
        "                      title='Confusion matrix')\n"
      ],
      "execution_count": 0,
      "outputs": []
    }
  ]
}