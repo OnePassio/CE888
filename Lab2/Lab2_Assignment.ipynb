{
  "nbformat": 4,
  "nbformat_minor": 0,
  "metadata": {
    "kernelspec": {
      "display_name": "Python 3",
      "language": "python",
      "name": "python3"
    },
    "language_info": {
      "codemirror_mode": {
        "name": "ipython",
        "version": 2
      },
      "file_extension": ".py",
      "mimetype": "text/x-python",
      "name": "python",
      "nbconvert_exporter": "python",
      "pygments_lexer": "ipython2",
      "version": "2.7.6"
    },
    "pycharm": {
      "stem_cell": {
        "cell_type": "raw",
        "source": [],
        "metadata": {
          "collapsed": false
        }
      }
    },
    "colab": {
      "name": "Lab2_Assignment.ipynb",
      "provenance": [],
      "collapsed_sections": [],
      "toc_visible": true,
      "include_colab_link": true
    }
  },
  "cells": [
    {
      "cell_type": "markdown",
      "metadata": {
        "id": "view-in-github",
        "colab_type": "text"
      },
      "source": [
        "<a href=\"https://colab.research.google.com/github/OnePassio/CE888/blob/master/Lab2_Assignment.ipynb\" target=\"_parent\"><img src=\"https://colab.research.google.com/assets/colab-badge.svg\" alt=\"Open In Colab\"/></a>"
      ]
    },
    {
      "cell_type": "markdown",
      "metadata": {
        "id": "nCi_99yMYIb1",
        "colab_type": "text"
      },
      "source": [
        "In this notebook you'll create your own bootstrap function following the bootstrap algorithm (check the lecture notes!)"
      ]
    },
    {
      "cell_type": "code",
      "metadata": {
        "pycharm": {
          "name": "#%%# Imports\n"
        },
        "id": "LY5zujI2YC37",
        "colab_type": "code",
        "colab": {}
      },
      "source": [
        "import matplotlib\n",
        "import pandas as pd\n",
        "import seaborn as sns\n",
        "import numpy as np\n",
        "\n"
      ],
      "execution_count": 0,
      "outputs": []
    },
    {
      "cell_type": "code",
      "metadata": {
        "id": "Eqkwj4SMY38t",
        "colab_type": "code",
        "colab": {
          "base_uri": "https://localhost:8080/",
          "height": 34
        },
        "outputId": "7cc5b2f9-a78f-4d8c-d26b-0d9738f5a4e4"
      },
      "source": [
        "# Load the data\n",
        "df = pd.read_csv('https://raw.githubusercontent.com/albanda/CE888/master/lab2%20-%20bootstrap/customers.csv')\n",
        "data = df.values.T[1]\n",
        "print(data);"
      ],
      "execution_count": 5,
      "outputs": [
        {
          "output_type": "stream",
          "text": [
            "[ 2.  8. 20. 13.  5.  9. 10.  8. 22. 10.  2.  4.  7.  9.]\n"
          ],
          "name": "stdout"
        }
      ]
    },
    {
      "cell_type": "code",
      "metadata": {
        "pycharm": {
          "name": "#%%\n"
        },
        "id": "Gxvc_bScYC4H",
        "colab_type": "code",
        "colab": {}
      },
      "source": [
        "# Checking the notes from the lecture, create here your own bootstrap function:\n",
        "# 1. Create an array of samples of shape (n_iterations, sample_size)\n",
        "# 2. Calculate and save the mean of the array (this is \"data_mean\" that is returned by the function)\n",
        "# 3. In each iteration:\n",
        "# 3.1 Get the data corresponding to that iteration (new_samples[iteration, :])\n",
        "# 3.2 Calculate the mean of the iteration data and store it\n",
        "# (At this point you should have an array of n_iterations values)\n",
        "# 4. Calculate the lower and upper bounds for a 95% CI (hint: check the percentile function on Numpy)\n",
        "# 5. Return data_mean, and the lower and upper bounds of your interval\n",
        "def boostrap_mean(sample, sample_size, n_iterations):\n",
        "# <---CODING--->\n",
        "\tlist_data_mean=[]\n",
        "\tcount=0\n",
        "\twhile(count<n_iterations):\n",
        "\t\tshape=np.random.choice(sample, sample_size, replace=True)\n",
        "\t\t# mean\n",
        "\t\tmean_shape=np.mean(shape);\n",
        "\t\tlist_data_mean.append(mean_shape)\n",
        "\t\t# percentile\n",
        "\t\t\n",
        "\t\t#continue counting\n",
        "\t\tcount+=1;\n",
        "\t#end while\n",
        "\t\n",
        "\tdata_mean=np.nanmean(list_data_mean);\n",
        "\tlower=np.percentile(list_data_mean, 95, interpolation='lower')\n",
        "\tupper=np.percentile(list_data_mean, 95, interpolation='higher')\n",
        "\t#test\n",
        "\tprint(data_mean);\n",
        "\tprint(lower);\n",
        "\tprint(upper);\n",
        "\n",
        "\treturn data_mean, lower, upper\n",
        "\n",
        "#test\n",
        "#boostrap_mean (data,4,2);\n"
      ],
      "execution_count": 0,
      "outputs": []
    },
    {
      "cell_type": "code",
      "metadata": {
        "pycharm": {
          "name": "#%%\n"
        },
        "id": "AN7sEOcMYC4P",
        "colab_type": "code",
        "outputId": "9e99b964-1826-46c3-d6d4-6089c0519e94",
        "colab": {
          "base_uri": "https://localhost:8080/",
          "height": 1000
        }
      },
      "source": [
        "# Call your bootstrap function and plot the results\n",
        "\n",
        "boots = []\n",
        "for i in range(100, 20000, 1000):\n",
        "    boot = boostrap_mean(data, data.shape[0], i)\n",
        "    boots.append([i, boot[0], \"mean\"])\n",
        "    boots.append([i, boot[1], \"lower\"])\n",
        "    boots.append([i, boot[2], \"upper\"])\n",
        "\n",
        "df_boot = pd.DataFrame(boots, columns=['Boostrap Iterations', 'Mean', \"Value\"])\n",
        "sns_plot = sns.lmplot(df_boot.columns[0], df_boot.columns[1], data=df_boot, fit_reg=False, hue=\"Value\")\n",
        "\n",
        "sns_plot.axes[0, 0].set_ylim(0,)\n",
        "sns_plot.axes[0, 0].set_xlim(0, 100000)\n",
        "\n",
        "sns_plot.savefig(\"bootstrap_confidence.png\", bbox_inches='tight')\n",
        "#sns_plot.savefig(\"bootstrap_confidence.pdf\", bbox_inches='tight')\n",
        "#from google.colab import files\n",
        "#files.download('bootstrap_confidence.png') \n",
        "\n"
      ],
      "execution_count": 31,
      "outputs": [
        {
          "output_type": "stream",
          "text": [
            "9.010000000000002\n",
            "11.5\n",
            "12.071428571428571\n",
            "9.212402597402598\n",
            "11.785714285714286\n",
            "11.785714285714286\n",
            "9.225714285714286\n",
            "11.928571428571429\n",
            "11.928571428571429\n",
            "9.235483870967743\n",
            "11.785714285714286\n",
            "11.857142857142858\n",
            "9.220243902439025\n",
            "11.928571428571429\n",
            "11.928571428571429\n",
            "9.191778711484595\n",
            "11.785714285714286\n",
            "11.785714285714286\n",
            "9.236744730679156\n",
            "11.857142857142858\n",
            "11.857142857142858\n",
            "9.220201207243463\n",
            "11.785714285714286\n",
            "11.785714285714286\n",
            "9.197813051146383\n",
            "11.857142857142858\n",
            "11.857142857142858\n",
            "9.193076923076923\n",
            "11.785714285714286\n",
            "11.785714285714286\n",
            "9.208302687411598\n",
            "11.857142857142858\n",
            "11.857142857142858\n",
            "9.224864864864864\n",
            "11.857142857142858\n",
            "11.857142857142858\n",
            "9.221428571428572\n",
            "11.785714285714286\n",
            "11.857142857142858\n",
            "9.209825517993457\n",
            "11.857142857142858\n",
            "11.857142857142858\n",
            "9.225506585612969\n",
            "11.857142857142858\n",
            "11.857142857142858\n",
            "9.233008514664144\n",
            "11.785714285714286\n",
            "11.785714285714286\n",
            "9.219986690328307\n",
            "11.857142857142858\n",
            "11.857142857142858\n",
            "9.22262740183793\n",
            "11.785714285714286\n",
            "11.785714285714286\n",
            "9.207557221783741\n",
            "11.785714285714286\n",
            "11.785714285714286\n",
            "9.205650710546\n",
            "11.785714285714286\n",
            "11.785714285714286\n"
          ],
          "name": "stdout"
        },
        {
          "output_type": "display_data",
          "data": {
            "image/png": "[encoded data removed]",
            "text/plain": [
              "<Figure size 425.125x360 with 1 Axes>"
            ]
          },
          "metadata": {
            "tags": []
          }
        }
      ]
    },
    {
      "cell_type": "markdown",
      "metadata": {
        "collapsed": false,
        "id": "MjtP4e2_YC4V",
        "colab_type": "text"
      },
      "source": [
        "\n",
        "Now, modify the bootstrap function so that you can pass your desired confidence interval as a parameter.\n",
        "\n"
      ]
    },
    {
      "cell_type": "code",
      "metadata": {
        "id": "3K9j0FuGYhHs",
        "colab_type": "code",
        "colab": {}
      },
      "source": [
        "def boostrap_mean_ci(sample, sample_size, n_iterations, ci):\n",
        "# <---CODING--->\n",
        "\tlist_data_mean=[]\n",
        "\tcount=0;\n",
        "\twhile(count<n_iterations):\n",
        "\t\tshape=np.random.choice(sample, sample_size, replace=True)\n",
        "\t\t# mean\n",
        "\t\tmean_shape=np.mean(shape);\n",
        "\t\tlist_data_mean.append(mean_shape)\n",
        "\t\t# percentile\n",
        "\t\t\n",
        "\t\t#continue counting\n",
        "\t\tcount+=1;\n",
        "\t#end while\n",
        "\t\n",
        "\tdata_mean=np.mean(list_data_mean);\n",
        "\tlower=np.percentile(list_data_mean, ci, interpolation='lower')\n",
        "\tupper=np.percentile(list_data_mean, ci, interpolation='higher')\n",
        "\t#test\n",
        "\tprint(data_mean);\n",
        "\tprint(lower);\n",
        "\tprint(upper);\n",
        "\n",
        "\treturn data_mean, lower, upper"
      ],
      "execution_count": 0,
      "outputs": []
    },
    {
      "cell_type": "code",
      "metadata": {
        "id": "uDnjq08GYl-C",
        "colab_type": "code",
        "colab": {
          "base_uri": "https://localhost:8080/",
          "height": 1000
        },
        "outputId": "991c8e9d-de70-4e7a-bbac-eb8dd99028ad"
      },
      "source": [
        "\n",
        "boots = []\n",
        "for i in range(100, 40000, 1000):\n",
        "    boot = boostrap_mean_ci(data, data.shape[0], i, 80)\n",
        "    boots.append([i, boot[0], \"mean\"])\n",
        "    boots.append([i, boot[1], \"lower\"])\n",
        "    boots.append([i, boot[2], \"upper\"])\n",
        "\n",
        "df_boot = pd.DataFrame(boots, columns=['Boostrap Iterations', 'Mean', \"Value\"])\n",
        "sns_plot = sns.lmplot(df_boot.columns[0], df_boot.columns[1], data=df_boot, fit_reg=False, hue=\"Value\")\n",
        "\n",
        "sns_plot.axes[0, 0].set_ylim(0,)\n",
        "sns_plot.axes[0, 0].set_xlim(0, 100000)\n",
        "\n",
        "sns_plot.savefig(\"bootstrap_confidence_80.png\", bbox_inches='tight')\n",
        "#sns_plot.savefig(\"bootstrap_confidence_80.pdf\", bbox_inches='tight')\n",
        "#from google.colab import files\n",
        "#files.download('bootstrap_confidence_80.png') \n"
      ],
      "execution_count": 32,
      "outputs": [
        {
          "output_type": "stream",
          "text": [
            "9.045714285714284\n",
            "10.5\n",
            "10.642857142857142\n",
            "9.233896103896104\n",
            "10.5\n",
            "10.5\n",
            "9.253979591836734\n",
            "10.5\n",
            "10.5\n",
            "9.216336405529953\n",
            "10.428571428571429\n",
            "10.428571428571429\n",
            "9.225609756097562\n",
            "10.5\n",
            "10.5\n",
            "9.21781512605042\n",
            "10.5\n",
            "10.5\n",
            "9.241814988290399\n",
            "10.5\n",
            "10.5\n",
            "9.22430583501006\n",
            "10.5\n",
            "10.5\n",
            "9.209594356261023\n",
            "10.5\n",
            "10.5\n",
            "9.176240188383044\n",
            "10.428571428571429\n",
            "10.428571428571429\n",
            "9.21885431400283\n",
            "10.5\n",
            "10.5\n",
            "9.20135135135135\n",
            "10.5\n",
            "10.5\n",
            "9.200312868949233\n",
            "10.5\n",
            "10.5\n",
            "9.206663031624863\n",
            "10.5\n",
            "10.5\n",
            "9.21226443768997\n",
            "10.5\n",
            "10.5\n",
            "9.225515610217599\n",
            "10.5\n",
            "10.5\n",
            "9.215048802129548\n",
            "10.428571428571429\n",
            "10.428571428571429\n",
            "9.206963241436926\n",
            "10.5\n",
            "10.5\n",
            "9.204550118389898\n",
            "10.428571428571429\n",
            "10.428571428571429\n",
            "9.211810022438295\n",
            "10.5\n",
            "10.5\n",
            "9.213884150675197\n",
            "10.5\n",
            "10.5\n",
            "9.213439404197697\n",
            "10.5\n",
            "10.5\n",
            "9.216968325791855\n",
            "10.5\n",
            "10.5\n",
            "9.220318491032778\n",
            "10.5\n",
            "10.5\n",
            "9.214036751630113\n",
            "10.5\n",
            "10.5\n",
            "9.201747296528174\n",
            "10.5\n",
            "10.5\n",
            "9.198448275862068\n",
            "10.5\n",
            "10.5\n",
            "9.22109910384818\n",
            "10.5\n",
            "10.5\n",
            "9.223548551093035\n",
            "10.5\n",
            "10.5\n",
            "9.216337751595482\n",
            "10.5\n",
            "10.5\n",
            "9.205972947318461\n",
            "10.428571428571429\n",
            "10.428571428571429\n",
            "9.232122186495179\n",
            "10.5\n",
            "10.5\n",
            "9.22400756564308\n",
            "10.5\n",
            "10.5\n",
            "9.204902891670264\n",
            "10.5\n",
            "10.5\n",
            "9.217115626309177\n",
            "10.428571428571429\n",
            "10.428571428571429\n",
            "9.2167908017908\n",
            "10.5\n",
            "10.5\n",
            "9.220342303126237\n",
            "10.5\n",
            "10.5\n",
            "9.208598382749324\n",
            "10.5\n",
            "10.5\n",
            "9.223395200599926\n",
            "10.5\n",
            "10.5\n",
            "9.20901899890391\n",
            "10.5\n",
            "10.5\n"
          ],
          "name": "stdout"
        },
        {
          "output_type": "display_data",
          "data": {
            "image/png": "[encoded data removed]",
            "text/plain": [
              "<Figure size 425.125x360 with 1 Axes>"
            ]
          },
          "metadata": {
            "tags": []
          }
        }
      ]
    },
    {
      "cell_type": "markdown",
      "metadata": {
        "id": "qjNgXW6wdd7r",
        "colab_type": "text"
      },
      "source": [
        "# Vehicles dataset\n",
        "\n",
        "Now let's work on a different dataset. Load the vehicles.csv file and check the Moodle page for instructions on how to proceed\n"
      ]
    },
    {
      "cell_type": "code",
      "metadata": {
        "id": "avWv4ipFdpka",
        "colab_type": "code",
        "outputId": "67f5a8d3-a747-4b1c-db13-a6d2902cc451",
        "colab": {
          "base_uri": "https://localhost:8080/",
          "height": 386
        }
      },
      "source": [
        "# Load and visualise the vehicles dataset\n",
        "# <---INSERT YOUR CODE HERE--->\n",
        "dfVehicle = pd.read_csv('https://raw.githubusercontent.com/albanda/CE888/master/lab2%20-%20bootstrap/vehicles.csv')\n",
        "dfVehicle = dfVehicle.apply (pd.to_numeric, errors='coerce')\n",
        "dfVehicle = dfVehicle.dropna() #remove nan\n",
        "dataCurrentFleet = dfVehicle.values.T[0]\n",
        "dataNewFleet= dfVehicle.values.T[1]\n",
        "sns.lmplot(dfVehicle.columns[0],dfVehicle.columns[1],\n",
        "data=dfVehicle, fit_reg=False)\n",
        "\n",
        "\n",
        "#sns.scatterplot(x=\"CurrentFleed\", y=\"NewFleed\", data=dfVehicle)\n",
        "\n",
        "# Note: you can add more cells as needed to organise your code and your plots\n"
      ],
      "execution_count": 37,
      "outputs": [
        {
          "output_type": "execute_result",
          "data": {
            "text/plain": [
              "<seaborn.axisgrid.FacetGrid at 0x7f8d08f360b8>"
            ]
          },
          "metadata": {
            "tags": []
          },
          "execution_count": 37
        },
        {
          "output_type": "display_data",
          "data": {
            "image/png": "[encoded data removed]",
            "text/plain": [
              "<Figure size 360x360 with 1 Axes>"
            ]
          },
          "metadata": {
            "tags": []
          }
        }
      ]
    },
    {
      "cell_type": "code",
      "metadata": {
        "id": "xMFremt4CZbL",
        "colab_type": "code",
        "outputId": "088cd690-4689-4702-8903-dec61ac2d1ee",
        "colab": {
          "base_uri": "https://localhost:8080/",
          "height": 265
        }
      },
      "source": [
        "\n",
        "import matplotlib.pyplot as plt\n",
        "plt.subplot(2,1,1)\n",
        "plt.hist(dataCurrentFleet,color='g')\n",
        "plt.legend(\"Current Fleet\");\n",
        "#plot cumulative dist\n",
        "plt.subplot(2,1,2)\n",
        "plt.hist(dataNewFleet,color='b')\n",
        "plt.title=\"New Fleet\";\n",
        "plt.legend(\"New Fleet\");"
      ],
      "execution_count": 38,
      "outputs": [
        {
          "output_type": "display_data",
          "data": {
            "image/png": "[encoded data removed]",
            "text/plain": [
              "<Figure size 432x288 with 2 Axes>"
            ]
          },
          "metadata": {
            "tags": []
          }
        }
      ]
    },
    {
      "cell_type": "code",
      "metadata": {
        "id": "BAKyj983dwSM",
        "colab_type": "code",
        "outputId": "90994faf-b724-4e62-c049-85ba6105e1e1",
        "colab": {
          "base_uri": "https://localhost:8080/",
          "height": 51
        }
      },
      "source": [
        "# Compare the two fleets.\n",
        "# You can create a permutation test function to do this. Check the lecture notes!\n",
        "\n",
        "meanCurrentFleet=np.nanmean(dataCurrentFleet)\n",
        "sigmaCF=np.std(dataCurrentFleet)\n",
        "meanNewFleet=np.nanmean(dataNewFleet);\n",
        "\n",
        "\n",
        "print(\"mean Current Fleets={}\".format(meanCurrentFleet))\n",
        "print(\"mean New Fleets={}\".format(meanNewFleet))"
      ],
      "execution_count": 12,
      "outputs": [
        {
          "output_type": "stream",
          "text": [
            "mean Current Fleets=20.14457831325301\n",
            "mean New Fleets=30.481012658227847\n"
          ],
          "name": "stdout"
        }
      ]
    },
    {
      "cell_type": "markdown",
      "metadata": {
        "id": "880o7saROXuH",
        "colab_type": "text"
      },
      "source": [
        "# Find the upper and lower bound of the mean of the current fleet."
      ]
    },
    {
      "cell_type": "code",
      "metadata": {
        "id": "if-RY4aTd4CZ",
        "colab_type": "code",
        "colab": {
          "base_uri": "https://localhost:8080/",
          "height": 1000
        },
        "outputId": "f05bac98-562f-48a2-b2f5-ed808722737a"
      },
      "source": [
        "boots = []\n",
        "for i in range(100, 30000, 1000):\n",
        "    boot = boostrap_mean(dataCurrentFleet, dataCurrentFleet.shape[0], i)\n",
        "    boots.append([i, boot[0], \"mean\"])\n",
        "    boots.append([i, boot[1], \"lower\"])\n",
        "    boots.append([i, boot[2], \"upper\"])\n",
        "\n",
        "df_boot = pd.DataFrame(boots, columns=['Boostrap Iterations', 'Mean', \"Value\"])\n",
        "sns_plot = sns.lmplot(df_boot.columns[0], df_boot.columns[1], data=df_boot, fit_reg=False, hue=\"Value\")\n",
        "\n",
        "sns_plot.axes[0, 0].set_ylim(0,)\n",
        "sns_plot.axes[0, 0].set_xlim(0, 100000)\n",
        "\n",
        "sns_plot.savefig(\"Vehicle_current_freet_bootstrap_confidence.png\", bbox_inches='tight')\n",
        "#sns_plot.savefig(\"bootstrap_confidence.pdf\", bbox_inches='tight')\n",
        "from google.colab import files\n",
        "#files.download('Vehicle_current_freet_bootstrap_confidence.png') "
      ],
      "execution_count": 36,
      "outputs": [
        {
          "output_type": "stream",
          "text": [
            "20.1174297188755\n",
            "20.662650602409638\n",
            "20.686746987951807\n",
            "20.131854691493245\n",
            "20.803212851405622\n",
            "20.803212851405622\n",
            "20.14856760374833\n",
            "20.811244979919678\n",
            "20.815261044176708\n",
            "20.153114393056097\n",
            "20.82730923694779\n",
            "20.82730923694779\n",
            "20.14216377705946\n",
            "20.80722891566265\n",
            "20.811244979919678\n",
            "20.13924167257264\n",
            "20.803212851405622\n",
            "20.803212851405622\n",
            "20.15370926328264\n",
            "20.815261044176708\n",
            "20.815261044176708\n",
            "20.146925165450536\n",
            "20.83132530120482\n",
            "20.83132530120482\n",
            "20.14523079974218\n",
            "20.815261044176708\n",
            "20.815261044176708\n",
            "20.136538240875588\n",
            "20.811244979919678\n",
            "20.811244979919678\n",
            "20.138901347966122\n",
            "20.823293172690764\n",
            "20.823293172690764\n",
            "20.14085567495206\n",
            "20.80722891566265\n",
            "20.811244979919678\n",
            "20.147638819741776\n",
            "20.80722891566265\n",
            "20.80722891566265\n",
            "20.14793004077378\n",
            "20.83132530120482\n",
            "20.83132530120482\n",
            "20.146732746589194\n",
            "20.819277108433734\n",
            "20.819277108433734\n",
            "20.13854889757706\n",
            "20.80722891566265\n",
            "20.80722891566265\n",
            "20.13989323754646\n",
            "20.819277108433734\n",
            "20.819277108433734\n",
            "20.143646163601776\n",
            "20.819277108433734\n",
            "20.819277108433734\n",
            "20.13918946504249\n",
            "20.80722891566265\n",
            "20.80722891566265\n",
            "20.138091843815047\n",
            "20.811244979919678\n",
            "20.811244979919678\n",
            "20.145262842414436\n",
            "20.815261044176708\n",
            "20.815261044176708\n",
            "20.141735282361676\n",
            "20.819277108433734\n",
            "20.819277108433734\n",
            "20.142486325392063\n",
            "20.803212851405622\n",
            "20.803212851405622\n",
            "20.14045984805021\n",
            "20.815261044176708\n",
            "20.815261044176708\n",
            "20.14875552000533\n",
            "20.819277108433734\n",
            "20.819277108433734\n",
            "20.144673674778797\n",
            "20.815261044176708\n",
            "20.815261044176708\n",
            "20.144613396113186\n",
            "20.823293172690764\n",
            "20.823293172690764\n",
            "20.1431627617481\n",
            "20.811244979919678\n",
            "20.811244979919678\n",
            "20.146280924409382\n",
            "20.815261044176708\n",
            "20.815261044176708\n",
            "20.144021170593025\n",
            "20.819277108433734\n",
            "20.823293172690764\n"
          ],
          "name": "stdout"
        },
        {
          "output_type": "display_data",
          "data": {
            "image/png": "[encoded data removed]",
            "text/plain": [
              "<Figure size 425.125x360 with 1 Axes>"
            ]
          },
          "metadata": {
            "tags": []
          }
        }
      ]
    },
    {
      "cell_type": "markdown",
      "metadata": {
        "id": "S5as_GJ-Okvv",
        "colab_type": "text"
      },
      "source": [
        "#Find the upper and lower bound of the mean of the New fleet."
      ]
    },
    {
      "cell_type": "code",
      "metadata": {
        "id": "ZpnBUhzwOnB5",
        "colab_type": "code",
        "colab": {
          "base_uri": "https://localhost:8080/",
          "height": 1000
        },
        "outputId": "0df7f1f2-41d8-4a19-e959-7faede4a11c4"
      },
      "source": [
        "\n",
        "boots = []\n",
        "for i in range(100, 20000, 1000):\n",
        "    boot = boostrap_mean(dataNewFleet, dataNewFleet.shape[0], i)\n",
        "    boots.append([i, boot[0], \"mean\"])\n",
        "    boots.append([i, boot[1], \"lower\"])\n",
        "    boots.append([i, boot[2], \"upper\"])\n",
        "\n",
        "df_boot = pd.DataFrame(boots, columns=['Boostrap Iterations', 'Mean', \"Value\"])\n",
        "sns_plot = sns.lmplot(df_boot.columns[0], df_boot.columns[1], data=df_boot, fit_reg=False, hue=\"Value\")\n",
        "\n",
        "sns_plot.axes[0, 0].set_ylim(0,)\n",
        "sns_plot.axes[0, 0].set_xlim(0, 100000)\n",
        "\n",
        "sns_plot.savefig(\"Vehicle_current_freet_bootstrap_confidence.png\", bbox_inches='tight')\n",
        "#sns_plot.savefig(\"bootstrap_confidence.pdf\", bbox_inches='tight')\n",
        "from google.colab import files\n",
        "#files.download('Vehicle_current_freet_bootstrap_confidence.png') "
      ],
      "execution_count": 40,
      "outputs": [
        {
          "output_type": "stream",
          "text": [
            "30.551265822784806\n",
            "31.72151898734177\n",
            "31.746835443037973\n",
            "30.52481012658228\n",
            "31.68354430379747\n",
            "31.68354430379747\n",
            "30.4896383363472\n",
            "31.582278481012658\n",
            "31.582278481012658\n",
            "30.477954267047778\n",
            "31.569620253164558\n",
            "31.569620253164558\n",
            "30.483084285273232\n",
            "31.59493670886076\n",
            "31.60759493670886\n",
            "30.471186398610076\n",
            "31.569620253164558\n",
            "31.569620253164558\n",
            "30.467565885038386\n",
            "31.59493670886076\n",
            "31.59493670886076\n",
            "30.47253877696559\n",
            "31.59493670886076\n",
            "31.59493670886076\n",
            "30.481057977809034\n",
            "31.60759493670886\n",
            "31.620253164556964\n",
            "30.48110585616915\n",
            "31.59493670886076\n",
            "31.59493670886076\n",
            "30.482022809875925\n",
            "31.582278481012658\n",
            "31.582278481012658\n",
            "30.48038886988254\n",
            "31.59493670886076\n",
            "31.59493670886076\n",
            "30.473008682916625\n",
            "31.59493670886076\n",
            "31.59493670886076\n",
            "30.486026669243405\n",
            "31.620253164556964\n",
            "31.620253164556964\n",
            "30.483051440883383\n",
            "31.620253164556964\n",
            "31.620253164556964\n",
            "30.481975018861597\n",
            "31.60759493670886\n",
            "31.60759493670886\n",
            "30.476356631810674\n",
            "31.582278481012658\n",
            "31.582278481012658\n",
            "30.478942186690354\n",
            "31.59493670886076\n",
            "31.59493670886076\n",
            "30.47993635918596\n",
            "31.60759493670886\n",
            "31.60759493670886\n",
            "30.481054410497713\n",
            "31.60759493670886\n",
            "31.60759493670886\n"
          ],
          "name": "stdout"
        },
        {
          "output_type": "display_data",
          "data": {
            "image/png": "[encoded data removed]",
            "text/plain": [
              "<Figure size 425.125x360 with 1 Axes>"
            ]
          },
          "metadata": {
            "tags": []
          }
        }
      ]
    }
  ]
}