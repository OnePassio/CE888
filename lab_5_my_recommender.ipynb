{
  "nbformat": 4,
  "nbformat_minor": 0,
  "metadata": {
    "colab": {
      "name": "lab 5_my_recommender.ipynb",
      "provenance": [],
      "private_outputs": true,
      "authorship_tag": "ABX9TyM2F7f2RG9RfdH4eXIUUNDa",
      "include_colab_link": true
    },
    "kernelspec": {
      "name": "python3",
      "display_name": "Python 3"
    }
  },
  "cells": [
    {
      "cell_type": "markdown",
      "metadata": {
        "id": "view-in-github",
        "colab_type": "text"
      },
      "source": [
        "<a href=\"https://colab.research.google.com/github/OnePassio/CE888/blob/master/lab_5_my_recommender.ipynb\" target=\"_parent\"><img src=\"https://colab.research.google.com/assets/colab-badge.svg\" alt=\"Open In Colab\"/></a>"
      ]
    },
    {
      "cell_type": "markdown",
      "metadata": {
        "id": "qv_zYWeA-qaK",
        "colab_type": "text"
      },
      "source": [
        "# Lab 5\n",
        "https://github.com/albanda/CE888/tree/master/lab5-recommender"
      ]
    },
    {
      "cell_type": "markdown",
      "metadata": {
        "id": "lhXci0fu_R4b",
        "colab_type": "text"
      },
      "source": [
        "1.Load Database \"jester-data-1.csv\"\n",
        "Format:\n",
        "- Ratings are real values ranging from -10.00 to +10.00 (the value \"99\" corresponds to \"null\" = \"not rated\").\n",
        "- One row per user\n",
        "- The first column gives the number of jokes rated by that user. The next 100 columns give the ratings for jokes 01 - 100.\n",
        "- The sub-matrix including only columns {5, 7, 8, 13, 15, 16, 17, 18, 19, 20} is dense. Almost all users have rated those jokes (see discussion of \"universal queries\" in the above paper)."
      ]
    },
    {
      "cell_type": "code",
      "metadata": {
        "id": "1xQuq3S-9LwZ",
        "colab_type": "code",
        "colab": {}
      },
      "source": [
        "import pandas as pd\n",
        "import numpy as np\n",
        "import warnings\n",
        "warnings.filterwarnings('ignore')\n",
        "\n",
        "\n",
        "df_data= pd.read_excel('https://raw.githubusercontent.com/OnePassio/CE888/master/lab5/jester-data-1.xls',\n",
        "                       header=None)\n",
        "df_data.head()"
      ],
      "execution_count": 0,
      "outputs": []
    },
    {
      "cell_type": "markdown",
      "metadata": {
        "id": "pTng89BCAjYX",
        "colab_type": "text"
      },
      "source": [
        "2.Using the helper function provided in the helper_function notebook (or create your own), label 10% of the dataset cells as 99. This is your validation set. Keep the the actual values of the cells so you can use them later."
      ]
    },
    {
      "cell_type": "code",
      "metadata": {
        "id": "w67fZxL5AlZc",
        "colab_type": "code",
        "colab": {}
      },
      "source": [
        "def replace(orig, percentage=0.1):\n",
        "  \"\"\"\n",
        "  Replaces 'percentage'% of the original values in 'orig' with 99's\n",
        "  :param orig: original data array\n",
        "  :param percentage: percentage of values to replace (0<percentage<1)\n",
        "  \"\"\"\n",
        "  new_data = orig.copy()\n",
        "  rated = np.where(orig!=99)\n",
        "  n_rated = len(rated[0])\n",
        "  idx = np.random.choice(n_rated, size=int(percentage*n_rated), replace=False)\n",
        "  new_data[rated[0][idx], rated[1][idx]] = 99\n",
        "  return new_data, (rated[0][idx], rated[1][idx])"
      ],
      "execution_count": 0,
      "outputs": []
    },
    {
      "cell_type": "code",
      "metadata": {
        "id": "wP5uJsULBDO8",
        "colab_type": "code",
        "colab": {}
      },
      "source": [
        "# original data\n",
        "data_original=df_data.values\n",
        "print(data_original.shape)\n",
        "\n",
        "#rated = np.where(data_original!=99)\n",
        "#print(len(rated[0]), rated[1].shape)"
      ],
      "execution_count": 0,
      "outputs": []
    },
    {
      "cell_type": "code",
      "metadata": {
        "id": "BXWejtg8Bs8L",
        "colab_type": "code",
        "colab": {}
      },
      "source": [
        "#new data with 10% replace value 99\n",
        "data_new, idx = replace(data_original, 0.1)\n",
        "print(data_new.shape)\n",
        "data_new"
      ],
      "execution_count": 0,
      "outputs": []
    },
    {
      "cell_type": "markdown",
      "metadata": {
        "id": "bEgoUZ39DTXR",
        "colab_type": "text"
      },
      "source": [
        "3.Use latent factor modeling to infer the hidden ratings of the users (they are labeled as \"99\" in the dataset) on the training set"
      ]
    },
    {
      "cell_type": "code",
      "metadata": {
        "id": "D8RHNUH0DmEa",
        "colab_type": "code",
        "colab": {}
      },
      "source": [
        "#data without first column\n",
        "data_new_2 = np.delete(data_new, 0, 1)\n",
        "#print(data_new_2.shape)\n",
        "#data_new\n",
        "\n",
        "# Initialise as random values\n",
        "n_latent_factors = 2\n",
        "latent_user_preferences = np.random.random((data_new_2.shape[0], n_latent_factors))\n",
        "latent_item_features = np.random.random((data_new_2.shape[1], n_latent_factors))\n",
        "\n"
      ],
      "execution_count": 0,
      "outputs": []
    },
    {
      "cell_type": "code",
      "metadata": {
        "id": "IGIQ-4_KHtnS",
        "colab_type": "code",
        "colab": {}
      },
      "source": [
        "def predict_rating(user_id, item_id):\n",
        "    \"\"\" Predict a rating given a user_id and an item_id.\n",
        "    \"\"\"\n",
        "    user_preference = latent_user_preferences[user_id]\n",
        "    item_preference = latent_item_features[item_id]\n",
        "    return user_preference.dot(item_preference)\n",
        "\n",
        "\n",
        "def train(user_id, item_id, rating, alpha=0.0001):\n",
        "    \n",
        "    #print item_id\n",
        "    prediction_rating = predict_rating(user_id, item_id)\n",
        "    err =  prediction_rating - rating\n",
        "    #print err\n",
        "    user_pref_values = latent_user_preferences[user_id][:]\n",
        "    latent_user_preferences[user_id] -= alpha * err * latent_item_features[item_id]\n",
        "    latent_item_features[item_id] -= alpha * err * user_pref_values\n",
        "    return err\n",
        "    \n",
        "\n",
        "def sgd(iterations=30,print_value=10):\n",
        "    \"\"\" Iterate over all users and all items and train for \n",
        "        a certain number of iterations\n",
        "    \"\"\"\n",
        "    for iteration in range(iterations):\n",
        "        error = []\n",
        "        for user_id in range(latent_user_preferences.shape[0]):\n",
        "            for item_id in range(latent_item_features.shape[0]):\n",
        "                rating = data_new_2[user_id][item_id]\n",
        "                if abs(rating-99)>0.1: # rating is not 99.0  -->not np.isnan(rating):\n",
        "                    err = train(user_id, item_id, rating)\n",
        "                    error.append(err)\n",
        "        mse = (np.array(error) ** 2).mean()   \n",
        "        #if (iteration % print_value) == 0:\n",
        "          #print(\"mse: {}\".format(mse))\n",
        "        print(\"iteration: {},mse: {}\".format(iteration,mse))"
      ],
      "execution_count": 0,
      "outputs": []
    },
    {
      "cell_type": "code",
      "metadata": {
        "id": "_y6I4brgH3FU",
        "colab_type": "code",
        "colab": {}
      },
      "source": [
        "sgd(30,10)"
      ],
      "execution_count": 0,
      "outputs": []
    }
  ]
}