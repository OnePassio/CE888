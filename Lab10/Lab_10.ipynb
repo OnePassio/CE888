{
  "nbformat": 4,
  "nbformat_minor": 0,
  "metadata": {
    "colab": {
      "name": "Lab 10.ipynb",
      "provenance": [],
      "collapsed_sections": [],
      "authorship_tag": "ABX9TyMSHUOwENFxCLkwU9uxZL5Q",
      "include_colab_link": true
    },
    "kernelspec": {
      "name": "python3",
      "display_name": "Python 3"
    }
  },
  "cells": [
    {
      "cell_type": "markdown",
      "metadata": {
        "id": "view-in-github",
        "colab_type": "text"
      },
      "source": [
        "<a href=\"https://colab.research.google.com/github/OnePassio/CE888/blob/master/Lab10/Lab_10.ipynb\" target=\"_parent\"><img src=\"https://colab.research.google.com/assets/colab-badge.svg\" alt=\"Open In Colab\"/></a>"
      ]
    },
    {
      "cell_type": "markdown",
      "metadata": {
        "id": "7YFG0lIS0OGv",
        "colab_type": "text"
      },
      "source": [
        "Link github: https://github.com/OnePassio/BuildML\n",
        "\n",
        "Dashboard from heroku to predict heart desease: https://lab10buildml.herokuapp.com/"
      ]
    },
    {
      "cell_type": "markdown",
      "metadata": {
        "id": "hmXbWgUr0b8C",
        "colab_type": "text"
      },
      "source": [
        "# Build model from data from kaggle then download this model to heroku"
      ]
    },
    {
      "cell_type": "code",
      "metadata": {
        "id": "d1B8psa6o9s5",
        "colab_type": "code",
        "colab": {}
      },
      "source": [
        "import pandas as pd\n",
        "import numpy as np\n",
        "import warnings\n",
        "from sklearn.model_selection import train_test_split\n",
        "from sklearn.ensemble import ExtraTreesClassifier\n",
        "from sklearn.linear_model import LogisticRegression\n",
        "from sklearn.dummy import DummyClassifier\n",
        "from sklearn.model_selection import cross_val_score\n",
        "from sklearn.metrics import make_scorer, accuracy_score\n",
        "import matplotlib.pyplot as plt\n",
        "import pickle\n",
        "warnings.filterwarnings('ignore')"
      ],
      "execution_count": 0,
      "outputs": []
    },
    {
      "cell_type": "markdown",
      "metadata": {
        "id": "MohIJ7gF0sc9",
        "colab_type": "text"
      },
      "source": [
        "## Download data from kaggle"
      ]
    },
    {
      "cell_type": "code",
      "metadata": {
        "id": "Qi5wIe0aoM8e",
        "colab_type": "code",
        "colab": {
          "base_uri": "https://localhost:8080/",
          "height": 34
        },
        "outputId": "045738cc-0511-447b-86d4-19432a5400fb"
      },
      "source": [
        "import os\n",
        "os.environ['KAGGLE_USERNAME'] = \"thomastran89\" # username from the json file\n",
        "os.environ['KAGGLE_KEY'] = \"29b93919c31aa2997218d05bc048f093\" # key from the json file\n",
        "!kaggle datasets download -d ronitf/heart-disease-uci"
      ],
      "execution_count": 67,
      "outputs": [
        {
          "output_type": "stream",
          "text": [
            "heart-disease-uci.zip: Skipping, found more recently modified local copy (use --force to force download)\n"
          ],
          "name": "stdout"
        }
      ]
    },
    {
      "cell_type": "code",
      "metadata": {
        "id": "mUBolq60oerd",
        "colab_type": "code",
        "colab": {
          "base_uri": "https://localhost:8080/",
          "height": 51
        },
        "outputId": "6aba33bb-2b02-4ac1-fa93-88de34ea93b1"
      },
      "source": [
        "ls"
      ],
      "execution_count": 68,
      "outputs": [
        {
          "output_type": "stream",
          "text": [
            "\u001b[0m\u001b[01;34mCE888\u001b[0m/     heart-disease-uci.zip  RF_model.pkl\n",
            "heart.csv  logistic_model.pkl     \u001b[01;34msample_data\u001b[0m/\n"
          ],
          "name": "stdout"
        }
      ]
    },
    {
      "cell_type": "markdown",
      "metadata": {
        "id": "oUT5UorV0pOu",
        "colab_type": "text"
      },
      "source": [
        "## unzip data"
      ]
    },
    {
      "cell_type": "code",
      "metadata": {
        "id": "G-vIbX3DonJc",
        "colab_type": "code",
        "colab": {
          "base_uri": "https://localhost:8080/",
          "height": 68
        },
        "outputId": "58a93039-49bf-4f5a-e10f-c2eb5eb3f86d"
      },
      "source": [
        "!unzip heart-disease-uci.zip"
      ],
      "execution_count": 69,
      "outputs": [
        {
          "output_type": "stream",
          "text": [
            "Archive:  heart-disease-uci.zip\n",
            "replace heart.csv? [y]es, [n]o, [A]ll, [N]one, [r]ename: y\n",
            "  inflating: heart.csv               \n"
          ],
          "name": "stdout"
        }
      ]
    },
    {
      "cell_type": "code",
      "metadata": {
        "id": "ZSvtGFgaoukm",
        "colab_type": "code",
        "colab": {
          "base_uri": "https://localhost:8080/",
          "height": 51
        },
        "outputId": "52acb494-1f30-4d45-d302-19ea42c11f9c"
      },
      "source": [
        "ls"
      ],
      "execution_count": 70,
      "outputs": [
        {
          "output_type": "stream",
          "text": [
            "\u001b[0m\u001b[01;34mCE888\u001b[0m/     heart-disease-uci.zip  RF_model.pkl\n",
            "heart.csv  logistic_model.pkl     \u001b[01;34msample_data\u001b[0m/\n"
          ],
          "name": "stdout"
        }
      ]
    },
    {
      "cell_type": "markdown",
      "metadata": {
        "id": "6Gnp6Xq80xc1",
        "colab_type": "text"
      },
      "source": [
        "## Read data from csv"
      ]
    },
    {
      "cell_type": "code",
      "metadata": {
        "id": "l07e67wDowUL",
        "colab_type": "code",
        "colab": {}
      },
      "source": [
        "df_data=pd.read_csv('heart.csv')"
      ],
      "execution_count": 0,
      "outputs": []
    },
    {
      "cell_type": "markdown",
      "metadata": {
        "id": "GGPEEpQX03AB",
        "colab_type": "text"
      },
      "source": [
        "## Create X,y and split data to train and test"
      ]
    },
    {
      "cell_type": "code",
      "metadata": {
        "id": "J-th4a8_pNDz",
        "colab_type": "code",
        "colab": {}
      },
      "source": [
        "X=df_data.drop('target',axis=1)\n",
        "y=df_data['target']\n",
        "features=list(df_data.drop([\"target\"],axis=1))"
      ],
      "execution_count": 0,
      "outputs": []
    },
    {
      "cell_type": "code",
      "metadata": {
        "id": "_iDcSRvVpkKp",
        "colab_type": "code",
        "colab": {
          "base_uri": "https://localhost:8080/",
          "height": 204
        },
        "outputId": "d9efeaa1-efb5-4c25-fec1-fc8bd0bd781a"
      },
      "source": [
        "X_train, X_test, y_train, y_test = train_test_split(X, y, test_size=0.5, stratify=y, random_state=0)\n",
        "X_train.head()"
      ],
      "execution_count": 73,
      "outputs": [
        {
          "output_type": "execute_result",
          "data": {
            "text/html": [
              "<div>\n",
              "<style scoped>\n",
              "    .dataframe tbody tr th:only-of-type {\n",
              "        vertical-align: middle;\n",
              "    }\n",
              "\n",
              "    .dataframe tbody tr th {\n",
              "        vertical-align: top;\n",
              "    }\n",
              "\n",
              "    .dataframe thead th {\n",
              "        text-align: right;\n",
              "    }\n",
              "</style>\n",
              "<table border=\"1\" class=\"dataframe\">\n",
              "  <thead>\n",
              "    <tr style=\"text-align: right;\">\n",
              "      <th></th>\n",
              "      <th>age</th>\n",
              "      <th>sex</th>\n",
              "      <th>cp</th>\n",
              "      <th>trestbps</th>\n",
              "      <th>chol</th>\n",
              "      <th>fbs</th>\n",
              "      <th>restecg</th>\n",
              "      <th>thalach</th>\n",
              "      <th>exang</th>\n",
              "      <th>oldpeak</th>\n",
              "      <th>slope</th>\n",
              "      <th>ca</th>\n",
              "      <th>thal</th>\n",
              "    </tr>\n",
              "  </thead>\n",
              "  <tbody>\n",
              "    <tr>\n",
              "      <th>156</th>\n",
              "      <td>47</td>\n",
              "      <td>1</td>\n",
              "      <td>2</td>\n",
              "      <td>130</td>\n",
              "      <td>253</td>\n",
              "      <td>0</td>\n",
              "      <td>1</td>\n",
              "      <td>179</td>\n",
              "      <td>0</td>\n",
              "      <td>0.0</td>\n",
              "      <td>2</td>\n",
              "      <td>0</td>\n",
              "      <td>2</td>\n",
              "    </tr>\n",
              "    <tr>\n",
              "      <th>276</th>\n",
              "      <td>58</td>\n",
              "      <td>1</td>\n",
              "      <td>0</td>\n",
              "      <td>146</td>\n",
              "      <td>218</td>\n",
              "      <td>0</td>\n",
              "      <td>1</td>\n",
              "      <td>105</td>\n",
              "      <td>0</td>\n",
              "      <td>2.0</td>\n",
              "      <td>1</td>\n",
              "      <td>1</td>\n",
              "      <td>3</td>\n",
              "    </tr>\n",
              "    <tr>\n",
              "      <th>134</th>\n",
              "      <td>41</td>\n",
              "      <td>0</td>\n",
              "      <td>1</td>\n",
              "      <td>126</td>\n",
              "      <td>306</td>\n",
              "      <td>0</td>\n",
              "      <td>1</td>\n",
              "      <td>163</td>\n",
              "      <td>0</td>\n",
              "      <td>0.0</td>\n",
              "      <td>2</td>\n",
              "      <td>0</td>\n",
              "      <td>2</td>\n",
              "    </tr>\n",
              "    <tr>\n",
              "      <th>108</th>\n",
              "      <td>50</td>\n",
              "      <td>0</td>\n",
              "      <td>1</td>\n",
              "      <td>120</td>\n",
              "      <td>244</td>\n",
              "      <td>0</td>\n",
              "      <td>1</td>\n",
              "      <td>162</td>\n",
              "      <td>0</td>\n",
              "      <td>1.1</td>\n",
              "      <td>2</td>\n",
              "      <td>0</td>\n",
              "      <td>2</td>\n",
              "    </tr>\n",
              "    <tr>\n",
              "      <th>101</th>\n",
              "      <td>59</td>\n",
              "      <td>1</td>\n",
              "      <td>3</td>\n",
              "      <td>178</td>\n",
              "      <td>270</td>\n",
              "      <td>0</td>\n",
              "      <td>0</td>\n",
              "      <td>145</td>\n",
              "      <td>0</td>\n",
              "      <td>4.2</td>\n",
              "      <td>0</td>\n",
              "      <td>0</td>\n",
              "      <td>3</td>\n",
              "    </tr>\n",
              "  </tbody>\n",
              "</table>\n",
              "</div>"
            ],
            "text/plain": [
              "     age  sex  cp  trestbps  chol  ...  exang  oldpeak  slope  ca  thal\n",
              "156   47    1   2       130   253  ...      0      0.0      2   0     2\n",
              "276   58    1   0       146   218  ...      0      2.0      1   1     3\n",
              "134   41    0   1       126   306  ...      0      0.0      2   0     2\n",
              "108   50    0   1       120   244  ...      0      1.1      2   0     2\n",
              "101   59    1   3       178   270  ...      0      4.2      0   0     3\n",
              "\n",
              "[5 rows x 13 columns]"
            ]
          },
          "metadata": {
            "tags": []
          },
          "execution_count": 73
        }
      ]
    },
    {
      "cell_type": "markdown",
      "metadata": {
        "id": "OTq0LKUO0_BF",
        "colab_type": "text"
      },
      "source": [
        "## Build model use LogisticRegression"
      ]
    },
    {
      "cell_type": "code",
      "metadata": {
        "id": "38KTnw-2rE6M",
        "colab_type": "code",
        "colab": {
          "base_uri": "https://localhost:8080/",
          "height": 34
        },
        "outputId": "8f1d477f-61fc-4ca1-dddb-3246bc3c3873"
      },
      "source": [
        "#build model use ExtraTreesClassifier\n",
        "#model_clf = ExtraTreesClassifier(n_estimators=1000, max_depth=4)\n",
        "#model_clf.fit(X_train,y_train)\n",
        "#scores = cross_val_score(model_clf, X_train, y_train, cv=10,scoring=make_scorer(accuracy_score))\n",
        "\n",
        "# use LogisticRegression\n",
        "model_logicrgr = LogisticRegression()\n",
        "model_logicrgr.fit(X_train,y_train)\n",
        "scores = cross_val_score(model_logicrgr, X_train, y_train, cv=10,scoring=make_scorer(accuracy_score))\n",
        "\n",
        "#Report the results of 10-Kfold stratified cross-validation\n",
        "print(\"ACC: %0.2f +/- %0.2f\" % (scores.mean(), scores.std()))\n"
      ],
      "execution_count": 74,
      "outputs": [
        {
          "output_type": "stream",
          "text": [
            "ACC: 0.81 +/- 0.10\n"
          ],
          "name": "stdout"
        }
      ]
    },
    {
      "cell_type": "markdown",
      "metadata": {
        "id": "bP9YAQXC1EEz",
        "colab_type": "text"
      },
      "source": [
        "## Testing model"
      ]
    },
    {
      "cell_type": "code",
      "metadata": {
        "id": "SEJPW9zgtM6Y",
        "colab_type": "code",
        "colab": {
          "base_uri": "https://localhost:8080/",
          "height": 102
        },
        "outputId": "f4e3982b-da8f-4ee8-9e36-163c0ccc4803"
      },
      "source": [
        "#test model\n",
        "y_predict=model_clf.predict(X_test)\n",
        "print(y_predict)"
      ],
      "execution_count": 75,
      "outputs": [
        {
          "output_type": "stream",
          "text": [
            "[0 1 0 1 1 1 1 1 1 1 1 1 1 1 0 1 0 1 1 1 1 0 1 0 0 0 1 1 1 0 1 0 1 1 0 1 1\n",
            " 0 1 1 0 1 0 0 1 0 0 0 0 1 1 0 1 1 0 0 0 0 1 1 1 1 0 0 1 1 0 0 0 1 1 1 1 0\n",
            " 1 1 1 1 1 0 1 1 1 1 0 0 0 1 1 0 0 0 0 0 0 1 0 1 1 1 1 1 0 1 1 0 1 1 1 0 0\n",
            " 0 1 1 1 0 1 1 0 1 1 0 0 1 1 0 1 1 1 1 1 1 1 1 1 1 0 0 1 0 1 1 1 0 0 0 1 1\n",
            " 1 1 1 0]\n"
          ],
          "name": "stdout"
        }
      ]
    },
    {
      "cell_type": "markdown",
      "metadata": {
        "id": "OC2Ftu6a1QLa",
        "colab_type": "text"
      },
      "source": [
        "## Save and download model to local computer to deploy on heroku"
      ]
    },
    {
      "cell_type": "code",
      "metadata": {
        "id": "vSRXeMgas7M7",
        "colab_type": "code",
        "colab": {}
      },
      "source": [
        "# save the model to disk\n",
        "filename = 'logistic_model.pkl'\n",
        "pickle.dump(model_logicrgr, open(filename, 'wb'))"
      ],
      "execution_count": 0,
      "outputs": []
    },
    {
      "cell_type": "code",
      "metadata": {
        "id": "JFxOdXTpsOLZ",
        "colab_type": "code",
        "colab": {}
      },
      "source": [
        "#download model to computer\n",
        "from google.colab import files\n",
        "files.download('logistic_model.pkl')"
      ],
      "execution_count": 0,
      "outputs": []
    }
  ]
}