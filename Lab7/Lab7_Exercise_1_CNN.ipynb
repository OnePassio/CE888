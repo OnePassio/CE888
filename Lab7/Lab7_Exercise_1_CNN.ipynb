{
  "nbformat": 4,
  "nbformat_minor": 0,
  "metadata": {
    "kernelspec": {
      "name": "python3",
      "display_name": "Python 3"
    },
    "language_info": {
      "codemirror_mode": {
        "name": "ipython",
        "version": 3
      },
      "file_extension": ".py",
      "mimetype": "text/x-python",
      "name": "python",
      "nbconvert_exporter": "python",
      "pygments_lexer": "ipython3",
      "version": "3.6.5"
    },
    "colab": {
      "name": "Lab7_Exercise_1_CNN.ipynb",
      "provenance": [],
      "include_colab_link": true
    },
    "accelerator": "TPU"
  },
  "cells": [
    {
      "cell_type": "markdown",
      "metadata": {
        "id": "view-in-github",
        "colab_type": "text"
      },
      "source": [
        "<a href=\"https://colab.research.google.com/github/OnePassio/CE888/blob/master/Lab7/Lab7_Exercise_1_CNN.ipynb\" target=\"_parent\"><img src=\"https://colab.research.google.com/assets/colab-badge.svg\" alt=\"Open In Colab\"/></a>"
      ]
    },
    {
      "cell_type": "code",
      "metadata": {
        "id": "lSyHCSV7jymI",
        "colab_type": "code",
        "colab": {}
      },
      "source": [
        "from keras import layers\n",
        "from keras import models\n",
        "# ignore warning message\n",
        "import warnings\n",
        "warnings.filterwarnings('ignore')"
      ],
      "execution_count": 0,
      "outputs": []
    },
    {
      "cell_type": "markdown",
      "metadata": {
        "id": "oWNzCYUUjymN",
        "colab_type": "text"
      },
      "source": [
        "Importantly, a convnet takes as input tensors of shape (image_height, image_width,\n",
        "image_channels) (not including the batch dimension). In this case, we’ll configure\n",
        "the convnet to process inputs of size (28, 28, 1), which is the format of MNIST\n",
        "images. We’ll do this by passing the argument input_shape=(28, 28, 1) to the first\n",
        "layer."
      ]
    },
    {
      "cell_type": "markdown",
      "metadata": {
        "id": "dM4JLEpwjymN",
        "colab_type": "text"
      },
      "source": [
        "#### Instantiating a small convnet"
      ]
    },
    {
      "cell_type": "code",
      "metadata": {
        "id": "KQapVXqfGnPx",
        "colab_type": "code",
        "colab": {}
      },
      "source": [
        "#test activation test\n",
        "activation_test=\"sigmoid\""
      ],
      "execution_count": 0,
      "outputs": []
    },
    {
      "cell_type": "code",
      "metadata": {
        "id": "p-OnpExGjymO",
        "colab_type": "code",
        "outputId": "ad894dfb-6102-47fe-cab4-12f98c0a9102",
        "colab": {
          "base_uri": "https://localhost:8080/",
          "height": 323
        }
      },
      "source": [
        "model = models.Sequential()\n",
        "model.add(layers.Conv2D(32, (3, 3), activation=activation_test, input_shape=(28, 28, 1)))\n",
        "model.add(layers.MaxPooling2D((2, 2)))\n",
        "model.add(layers.Conv2D(64, (3, 3), activation=activation_test))\n",
        "model.add(layers.MaxPooling2D((2, 2)))\n",
        "model.add(layers.Conv2D(64, (3, 3), activation=activation_test))\n",
        "model.summary()"
      ],
      "execution_count": 43,
      "outputs": [
        {
          "output_type": "stream",
          "text": [
            "Model: \"sequential_5\"\n",
            "_________________________________________________________________\n",
            "Layer (type)                 Output Shape              Param #   \n",
            "=================================================================\n",
            "conv2d_13 (Conv2D)           (None, 26, 26, 32)        320       \n",
            "_________________________________________________________________\n",
            "max_pooling2d_9 (MaxPooling2 (None, 13, 13, 32)        0         \n",
            "_________________________________________________________________\n",
            "conv2d_14 (Conv2D)           (None, 11, 11, 64)        18496     \n",
            "_________________________________________________________________\n",
            "max_pooling2d_10 (MaxPooling (None, 5, 5, 64)          0         \n",
            "_________________________________________________________________\n",
            "conv2d_15 (Conv2D)           (None, 3, 3, 64)          36928     \n",
            "=================================================================\n",
            "Total params: 55,744\n",
            "Trainable params: 55,744\n",
            "Non-trainable params: 0\n",
            "_________________________________________________________________\n"
          ],
          "name": "stdout"
        }
      ]
    },
    {
      "cell_type": "markdown",
      "metadata": {
        "id": "7gcVG3xkjymR",
        "colab_type": "text"
      },
      "source": [
        "#### Adding a classifier on top of the convnet"
      ]
    },
    {
      "cell_type": "code",
      "metadata": {
        "id": "C2DfhDJYjymR",
        "colab_type": "code",
        "outputId": "7bf70606-626a-42a0-9a80-bb6e98b35a7f",
        "colab": {
          "base_uri": "https://localhost:8080/",
          "height": 425
        }
      },
      "source": [
        "model.add(layers.Flatten())\n",
        "model.add(layers.Dense(64, activation=activation_test))\n",
        "model.add(layers.Dense(10, activation='softmax'))\n",
        "model.summary()\n",
        "\n",
        "#try other activation"
      ],
      "execution_count": 44,
      "outputs": [
        {
          "output_type": "stream",
          "text": [
            "Model: \"sequential_5\"\n",
            "_________________________________________________________________\n",
            "Layer (type)                 Output Shape              Param #   \n",
            "=================================================================\n",
            "conv2d_13 (Conv2D)           (None, 26, 26, 32)        320       \n",
            "_________________________________________________________________\n",
            "max_pooling2d_9 (MaxPooling2 (None, 13, 13, 32)        0         \n",
            "_________________________________________________________________\n",
            "conv2d_14 (Conv2D)           (None, 11, 11, 64)        18496     \n",
            "_________________________________________________________________\n",
            "max_pooling2d_10 (MaxPooling (None, 5, 5, 64)          0         \n",
            "_________________________________________________________________\n",
            "conv2d_15 (Conv2D)           (None, 3, 3, 64)          36928     \n",
            "_________________________________________________________________\n",
            "flatten_5 (Flatten)          (None, 576)               0         \n",
            "_________________________________________________________________\n",
            "dense_9 (Dense)              (None, 64)                36928     \n",
            "_________________________________________________________________\n",
            "dense_10 (Dense)             (None, 10)                650       \n",
            "=================================================================\n",
            "Total params: 93,322\n",
            "Trainable params: 93,322\n",
            "Non-trainable params: 0\n",
            "_________________________________________________________________\n"
          ],
          "name": "stdout"
        }
      ]
    },
    {
      "cell_type": "markdown",
      "metadata": {
        "id": "NOKVF4nKjymU",
        "colab_type": "text"
      },
      "source": [
        "### Training the convnet on MNIST images"
      ]
    },
    {
      "cell_type": "code",
      "metadata": {
        "id": "oIcgUbbUjymV",
        "colab_type": "code",
        "colab": {}
      },
      "source": [
        "from keras.datasets import mnist\n",
        "from keras.utils import to_categorical"
      ],
      "execution_count": 0,
      "outputs": []
    },
    {
      "cell_type": "markdown",
      "metadata": {
        "id": "ZnJ2Pfs_jymX",
        "colab_type": "text"
      },
      "source": [
        "#### Load Data"
      ]
    },
    {
      "cell_type": "code",
      "metadata": {
        "id": "JpHGHE9MjymY",
        "colab_type": "code",
        "colab": {}
      },
      "source": [
        "(train_images, train_labels), (test_images, test_labels) = mnist.load_data()\n",
        "train_images = train_images.reshape((60000, 28, 28, 1))\n",
        "train_images = train_images.astype('float32') / 255\n",
        "test_images = test_images.reshape((10000, 28, 28, 1))\n",
        "test_images = test_images.astype('float32') / 255\n",
        "train_labels = to_categorical(train_labels)\n",
        "test_labels = to_categorical(test_labels)"
      ],
      "execution_count": 0,
      "outputs": []
    },
    {
      "cell_type": "markdown",
      "metadata": {
        "id": "4HoTLrfSjymd",
        "colab_type": "text"
      },
      "source": [
        "#### compile and fit model "
      ]
    },
    {
      "cell_type": "code",
      "metadata": {
        "id": "i23FDtC9jyme",
        "colab_type": "code",
        "outputId": "258d9b33-40f3-4262-d650-059baa9b8d99",
        "colab": {
          "base_uri": "https://localhost:8080/",
          "height": 204
        }
      },
      "source": [
        "model.compile(optimizer='rmsprop', \n",
        "              loss='categorical_crossentropy',\n",
        "              metrics=['accuracy'])\n",
        "history = model.fit(train_images, train_labels, epochs=5, batch_size=64, validation_split=0.2)"
      ],
      "execution_count": 47,
      "outputs": [
        {
          "output_type": "stream",
          "text": [
            "Train on 48000 samples, validate on 12000 samples\n",
            "Epoch 1/5\n",
            "48000/48000 [==============================] - 45s 943us/step - loss: 1.0192 - acc: 0.6658 - val_loss: 0.2617 - val_acc: 0.9262\n",
            "Epoch 2/5\n",
            "48000/48000 [==============================] - 44s 923us/step - loss: 0.1983 - acc: 0.9416 - val_loss: 0.1381 - val_acc: 0.9585\n",
            "Epoch 3/5\n",
            "48000/48000 [==============================] - 44s 919us/step - loss: 0.1152 - acc: 0.9646 - val_loss: 0.0912 - val_acc: 0.9716\n",
            "Epoch 4/5\n",
            "48000/48000 [==============================] - 44s 919us/step - loss: 0.0851 - acc: 0.9742 - val_loss: 0.0677 - val_acc: 0.9803\n",
            "Epoch 5/5\n",
            "48000/48000 [==============================] - 44s 916us/step - loss: 0.0687 - acc: 0.9784 - val_loss: 0.0772 - val_acc: 0.9768\n"
          ],
          "name": "stdout"
        }
      ]
    },
    {
      "cell_type": "markdown",
      "metadata": {
        "id": "9zU8iI5ojymg",
        "colab_type": "text"
      },
      "source": [
        "#### evaluate model"
      ]
    },
    {
      "cell_type": "code",
      "metadata": {
        "id": "Z3VeaL1Njymh",
        "colab_type": "code",
        "outputId": "7a580dfb-aa3c-4061-b4c3-cb023ad0403c",
        "colab": {
          "base_uri": "https://localhost:8080/",
          "height": 51
        }
      },
      "source": [
        "test_loss, test_acc = model.evaluate(test_images, test_labels)\n",
        "test_acc"
      ],
      "execution_count": 48,
      "outputs": [
        {
          "output_type": "stream",
          "text": [
            "10000/10000 [==============================] - 3s 301us/step\n"
          ],
          "name": "stdout"
        },
        {
          "output_type": "execute_result",
          "data": {
            "text/plain": [
              "0.9781"
            ]
          },
          "metadata": {
            "tags": []
          },
          "execution_count": 48
        }
      ]
    },
    {
      "cell_type": "code",
      "metadata": {
        "id": "wXNZOY7Sjymj",
        "colab_type": "code",
        "outputId": "19a1b779-6b48-4ff9-d377-b8a07c315a5d",
        "colab": {
          "base_uri": "https://localhost:8080/",
          "height": 545
        }
      },
      "source": [
        "import matplotlib.pyplot as plt\n",
        "\n",
        "acc = history.history['acc']\n",
        "val_acc = history.history['val_acc']\n",
        "loss = history.history['loss']\n",
        "val_loss = history.history['val_loss']\n",
        "\n",
        "epochs = range(1, len(acc) + 1)\n",
        "\n",
        "plt.plot(epochs, acc, 'bo', label='Training acc')\n",
        "plt.plot(epochs, val_acc, 'b', label='Validation acc')\n",
        "plt.title('Training and validation accuracy')\n",
        "plt.legend()\n",
        "\n",
        "plt.figure()\n",
        "\n",
        "plt.plot(epochs, loss, 'bo', label='Training loss')\n",
        "plt.plot(epochs, val_loss, 'b', label='Validation loss')\n",
        "plt.title('Training and validation loss')\n",
        "plt.legend()\n",
        "\n",
        "plt.show()"
      ],
      "execution_count": 49,
      "outputs": [
        {
          "output_type": "display_data",
          "data": {
            "image/png": "[encoded data removed]",
            "text/plain": [
              "<Figure size 432x288 with 1 Axes>"
            ]
          },
          "metadata": {
            "tags": []
          }
        },
        {
          "output_type": "display_data",
          "data": {
            "image/png": "[encoded data removed]",
            "text/plain": [
              "<Figure size 432x288 with 1 Axes>"
            ]
          },
          "metadata": {
            "tags": []
          }
        }
      ]
    },
    {
      "cell_type": "markdown",
      "metadata": {
        "id": "dsQMc0Iojyml",
        "colab_type": "text"
      },
      "source": [
        "** Exercise:  **\n",
        "\n",
        "Change the activation function and other parameters such as optimizer to see the effect on the network and it's performance."
      ]
    },
    {
      "cell_type": "code",
      "metadata": {
        "id": "Zsk6XgHgjymm",
        "colab_type": "code",
        "colab": {}
      },
      "source": [
        "activation_test=\"elu\" # restart"
      ],
      "execution_count": 0,
      "outputs": []
    },
    {
      "cell_type": "markdown",
      "metadata": {
        "id": "XolNYoSzIGOi",
        "colab_type": "text"
      },
      "source": [
        "##Result with activation_test=\"elu\"\n",
        "Train on 48000 samples, validate on 12000 samples\n",
        "# \n",
        "Epoch 1/5\n",
        "48000/48000 [==============================] - 52s 1ms/step - loss: 0.1858 - acc: 0.9426 - val_loss: 0.0729 - val_acc: 0.9800\n",
        "Epoch 2/5\n",
        "48000/48000 [==============================] - 51s 1ms/step - loss: 0.0689 - acc: 0.9807 - val_loss: 0.0640 - val_acc: 0.9842\n",
        "Epoch 3/5\n",
        "48000/48000 [==============================] - 51s 1ms/step - loss: 0.0533 - acc: 0.9858 - val_loss: 0.0739 - val_acc: 0.9830\n",
        "Epoch 4/5\n",
        "48000/48000 [==============================] - 52s 1ms/step - loss: 0.0444 - acc: 0.9886 - val_loss: 0.0663 - val_acc: 0.9865\n",
        "Epoch 5/5\n",
        "48000/48000 [==============================] - 51s 1ms/step - loss: 0.0399 - acc: 0.9904 - val_loss: 0.0620 - val_acc: 0.9894\n",
        "# \n",
        "test_acc=0.9902\n",
        "\n",
        "##Result with activation_test=\"relu\"\n",
        "Train on 48000 samples, validate on 12000 samples\n",
        "# \n",
        "Epoch 1/5\n",
        "48000/48000 [==============================] - 45s 937us/step - loss: 0.2383 - acc: 0.9262 - val_loss: 0.1050 - val_acc: 0.9722\n",
        "Epoch 2/5\n",
        "48000/48000 [==============================] - 45s 933us/step - loss: 0.0794 - acc: 0.9771 - val_loss: 0.0707 - val_acc: 0.9830\n",
        "Epoch 3/5\n",
        "48000/48000 [==============================] - 45s 938us/step - loss: 0.0643 - acc: 0.9830 - val_loss: 0.0688 - val_acc: 0.9825\n",
        "Epoch 4/5\n",
        "48000/48000 [==============================] - 45s 936us/step - loss: 0.0514 - acc: 0.9869 - val_loss: 0.0719 - val_acc: 0.9839\n",
        "Epoch 5/5\n",
        "48000/48000 [==============================] - 45s 941us/step - loss: 0.0433 - acc: 0.9889 - val_loss: 0.0605 - val_acc: 0.9875\n",
        "# \n",
        "test_acc= 0.9893\n",
        "\n",
        "##Result with activation_test=\"tanh\"\n",
        "Train on 48000 samples, validate on 12000 samples\n",
        "# \n",
        "Epoch 1/5\n",
        "48000/48000 [==============================] - 45s 942us/step - loss: 0.1689 - acc: 0.9499 - val_loss: 0.0742 - val_acc: 0.9788\n",
        "Epoch 2/5\n",
        "48000/48000 [==============================] - 45s 937us/step - loss: 0.0527 - acc: 0.9842 - val_loss: 0.0444 - val_acc: 0.9867\n",
        "Epoch 3/5\n",
        "48000/48000 [==============================] - 45s 940us/step - loss: 0.0354 - acc: 0.9890 - val_loss: 0.0481 - val_acc: 0.9868\n",
        "Epoch 4/5\n",
        "48000/48000 [==============================] - 46s 962us/step - loss: 0.0254 - acc: 0.9924 - val_loss: 0.0472 - val_acc: 0.9868\n",
        "Epoch 5/5\n",
        "48000/48000 [==============================] - 46s 965us/step - loss: 0.0184 - acc: 0.9943 - val_loss: 0.0442 - val_acc: 0.9880\n",
        "# \n",
        "test_acc=0.9895\n",
        "\n",
        "##Result with activation_test=\"sigmoid\"\n",
        "Train on 48000 samples, validate on 12000 samples\n",
        "# \n",
        "Epoch 1/5\n",
        "48000/48000 [==============================] - 45s 943us/step - loss: 1.0192 - acc: 0.6658 - val_loss: 0.2617 - val_acc: 0.9262\n",
        "Epoch 2/5\n",
        "48000/48000 [==============================] - 44s 923us/step - loss: 0.1983 - acc: 0.9416 - val_loss: 0.1381 - val_acc: 0.9585\n",
        "Epoch 3/5\n",
        "48000/48000 [==============================] - 44s 919us/step - loss: 0.1152 - acc: 0.9646 - val_loss: 0.0912 - val_acc: 0.9716\n",
        "Epoch 4/5\n",
        "48000/48000 [==============================] - 44s 919us/step - loss: 0.0851 - acc: 0.9742 - val_loss: 0.0677 - val_acc: 0.9803\n",
        "Epoch 5/5\n",
        "48000/48000 [==============================] - 44s 916us/step - loss: 0.0687 - acc: 0.9784 - val_loss: 0.0772 - val_acc: 0.9768\n",
        "# \n",
        "test_acc=0.9781"
      ]
    }
  ]
}