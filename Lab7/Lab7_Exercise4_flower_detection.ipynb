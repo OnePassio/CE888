{
  "nbformat": 4,
  "nbformat_minor": 0,
  "metadata": {
    "colab": {
      "name": "Lab7_Exercise4_flower_detection.ipynb",
      "provenance": [],
      "collapsed_sections": [],
      "authorship_tag": "ABX9TyPkPU+SXoOPu1ICFaOvAWsw",
      "include_colab_link": true
    },
    "kernelspec": {
      "name": "python3",
      "display_name": "Python 3"
    },
    "accelerator": "GPU"
  },
  "cells": [
    {
      "cell_type": "markdown",
      "metadata": {
        "id": "view-in-github",
        "colab_type": "text"
      },
      "source": [
        "<a href=\"https://colab.research.google.com/github/OnePassio/CE888/blob/master/Lab7/Lab7_Exercise4_flower_detection.ipynb\" target=\"_parent\"><img src=\"https://colab.research.google.com/assets/colab-badge.svg\" alt=\"Open In Colab\"/></a>"
      ]
    },
    {
      "cell_type": "markdown",
      "metadata": {
        "id": "NpPSjaCZ9l5b",
        "colab_type": "text"
      },
      "source": [
        "#Flowers Recognition from Kaggle\n",
        "This dataset contains labeled 4242 images of flowers.\n",
        "##API\n",
        "kaggle datasets download -d alxmamaev/flowers-recognition"
      ]
    },
    {
      "cell_type": "markdown",
      "metadata": {
        "id": "ci9kulM9_IA2",
        "colab_type": "text"
      },
      "source": [
        "#download the database"
      ]
    },
    {
      "cell_type": "code",
      "metadata": {
        "id": "WxiqZpiZ7FP9",
        "colab_type": "code",
        "colab": {
          "base_uri": "https://localhost:8080/",
          "height": 68
        },
        "outputId": "fa4ce4dc-2c11-4f84-fa65-0305b065aa38"
      },
      "source": [
        "import os\n",
        "os.environ['KAGGLE_USERNAME'] = \"thomastran89\" # username from the json file\n",
        "os.environ['KAGGLE_KEY'] = \"29b93919c31aa2997218d05bc048f093\" # key from the json file\n",
        "!kaggle datasets download -d alxmamaev/flowers-recognition"
      ],
      "execution_count": 1,
      "outputs": [
        {
          "output_type": "stream",
          "text": [
            "Downloading flowers-recognition.zip to /content\n",
            "100% 449M/450M [00:05<00:00, 119MB/s] \n",
            "100% 450M/450M [00:05<00:00, 80.7MB/s]\n"
          ],
          "name": "stdout"
        }
      ]
    },
    {
      "cell_type": "code",
      "metadata": {
        "id": "beD1xd_1_QQb",
        "colab_type": "code",
        "colab": {
          "base_uri": "https://localhost:8080/",
          "height": 34
        },
        "outputId": "ebe0cc99-0457-48bd-8e2f-69824bb31a28"
      },
      "source": [
        "!ls"
      ],
      "execution_count": 2,
      "outputs": [
        {
          "output_type": "stream",
          "text": [
            " flowers-recognition.zip  'mytest'$'\\001''.jpg'   sample_data\n"
          ],
          "name": "stdout"
        }
      ]
    },
    {
      "cell_type": "markdown",
      "metadata": {
        "id": "2w9iE8MD_Unc",
        "colab_type": "text"
      },
      "source": [
        "# Unzip data into 'contents' folder"
      ]
    },
    {
      "cell_type": "code",
      "metadata": {
        "id": "eiXcXcRD_q8g",
        "colab_type": "code",
        "colab": {}
      },
      "source": [
        "!unzip flowers-recognition.zip"
      ],
      "execution_count": 0,
      "outputs": []
    },
    {
      "cell_type": "code",
      "metadata": {
        "id": "_Zkay543_-Tx",
        "colab_type": "code",
        "colab": {
          "base_uri": "https://localhost:8080/",
          "height": 34
        },
        "outputId": "b306d3f9-b2c5-4cf8-d5c6-4354f2b51a20"
      },
      "source": [
        "!ls flowers"
      ],
      "execution_count": 4,
      "outputs": [
        {
          "output_type": "stream",
          "text": [
            "daisy  dandelion  flowers  rose  sunflower  tulip\n"
          ],
          "name": "stdout"
        }
      ]
    },
    {
      "cell_type": "markdown",
      "metadata": {
        "id": "Zz9bwS5lDnrg",
        "colab_type": "text"
      },
      "source": [
        "## Build test Model for test sunflower & tulip only\n",
        "dog = tulip\n",
        "sunflower= cat"
      ]
    },
    {
      "cell_type": "code",
      "metadata": {
        "id": "NCns1r_XC_K9",
        "colab_type": "code",
        "colab": {}
      },
      "source": [
        "base_dir = 'contents'\n",
        "os.mkdir(base_dir)"
      ],
      "execution_count": 0,
      "outputs": []
    },
    {
      "cell_type": "code",
      "metadata": {
        "id": "Ckma2jWLBPn-",
        "colab_type": "code",
        "colab": {}
      },
      "source": [
        "train_dir = os.path.join(base_dir, 'train')\n",
        "os.mkdir(train_dir)\n",
        "\n",
        "validation_dir = os.path.join(base_dir, 'validation')\n",
        "os.mkdir(validation_dir)\n",
        "\n",
        "test_dir = os.path.join(base_dir, 'test')\n",
        "os.mkdir(test_dir)\n",
        "\n",
        "train_sunflower_dir = os.path.join(train_dir, 'sunflower')\n",
        "os.mkdir(train_sunflower_dir)\n",
        "validation_sunflower_dir = os.path.join(validation_dir, 'sunflower')\n",
        "os.mkdir(validation_sunflower_dir)\n",
        "test_sunflower_dir = os.path.join(test_dir, 'sunflower')\n",
        "os.mkdir(test_sunflower_dir)\n",
        "\n",
        "train_tulip_dir = os.path.join(train_dir, 'tulip')\n",
        "os.mkdir(train_tulip_dir)\n",
        "validation_tulip_dir = os.path.join(validation_dir, 'tulip')\n",
        "os.mkdir(validation_tulip_dir)\n",
        "test_tulip_dir = os.path.join(test_dir, 'tulip')\n",
        "os.mkdir(test_tulip_dir)"
      ],
      "execution_count": 0,
      "outputs": []
    },
    {
      "cell_type": "code",
      "metadata": {
        "id": "CCqGyjfyESjj",
        "colab_type": "code",
        "colab": {
          "base_uri": "https://localhost:8080/",
          "height": 34
        },
        "outputId": "faa23cd7-dca1-46d5-df47-8cb0f59f2a39"
      },
      "source": [
        "!ls contents/train"
      ],
      "execution_count": 7,
      "outputs": [
        {
          "output_type": "stream",
          "text": [
            "sunflower  tulip\n"
          ],
          "name": "stdout"
        }
      ]
    },
    {
      "cell_type": "code",
      "metadata": {
        "id": "0_3_QjE9E-8v",
        "colab_type": "code",
        "colab": {
          "base_uri": "https://localhost:8080/",
          "height": 34
        },
        "outputId": "7c704471-f730-459a-a114-c0efca077e85"
      },
      "source": [
        "test_sunflower_dir"
      ],
      "execution_count": 8,
      "outputs": [
        {
          "output_type": "execute_result",
          "data": {
            "text/plain": [
              "'contents/test/sunflower'"
            ]
          },
          "metadata": {
            "tags": []
          },
          "execution_count": 8
        }
      ]
    },
    {
      "cell_type": "markdown",
      "metadata": {
        "id": "7EH7Z-8IEfL7",
        "colab_type": "text"
      },
      "source": [
        "## Copy Data from dataset to model data folder"
      ]
    },
    {
      "cell_type": "code",
      "metadata": {
        "id": "Crm4EFB7Em2Z",
        "colab_type": "code",
        "colab": {
          "base_uri": "https://localhost:8080/",
          "height": 51
        },
        "outputId": "bda176e0-9735-448a-d734-b17b14787046"
      },
      "source": [
        "from os import listdir\n",
        "from os.path import isfile, join\n",
        "\n",
        "path_org_sunflower=\"flowers/sunflower\"\n",
        "path_org_tulip=\"flowers/tulip\"\n",
        "\n",
        "sunflower_filenames = [f for f in listdir(path_org_sunflower) if isfile(join(path_org_sunflower, f))]\n",
        "tulip_filenames = [f for f in listdir(path_org_tulip) if isfile(join(path_org_tulip, f))]\n",
        "\n",
        "print(\"Total sunflower image files is:{}\".format(len(sunflower_filenames)))\n",
        "print(\"Total Tulip image files is:{}\".format(len(tulip_filenames)))\n",
        "#print(tulip_filenames)"
      ],
      "execution_count": 9,
      "outputs": [
        {
          "output_type": "stream",
          "text": [
            "Total sunflower image files is:734\n",
            "Total Tulip image files is:984\n"
          ],
          "name": "stdout"
        }
      ]
    },
    {
      "cell_type": "markdown",
      "metadata": {
        "id": "HdAa_zvcGllI",
        "colab_type": "text"
      },
      "source": [
        "## Create Data set for train, validate & test (500-100-100)"
      ]
    },
    {
      "cell_type": "code",
      "metadata": {
        "id": "_jwamQ7QGsKU",
        "colab_type": "code",
        "colab": {}
      },
      "source": [
        "import shutil\n",
        "# for sunflower dataset\n",
        "# sunflower dataset train data\n",
        "fnames = [sunflower_filenames[i] for i in range(0,500)]\n",
        "for fname in fnames:\n",
        "    src = os.path.join(path_org_sunflower, fname)\n",
        "    dst = os.path.join(train_sunflower_dir, fname)\n",
        "    shutil.copyfile(src, dst)\n",
        "# sunflower dataset validate data\n",
        "fnames = [sunflower_filenames[i] for i in range(500,600)]\n",
        "for fname in fnames:\n",
        "    src = os.path.join(path_org_sunflower, fname)\n",
        "    dst = os.path.join(validation_sunflower_dir, fname)\n",
        "    shutil.copyfile(src, dst)\n",
        "# sunflower dataset test data\n",
        "fnames = [sunflower_filenames[i] for i in range(600,700)]\n",
        "for fname in fnames:\n",
        "    src = os.path.join(path_org_sunflower, fname)\n",
        "    dst = os.path.join(test_sunflower_dir, fname)\n",
        "    shutil.copyfile(src, dst)\n",
        "\n",
        "# for tulip dataset\n",
        "# tulip dataset train data\n",
        "fnames = [tulip_filenames[i] for i in range(0,500)]\n",
        "for fname in fnames:\n",
        "    src = os.path.join(path_org_tulip, fname)\n",
        "    dst = os.path.join(train_tulip_dir, fname)\n",
        "    shutil.copyfile(src, dst)\n",
        "# tulip dataset validate data\n",
        "fnames = [tulip_filenames[i] for i in range(500,600)]\n",
        "for fname in fnames:\n",
        "    src = os.path.join(path_org_tulip, fname)\n",
        "    dst = os.path.join(validation_tulip_dir, fname)\n",
        "    shutil.copyfile(src, dst)\n",
        "# tulip dataset test data\n",
        "fnames = [tulip_filenames[i] for i in range(600,700)]\n",
        "for fname in fnames:\n",
        "    src = os.path.join(path_org_tulip, fname)\n",
        "    dst = os.path.join(test_tulip_dir, fname)\n",
        "    shutil.copyfile(src, dst)"
      ],
      "execution_count": 0,
      "outputs": []
    },
    {
      "cell_type": "code",
      "metadata": {
        "id": "uP2DRCiPJHAp",
        "colab_type": "code",
        "colab": {
          "base_uri": "https://localhost:8080/",
          "height": 119
        },
        "outputId": "10c24697-5ac2-4ee9-9330-3a31aef5e274"
      },
      "source": [
        "#test folder have files\n",
        "print('total training sunflower images:', len(os.listdir(train_sunflower_dir)))\n",
        "print('total validation sunflower images:', len(os.listdir(validation_sunflower_dir)))\n",
        "print('total test sunflower images:', len(os.listdir(test_sunflower_dir)))\n",
        "\n",
        "\n",
        "print('total train tulip images:', len(os.listdir(train_tulip_dir)))\n",
        "print('total validation tulip images:', len(os.listdir(validation_tulip_dir)))\n",
        "print('total test tulip images:', len(os.listdir(test_tulip_dir)))"
      ],
      "execution_count": 11,
      "outputs": [
        {
          "output_type": "stream",
          "text": [
            "total training sunflower images: 500\n",
            "total validation sunflower images: 100\n",
            "total test sunflower images: 100\n",
            "total train tulip images: 500\n",
            "total validation tulip images: 100\n",
            "total test tulip images: 100\n"
          ],
          "name": "stdout"
        }
      ]
    },
    {
      "cell_type": "markdown",
      "metadata": {
        "id": "NXwG_QBwKfkb",
        "colab_type": "text"
      },
      "source": [
        "## Using ImageDataGenerator to read images from directories\n",
        "As you know by now, data should be formatted into appropriately preprocessed floatingpoint tensors before being fed into the network. Currently, the data sits on a drive as JPEG files, so the steps for getting it into the network are roughly as follows:\n",
        "\n",
        "* Read the picture files.\n",
        "* Decode the JPEG content to RGB grids of pixels.\n",
        "* Convert these into floating-point tensors.\n",
        "* Rescale the pixel values (between 0 and 255) to the [0, 1] interval (as you know, neural networks prefer to deal with small input values).\n",
        "\n",
        "It may seem a bit daunting, but fortunately Keras has utilities to take care of these steps automatically. Keras has a module with image-processing helper tools, located at keras.preprocessing.image. In particular, it contains the class ImageDataGenerator,which lets you quickly set up Python generators that can automatically turn image files on disk into batches of preprocessed tensors."
      ]
    },
    {
      "cell_type": "markdown",
      "metadata": {
        "id": "ICeza4thLLjf",
        "colab_type": "text"
      },
      "source": [
        "#Convolutional Networks with Dropout\n",
        "\n",
        "Ref: https://github.com/mneha4/Training-Neural-Nets---Guidelines"
      ]
    },
    {
      "cell_type": "code",
      "metadata": {
        "id": "sMyDCBrPsjwj",
        "colab_type": "code",
        "colab": {}
      },
      "source": [
        "from keras import layers\n",
        "from keras import models\n",
        "from keras import optimizers\n",
        "from keras.preprocessing.image import ImageDataGenerator"
      ],
      "execution_count": 0,
      "outputs": []
    },
    {
      "cell_type": "code",
      "metadata": {
        "id": "P1NJku1JLIsr",
        "colab_type": "code",
        "colab": {}
      },
      "source": [
        "model = models.Sequential()\n",
        "model.add(layers.Conv2D(32, (3, 3), activation='relu',\n",
        "input_shape=(150, 150, 3)))\n",
        "model.add(layers.MaxPooling2D((2, 2)))\n",
        "model.add(layers.Conv2D(64, (3, 3), activation='relu'))\n",
        "model.add(layers.MaxPooling2D((2, 2)))\n",
        "model.add(layers.Conv2D(128, (3, 3), activation='relu'))\n",
        "model.add(layers.MaxPooling2D((2, 2)))\n",
        "model.add(layers.Conv2D(128, (3, 3), activation='relu'))\n",
        "model.add(layers.MaxPooling2D((2, 2)))\n",
        "model.add(layers.Flatten())\n",
        "model.add(layers.Dropout(0.5))\n",
        "model.add(layers.Dense(512, activation='relu'))\n",
        "model.add(layers.Dense(2, activation='softmax'))# 2 layer output is sunflower and tulip\n",
        "\n",
        "model.compile(loss='categorical_crossentropy',\n",
        "              optimizer=optimizers.RMSprop(lr=1e-4),\n",
        "              metrics=['acc'])"
      ],
      "execution_count": 0,
      "outputs": []
    },
    {
      "cell_type": "code",
      "metadata": {
        "id": "IlMfTJDgLV06",
        "colab_type": "code",
        "colab": {
          "base_uri": "https://localhost:8080/",
          "height": 731
        },
        "outputId": "647c952b-3ccd-45a6-ffc8-f2e8332ce485"
      },
      "source": [
        "\n",
        "train_datagen = ImageDataGenerator(rescale=1./255,\n",
        "                                   rotation_range=40,\n",
        "                                   width_shift_range=0.2,\n",
        "                                   height_shift_range=0.2,\n",
        "                                   shear_range=0.2,\n",
        "                                   zoom_range=0.2,\n",
        "                                   horizontal_flip=True,)\n",
        "\n",
        "test_datagen = ImageDataGenerator(rescale=1./255)\n",
        "\n",
        "train_generator = train_datagen.flow_from_directory(train_dir,\n",
        "                                                    target_size=(150, 150),\n",
        "                                                    batch_size=32,\n",
        "                                                    class_mode='categorical')\n",
        "\n",
        "validation_generator = test_datagen.flow_from_directory(validation_dir,\n",
        "                                                        target_size=(150, 150),\n",
        "                                                        batch_size=32,\n",
        "                                                        class_mode='categorical')\n",
        "\n",
        "history = model.fit_generator(train_generator,\n",
        "                              steps_per_epoch=100,\n",
        "                              epochs=20,\n",
        "                              validation_data=validation_generator,\n",
        "                              validation_steps=50)"
      ],
      "execution_count": 33,
      "outputs": [
        {
          "output_type": "stream",
          "text": [
            "Found 1000 images belonging to 2 classes.\n",
            "Found 200 images belonging to 2 classes.\n",
            "Epoch 1/20\n",
            "100/100 [==============================] - 28s 276ms/step - loss: 0.4334 - acc: 0.7984 - val_loss: 0.3638 - val_acc: 0.8547\n",
            "Epoch 2/20\n",
            "100/100 [==============================] - 25s 250ms/step - loss: 0.3783 - acc: 0.8359 - val_loss: 0.3354 - val_acc: 0.8554\n",
            "Epoch 3/20\n",
            "100/100 [==============================] - 25s 251ms/step - loss: 0.3604 - acc: 0.8356 - val_loss: 0.3069 - val_acc: 0.8638\n",
            "Epoch 4/20\n",
            "100/100 [==============================] - 25s 252ms/step - loss: 0.3187 - acc: 0.8656 - val_loss: 0.2758 - val_acc: 0.8883\n",
            "Epoch 5/20\n",
            "100/100 [==============================] - 25s 250ms/step - loss: 0.3151 - acc: 0.8644 - val_loss: 0.2780 - val_acc: 0.8813\n",
            "Epoch 6/20\n",
            "100/100 [==============================] - 25s 248ms/step - loss: 0.2928 - acc: 0.8691 - val_loss: 0.2479 - val_acc: 0.9078\n",
            "Epoch 7/20\n",
            "100/100 [==============================] - 25s 251ms/step - loss: 0.2858 - acc: 0.8741 - val_loss: 0.2598 - val_acc: 0.8793\n",
            "Epoch 8/20\n",
            "100/100 [==============================] - 27s 268ms/step - loss: 0.2808 - acc: 0.8778 - val_loss: 0.2188 - val_acc: 0.9211\n",
            "Epoch 9/20\n",
            "100/100 [==============================] - 25s 252ms/step - loss: 0.2540 - acc: 0.8872 - val_loss: 0.2170 - val_acc: 0.9232\n",
            "Epoch 10/20\n",
            "100/100 [==============================] - 25s 249ms/step - loss: 0.2528 - acc: 0.8891 - val_loss: 0.2093 - val_acc: 0.9211\n",
            "Epoch 11/20\n",
            "100/100 [==============================] - 26s 255ms/step - loss: 0.2374 - acc: 0.9037 - val_loss: 0.2170 - val_acc: 0.9253\n",
            "Epoch 12/20\n",
            "100/100 [==============================] - 25s 252ms/step - loss: 0.2366 - acc: 0.9019 - val_loss: 0.2103 - val_acc: 0.8911\n",
            "Epoch 13/20\n",
            "100/100 [==============================] - 25s 251ms/step - loss: 0.2207 - acc: 0.9100 - val_loss: 0.2079 - val_acc: 0.9344\n",
            "Epoch 14/20\n",
            "100/100 [==============================] - 25s 249ms/step - loss: 0.2013 - acc: 0.9219 - val_loss: 0.3001 - val_acc: 0.8849\n",
            "Epoch 15/20\n",
            "100/100 [==============================] - 25s 247ms/step - loss: 0.2150 - acc: 0.9116 - val_loss: 0.3825 - val_acc: 0.8596\n",
            "Epoch 16/20\n",
            "100/100 [==============================] - 27s 265ms/step - loss: 0.2025 - acc: 0.9191 - val_loss: 0.1747 - val_acc: 0.9427\n",
            "Epoch 17/20\n",
            "100/100 [==============================] - 25s 250ms/step - loss: 0.1887 - acc: 0.9188 - val_loss: 0.2386 - val_acc: 0.8959\n",
            "Epoch 18/20\n",
            "100/100 [==============================] - 25s 252ms/step - loss: 0.1928 - acc: 0.9194 - val_loss: 0.1806 - val_acc: 0.9288\n",
            "Epoch 19/20\n",
            "100/100 [==============================] - 25s 250ms/step - loss: 0.1786 - acc: 0.9266 - val_loss: 0.1726 - val_acc: 0.9295\n",
            "Epoch 20/20\n",
            "100/100 [==============================] - 26s 256ms/step - loss: 0.1878 - acc: 0.9234 - val_loss: 0.1675 - val_acc: 0.9365\n"
          ],
          "name": "stdout"
        }
      ]
    },
    {
      "cell_type": "code",
      "metadata": {
        "id": "dRBEADLzLYlc",
        "colab_type": "code",
        "colab": {
          "base_uri": "https://localhost:8080/",
          "height": 545
        },
        "outputId": "7d0fad32-2e98-41be-b2c6-cffdbf02483b"
      },
      "source": [
        "model.save('flowers.h5')\n",
        "\n",
        "import matplotlib.pyplot as plt\n",
        "\n",
        "acc = history.history['acc']\n",
        "val_acc = history.history['val_acc']\n",
        "loss = history.history['loss']\n",
        "val_loss = history.history['val_loss']\n",
        "\n",
        "epochs = range(1, len(acc) + 1)\n",
        "\n",
        "plt.plot(epochs, acc, 'bo', label='Training acc')\n",
        "plt.plot(epochs, val_acc, 'b', label='Validation acc')\n",
        "plt.title('Training and validation accuracy')\n",
        "plt.legend()\n",
        "\n",
        "plt.figure()\n",
        "\n",
        "plt.plot(epochs, loss, 'bo', label='Training loss')\n",
        "plt.plot(epochs, val_loss, 'b', label='Validation loss')\n",
        "plt.title('Training and validation loss')\n",
        "plt.legend()\n",
        "\n",
        "plt.show()"
      ],
      "execution_count": 34,
      "outputs": [
        {
          "output_type": "display_data",
          "data": {
            "image/png": "[encoded data removed]",
            "text/plain": [
              "<Figure size 432x288 with 1 Axes>"
            ]
          },
          "metadata": {
            "tags": []
          }
        },
        {
          "output_type": "display_data",
          "data": {
            "image/png": "[encoded data removed]",
            "text/plain": [
              "<Figure size 432x288 with 1 Axes>"
            ]
          },
          "metadata": {
            "tags": []
          }
        }
      ]
    },
    {
      "cell_type": "markdown",
      "metadata": {
        "id": "-GGOs66UR5Xc",
        "colab_type": "text"
      },
      "source": [
        "# Show a test case with graphics"
      ]
    },
    {
      "cell_type": "code",
      "metadata": {
        "id": "UuFHS40xR-6m",
        "colab_type": "code",
        "colab": {}
      },
      "source": [
        "from IPython.core.display import display, HTML\n",
        "from PIL import Image\n",
        "from io import BytesIO\n",
        "import base64\n",
        "\n",
        "def img_to_display(filename):\n",
        "    # inspired on this kernel:\n",
        "    # https://www.kaggle.com/stassl/displaying-inline-images-in-pandas-dataframe\n",
        "    # credits to stassl :)\n",
        "    \n",
        "    i = Image.open(filename)\n",
        "    i.thumbnail((200, 200), Image.LANCZOS)\n",
        "    \n",
        "    with BytesIO() as buffer:\n",
        "        i.save(buffer, 'jpeg')\n",
        "        return base64.b64encode(buffer.getvalue()).decode()\n",
        "    \n",
        "\n",
        "def display_result(filename, prediction, target):\n",
        "    '''\n",
        "    Display the results in HTML\n",
        "    \n",
        "    '''\n",
        "\n",
        "    type_image = 'Unknown'\n",
        "    \n",
        "    if(prediction[0]>prediction[1] and prediction[0]>0.5):\n",
        "        type_image = 'Sunflower'\n",
        "    elif(prediction[0]<prediction[1] and prediction[1]>0.5):\n",
        "        type_image = 'Tulip'\n",
        "    \n",
        "            \n",
        "    display_html = '''\n",
        "    <div style=\"overflow: auto;  border: 2px solid #D8D8D8;\n",
        "        padding: 5px; width: 620px;\" >\n",
        "        <img src=\"data:image/jpeg;base64,{}\" style=\"float: left;\" width=\"200\" height=\"200\">\n",
        "        <div style=\"padding: 10px 0px 0px 20px; overflow: auto;\">\n",
        "            <h3 style=\"margin-left: 50px; margin-top: 2px;\">Predict is: {}</h3>\n",
        "            <p style=\"margin-left: 50px; margin-top: 5px; font-size: 16px\">Real Target: {}</p>\n",
        "            <p style=\"margin-left: 50px; margin-top:  10px; font-size: 16px\">probability of Sunflower:{}</p>\n",
        "            <p style=\"margin-left: 50px; margin-top: 15px; font-size: 16px\">probability of Tulip:{}</p>\n",
        "            <p style=\"margin-left: 50px; margin-top: 19px; font-size: 12px\">Filename: {}</p>\n",
        "        </div>\n",
        "    </div>\n",
        "    '''.format(img_to_display(filename)\n",
        "               , type_image\n",
        "               , \"{0:.2f}%\".format(prediction[0]*100,2)\n",
        "               , \"{0:.2f}%\".format(prediction[1]*100,2)\n",
        "               , target\n",
        "               , filename\n",
        "               )\n",
        "\n",
        "    display(HTML(display_html))"
      ],
      "execution_count": 0,
      "outputs": []
    },
    {
      "cell_type": "code",
      "metadata": {
        "id": "KT_gSSvoVlSh",
        "colab_type": "code",
        "colab": {
          "base_uri": "https://localhost:8080/",
          "height": 136
        },
        "outputId": "43cf497f-be11-483e-8226-d8d3fb8e654a"
      },
      "source": [
        "import random\n",
        "import numpy as np\n",
        "\n",
        "\n",
        "data_test=[];\n",
        "real_result=[];\n",
        "\n",
        "#add flower\n",
        "for i in range(3):\n",
        "  filename=random.choice(os.listdir(test_sunflower_dir));\n",
        "  src=os.path.join(test_sunflower_dir,filename);\n",
        "  data_test.append(src)\n",
        "  real_result.append(\"Sunflower\")\n",
        "  #add\n",
        "  filename=random.choice(os.listdir(test_tulip_dir));\n",
        "  src=os.path.join(test_tulip_dir,filename);\n",
        "  data_test.append(src)\n",
        "  real_result.append(\"Tulip\")\n",
        "\n",
        "filename=random.choice(os.listdir(\"flowers/daisy\"));\n",
        "src=os.path.join(\"flowers/daisy\",filename);\n",
        "data_test.append(src)\n",
        "real_result.append(\"Daisy\")\n",
        "\n",
        "data_test"
      ],
      "execution_count": 143,
      "outputs": [
        {
          "output_type": "execute_result",
          "data": {
            "text/plain": [
              "['contents/test/sunflower/3568114325_d6b1363497.jpg',\n",
              " 'contents/test/tulip/14233348826_89949b4784_n.jpg',\n",
              " 'contents/test/sunflower/5037531593_e2daf4c7f1.jpg',\n",
              " 'contents/test/tulip/8838347159_746d14e6c1_m.jpg',\n",
              " 'contents/test/sunflower/21984860006_20dfacea1c_m.jpg',\n",
              " 'contents/test/tulip/12883412424_cb5086b43f_n.jpg',\n",
              " 'flowers/daisy/495098110_3a4bb30042_n.jpg']"
            ]
          },
          "metadata": {
            "tags": []
          },
          "execution_count": 143
        }
      ]
    },
    {
      "cell_type": "code",
      "metadata": {
        "id": "5MBDRmLXeiqy",
        "colab_type": "code",
        "colab": {}
      },
      "source": [
        "#mytest_datagen = ImageDataGenerator(rescale=1./255)\n",
        "#mytest_generator = test_datagen.flow_from_directory(test_dir,\n",
        "#                                                        target_size=(150, 150),\n",
        "#                                                        batch_size=10000,\n",
        "#                                                        class_mode='binary')\n",
        "#mytest_generator.reset()\n",
        "#pred=model.predict_generator(mytest_generator,steps=1,verbose=1)\n",
        "#predicted_class_indices=np.argmax(pred,axis=1)\n",
        "#print(len(pred))\n",
        "#pred\n"
      ],
      "execution_count": 0,
      "outputs": []
    },
    {
      "cell_type": "code",
      "metadata": {
        "id": "keJDH2ymgIKq",
        "colab_type": "code",
        "colab": {
          "base_uri": "https://localhost:8080/",
          "height": 1000
        },
        "outputId": "24c59bb8-7fe6-4f26-e4e7-1d68c7bda501"
      },
      "source": [
        "import numpy as np\n",
        "from keras.preprocessing import image\n",
        "\n",
        "for i in range(len(data_test)):\n",
        "  test_file=data_test[i]\n",
        "  #print(test_file)\n",
        "  img_width, img_height = 150, 150\n",
        "  img = image.load_img(test_file, target_size = (img_width, img_height))\n",
        "  img = image.img_to_array(img)\n",
        "  img = np.expand_dims(img, axis = 0)\n",
        "  predict=model.predict(img)\n",
        "  #print(predict)\n",
        "  #print(\"{},{}\".format(predict[0][0],predict[0][1]))\n",
        "  display_result(test_file, predict[0], real_result[i])\n",
        "  "
      ],
      "execution_count": 144,
      "outputs": [
        {
          "output_type": "display_data",
          "data": {
            "text/html": [
              "\n",
              "    <div style=\"overflow: auto;  border: 2px solid #D8D8D8;\n",
              "        padding: 5px; width: 620px;\" >\n",
              "        <img src=\"data:image/jpeg;base64,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\" style=\"float: left;\" width=\"200\" height=\"200\">\n",
              "        <div style=\"padding: 10px 0px 0px 20px; overflow: auto;\">\n",
              "            <h3 style=\"margin-left: 50px; margin-top: 2px;\">Predict is: Sunflower</h3>\n",
              "            <p style=\"margin-left: 50px; margin-top: 5px; font-size: 16px\">Real Target: 100.00%</p>\n",
              "            <p style=\"margin-left: 50px; margin-top:  10px; font-size: 16px\">probability of Sunflower:0.00%</p>\n",
              "            <p style=\"margin-left: 50px; margin-top: 15px; font-size: 16px\">probability of Tulip:Sunflower</p>\n",
              "            <p style=\"margin-left: 50px; margin-top: 19px; font-size: 12px\">Filename: contents/test/sunflower/3568114325_d6b1363497.jpg</p>\n",
              "        </div>\n",
              "    </div>\n",
              "    "
            ],
            "text/plain": [
              "<IPython.core.display.HTML object>"
            ]
          },
          "metadata": {
            "tags": []
          }
        },
        {
          "output_type": "display_data",
          "data": {
            "text/html": [
              "\n",
              "    <div style=\"overflow: auto;  border: 2px solid #D8D8D8;\n",
              "        padding: 5px; width: 620px;\" >\n",
              "        <img src=\"data:image/jpeg;base64,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\" style=\"float: left;\" width=\"200\" height=\"200\">\n",
              "        <div style=\"padding: 10px 0px 0px 20px; overflow: auto;\">\n",
              "            <h3 style=\"margin-left: 50px; margin-top: 2px;\">Predict is: Tulip</h3>\n",
              "            <p style=\"margin-left: 50px; margin-top: 5px; font-size: 16px\">Real Target: 0.00%</p>\n",
              "            <p style=\"margin-left: 50px; margin-top:  10px; font-size: 16px\">probability of Sunflower:100.00%</p>\n",
              "            <p style=\"margin-left: 50px; margin-top: 15px; font-size: 16px\">probability of Tulip:Tulip</p>\n",
              "            <p style=\"margin-left: 50px; margin-top: 19px; font-size: 12px\">Filename: contents/test/tulip/14233348826_89949b4784_n.jpg</p>\n",
              "        </div>\n",
              "    </div>\n",
              "    "
            ],
            "text/plain": [
              "<IPython.core.display.HTML object>"
            ]
          },
          "metadata": {
            "tags": []
          }
        },
        {
          "output_type": "display_data",
          "data": {
            "text/html": [
              "\n",
              "    <div style=\"overflow: auto;  border: 2px solid #D8D8D8;\n",
              "        padding: 5px; width: 620px;\" >\n",
              "        <img src=\"data:image/jpeg;base64,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\" style=\"float: left;\" width=\"200\" height=\"200\">\n",
              "        <div style=\"padding: 10px 0px 0px 20px; overflow: auto;\">\n",
              "            <h3 style=\"margin-left: 50px; margin-top: 2px;\">Predict is: Sunflower</h3>\n",
              "            <p style=\"margin-left: 50px; margin-top: 5px; font-size: 16px\">Real Target: 100.00%</p>\n",
              "            <p style=\"margin-left: 50px; margin-top:  10px; font-size: 16px\">probability of Sunflower:0.00%</p>\n",
              "            <p style=\"margin-left: 50px; margin-top: 15px; font-size: 16px\">probability of Tulip:Sunflower</p>\n",
              "            <p style=\"margin-left: 50px; margin-top: 19px; font-size: 12px\">Filename: contents/test/sunflower/5037531593_e2daf4c7f1.jpg</p>\n",
              "        </div>\n",
              "    </div>\n",
              "    "
            ],
            "text/plain": [
              "<IPython.core.display.HTML object>"
            ]
          },
          "metadata": {
            "tags": []
          }
        },
        {
          "output_type": "display_data",
          "data": {
            "text/html": [
              "\n",
              "    <div style=\"overflow: auto;  border: 2px solid #D8D8D8;\n",
              "        padding: 5px; width: 620px;\" >\n",
              "        <img src=\"data:image/jpeg;base64,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\" style=\"float: left;\" width=\"200\" height=\"200\">\n",
              "        <div style=\"padding: 10px 0px 0px 20px; overflow: auto;\">\n",
              "            <h3 style=\"margin-left: 50px; margin-top: 2px;\">Predict is: Sunflower</h3>\n",
              "            <p style=\"margin-left: 50px; margin-top: 5px; font-size: 16px\">Real Target: 100.00%</p>\n",
              "            <p style=\"margin-left: 50px; margin-top:  10px; font-size: 16px\">probability of Sunflower:0.00%</p>\n",
              "            <p style=\"margin-left: 50px; margin-top: 15px; font-size: 16px\">probability of Tulip:Tulip</p>\n",
              "            <p style=\"margin-left: 50px; margin-top: 19px; font-size: 12px\">Filename: contents/test/tulip/8838347159_746d14e6c1_m.jpg</p>\n",
              "        </div>\n",
              "    </div>\n",
              "    "
            ],
            "text/plain": [
              "<IPython.core.display.HTML object>"
            ]
          },
          "metadata": {
            "tags": []
          }
        },
        {
          "output_type": "display_data",
          "data": {
            "text/html": [
              "\n",
              "    <div style=\"overflow: auto;  border: 2px solid #D8D8D8;\n",
              "        padding: 5px; width: 620px;\" >\n",
              "        <img src=\"data:image/jpeg;base64,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\" style=\"float: left;\" width=\"200\" height=\"200\">\n",
              "        <div style=\"padding: 10px 0px 0px 20px; overflow: auto;\">\n",
              "            <h3 style=\"margin-left: 50px; margin-top: 2px;\">Predict is: Sunflower</h3>\n",
              "            <p style=\"margin-left: 50px; margin-top: 5px; font-size: 16px\">Real Target: 100.00%</p>\n",
              "            <p style=\"margin-left: 50px; margin-top:  10px; font-size: 16px\">probability of Sunflower:0.00%</p>\n",
              "            <p style=\"margin-left: 50px; margin-top: 15px; font-size: 16px\">probability of Tulip:Sunflower</p>\n",
              "            <p style=\"margin-left: 50px; margin-top: 19px; font-size: 12px\">Filename: contents/test/sunflower/21984860006_20dfacea1c_m.jpg</p>\n",
              "        </div>\n",
              "    </div>\n",
              "    "
            ],
            "text/plain": [
              "<IPython.core.display.HTML object>"
            ]
          },
          "metadata": {
            "tags": []
          }
        },
        {
          "output_type": "display_data",
          "data": {
            "text/html": [
              "\n",
              "    <div style=\"overflow: auto;  border: 2px solid #D8D8D8;\n",
              "        padding: 5px; width: 620px;\" >\n",
              "        <img src=\"data:image/jpeg;base64,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\" style=\"float: left;\" width=\"200\" height=\"200\">\n",
              "        <div style=\"padding: 10px 0px 0px 20px; overflow: auto;\">\n",
              "            <h3 style=\"margin-left: 50px; margin-top: 2px;\">Predict is: Tulip</h3>\n",
              "            <p style=\"margin-left: 50px; margin-top: 5px; font-size: 16px\">Real Target: 0.00%</p>\n",
              "            <p style=\"margin-left: 50px; margin-top:  10px; font-size: 16px\">probability of Sunflower:100.00%</p>\n",
              "            <p style=\"margin-left: 50px; margin-top: 15px; font-size: 16px\">probability of Tulip:Tulip</p>\n",
              "            <p style=\"margin-left: 50px; margin-top: 19px; font-size: 12px\">Filename: contents/test/tulip/12883412424_cb5086b43f_n.jpg</p>\n",
              "        </div>\n",
              "    </div>\n",
              "    "
            ],
            "text/plain": [
              "<IPython.core.display.HTML object>"
            ]
          },
          "metadata": {
            "tags": []
          }
        },
        {
          "output_type": "display_data",
          "data": {
            "text/html": [
              "\n",
              "    <div style=\"overflow: auto;  border: 2px solid #D8D8D8;\n",
              "        padding: 5px; width: 620px;\" >\n",
              "        <img src=\"data:image/jpeg;base64,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\" style=\"float: left;\" width=\"200\" height=\"200\">\n",
              "        <div style=\"padding: 10px 0px 0px 20px; overflow: auto;\">\n",
              "            <h3 style=\"margin-left: 50px; margin-top: 2px;\">Predict is: Tulip</h3>\n",
              "            <p style=\"margin-left: 50px; margin-top: 5px; font-size: 16px\">Real Target: 0.00%</p>\n",
              "            <p style=\"margin-left: 50px; margin-top:  10px; font-size: 16px\">probability of Sunflower:100.00%</p>\n",
              "            <p style=\"margin-left: 50px; margin-top: 15px; font-size: 16px\">probability of Tulip:Daisy</p>\n",
              "            <p style=\"margin-left: 50px; margin-top: 19px; font-size: 12px\">Filename: flowers/daisy/495098110_3a4bb30042_n.jpg</p>\n",
              "        </div>\n",
              "    </div>\n",
              "    "
            ],
            "text/plain": [
              "<IPython.core.display.HTML object>"
            ]
          },
          "metadata": {
            "tags": []
          }
        }
      ]
    }
  ]
}