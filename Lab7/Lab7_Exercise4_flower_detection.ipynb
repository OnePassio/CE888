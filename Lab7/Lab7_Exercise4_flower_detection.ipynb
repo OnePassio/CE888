{
  "nbformat": 4,
  "nbformat_minor": 0,
  "metadata": {
    "colab": {
      "name": "Lab7_Exercise4_flower_detection.ipynb",
      "provenance": [],
      "collapsed_sections": [],
      "authorship_tag": "ABX9TyNEx5OBzH9vo27ITGrAEbpl",
      "include_colab_link": true
    },
    "kernelspec": {
      "name": "python3",
      "display_name": "Python 3"
    },
    "accelerator": "GPU"
  },
  "cells": [
    {
      "cell_type": "markdown",
      "metadata": {
        "id": "view-in-github",
        "colab_type": "text"
      },
      "source": [
        "<a href=\"https://colab.research.google.com/github/OnePassio/CE888/blob/master/Lab7/Lab7_Exercise4_flower_detection.ipynb\" target=\"_parent\"><img src=\"https://colab.research.google.com/assets/colab-badge.svg\" alt=\"Open In Colab\"/></a>"
      ]
    },
    {
      "cell_type": "markdown",
      "metadata": {
        "id": "NpPSjaCZ9l5b",
        "colab_type": "text"
      },
      "source": [
        "#Flowers Recognition from Kaggle\n",
        "This dataset contains labeled 4242 images of flowers.\n",
        "##API\n",
        "kaggle datasets download -d alxmamaev/flowers-recognition"
      ]
    },
    {
      "cell_type": "markdown",
      "metadata": {
        "id": "ci9kulM9_IA2",
        "colab_type": "text"
      },
      "source": [
        "#download the database"
      ]
    },
    {
      "cell_type": "code",
      "metadata": {
        "id": "WxiqZpiZ7FP9",
        "colab_type": "code",
        "colab": {
          "base_uri": "https://localhost:8080/",
          "height": 68
        },
        "outputId": "fa4ce4dc-2c11-4f84-fa65-0305b065aa38"
      },
      "source": [
        "import os\n",
        "os.environ['KAGGLE_USERNAME'] = \"thomastran89\" # username from the json file\n",
        "os.environ['KAGGLE_KEY'] = \"29b93919c31aa2997218d05bc048f093\" # key from the json file\n",
        "!kaggle datasets download -d alxmamaev/flowers-recognition"
      ],
      "execution_count": 1,
      "outputs": [
        {
          "output_type": "stream",
          "text": [
            "Downloading flowers-recognition.zip to /content\n",
            "100% 449M/450M [00:05<00:00, 119MB/s] \n",
            "100% 450M/450M [00:05<00:00, 80.7MB/s]\n"
          ],
          "name": "stdout"
        }
      ]
    },
    {
      "cell_type": "code",
      "metadata": {
        "id": "beD1xd_1_QQb",
        "colab_type": "code",
        "colab": {
          "base_uri": "https://localhost:8080/",
          "height": 34
        },
        "outputId": "ebe0cc99-0457-48bd-8e2f-69824bb31a28"
      },
      "source": [
        "!ls"
      ],
      "execution_count": 2,
      "outputs": [
        {
          "output_type": "stream",
          "text": [
            " flowers-recognition.zip  'mytest'$'\\001''.jpg'   sample_data\n"
          ],
          "name": "stdout"
        }
      ]
    },
    {
      "cell_type": "markdown",
      "metadata": {
        "id": "2w9iE8MD_Unc",
        "colab_type": "text"
      },
      "source": [
        "# Unzip data into 'contents' folder"
      ]
    },
    {
      "cell_type": "code",
      "metadata": {
        "id": "eiXcXcRD_q8g",
        "colab_type": "code",
        "colab": {}
      },
      "source": [
        "!unzip flowers-recognition.zip"
      ],
      "execution_count": 0,
      "outputs": []
    },
    {
      "cell_type": "code",
      "metadata": {
        "id": "_Zkay543_-Tx",
        "colab_type": "code",
        "colab": {
          "base_uri": "https://localhost:8080/",
          "height": 34
        },
        "outputId": "b306d3f9-b2c5-4cf8-d5c6-4354f2b51a20"
      },
      "source": [
        "!ls flowers"
      ],
      "execution_count": 4,
      "outputs": [
        {
          "output_type": "stream",
          "text": [
            "daisy  dandelion  flowers  rose  sunflower  tulip\n"
          ],
          "name": "stdout"
        }
      ]
    },
    {
      "cell_type": "markdown",
      "metadata": {
        "id": "Zz9bwS5lDnrg",
        "colab_type": "text"
      },
      "source": [
        "## Build test Model for test sunflower & tulip only\n",
        "dog = tulip\n",
        "sunflower= cat"
      ]
    },
    {
      "cell_type": "code",
      "metadata": {
        "id": "NCns1r_XC_K9",
        "colab_type": "code",
        "colab": {}
      },
      "source": [
        "base_dir = 'contents'\n",
        "os.mkdir(base_dir)"
      ],
      "execution_count": 0,
      "outputs": []
    },
    {
      "cell_type": "code",
      "metadata": {
        "id": "Ckma2jWLBPn-",
        "colab_type": "code",
        "colab": {}
      },
      "source": [
        "train_dir = os.path.join(base_dir, 'train')\n",
        "os.mkdir(train_dir)\n",
        "\n",
        "validation_dir = os.path.join(base_dir, 'validation')\n",
        "os.mkdir(validation_dir)\n",
        "\n",
        "test_dir = os.path.join(base_dir, 'test')\n",
        "os.mkdir(test_dir)\n",
        "\n",
        "train_sunflower_dir = os.path.join(train_dir, 'sunflower')\n",
        "os.mkdir(train_sunflower_dir)\n",
        "validation_sunflower_dir = os.path.join(validation_dir, 'sunflower')\n",
        "os.mkdir(validation_sunflower_dir)\n",
        "test_sunflower_dir = os.path.join(test_dir, 'sunflower')\n",
        "os.mkdir(test_sunflower_dir)\n",
        "\n",
        "train_tulip_dir = os.path.join(train_dir, 'tulip')\n",
        "os.mkdir(train_tulip_dir)\n",
        "validation_tulip_dir = os.path.join(validation_dir, 'tulip')\n",
        "os.mkdir(validation_tulip_dir)\n",
        "test_tulip_dir = os.path.join(test_dir, 'tulip')\n",
        "os.mkdir(test_tulip_dir)"
      ],
      "execution_count": 0,
      "outputs": []
    },
    {
      "cell_type": "code",
      "metadata": {
        "id": "CCqGyjfyESjj",
        "colab_type": "code",
        "colab": {
          "base_uri": "https://localhost:8080/",
          "height": 34
        },
        "outputId": "faa23cd7-dca1-46d5-df47-8cb0f59f2a39"
      },
      "source": [
        "!ls contents/train"
      ],
      "execution_count": 7,
      "outputs": [
        {
          "output_type": "stream",
          "text": [
            "sunflower  tulip\n"
          ],
          "name": "stdout"
        }
      ]
    },
    {
      "cell_type": "code",
      "metadata": {
        "id": "0_3_QjE9E-8v",
        "colab_type": "code",
        "colab": {
          "base_uri": "https://localhost:8080/",
          "height": 34
        },
        "outputId": "7c704471-f730-459a-a114-c0efca077e85"
      },
      "source": [
        "test_sunflower_dir"
      ],
      "execution_count": 8,
      "outputs": [
        {
          "output_type": "execute_result",
          "data": {
            "text/plain": [
              "'contents/test/sunflower'"
            ]
          },
          "metadata": {
            "tags": []
          },
          "execution_count": 8
        }
      ]
    },
    {
      "cell_type": "markdown",
      "metadata": {
        "id": "7EH7Z-8IEfL7",
        "colab_type": "text"
      },
      "source": [
        "## Copy Data from dataset to model data folder"
      ]
    },
    {
      "cell_type": "code",
      "metadata": {
        "id": "Crm4EFB7Em2Z",
        "colab_type": "code",
        "colab": {
          "base_uri": "https://localhost:8080/",
          "height": 51
        },
        "outputId": "bda176e0-9735-448a-d734-b17b14787046"
      },
      "source": [
        "from os import listdir\n",
        "from os.path import isfile, join\n",
        "\n",
        "path_org_sunflower=\"flowers/sunflower\"\n",
        "path_org_tulip=\"flowers/tulip\"\n",
        "\n",
        "sunflower_filenames = [f for f in listdir(path_org_sunflower) if isfile(join(path_org_sunflower, f))]\n",
        "tulip_filenames = [f for f in listdir(path_org_tulip) if isfile(join(path_org_tulip, f))]\n",
        "\n",
        "print(\"Total sunflower image files is:{}\".format(len(sunflower_filenames)))\n",
        "print(\"Total Tulip image files is:{}\".format(len(tulip_filenames)))\n",
        "#print(tulip_filenames)"
      ],
      "execution_count": 9,
      "outputs": [
        {
          "output_type": "stream",
          "text": [
            "Total sunflower image files is:734\n",
            "Total Tulip image files is:984\n"
          ],
          "name": "stdout"
        }
      ]
    },
    {
      "cell_type": "markdown",
      "metadata": {
        "id": "HdAa_zvcGllI",
        "colab_type": "text"
      },
      "source": [
        "## Create Data set for train, validate & test (500-100-100)"
      ]
    },
    {
      "cell_type": "code",
      "metadata": {
        "id": "_jwamQ7QGsKU",
        "colab_type": "code",
        "colab": {}
      },
      "source": [
        "import shutil\n",
        "# for sunflower dataset\n",
        "# sunflower dataset train data\n",
        "fnames = [sunflower_filenames[i] for i in range(0,500)]\n",
        "for fname in fnames:\n",
        "    src = os.path.join(path_org_sunflower, fname)\n",
        "    dst = os.path.join(train_sunflower_dir, fname)\n",
        "    shutil.copyfile(src, dst)\n",
        "# sunflower dataset validate data\n",
        "fnames = [sunflower_filenames[i] for i in range(500,600)]\n",
        "for fname in fnames:\n",
        "    src = os.path.join(path_org_sunflower, fname)\n",
        "    dst = os.path.join(validation_sunflower_dir, fname)\n",
        "    shutil.copyfile(src, dst)\n",
        "# sunflower dataset test data\n",
        "fnames = [sunflower_filenames[i] for i in range(600,700)]\n",
        "for fname in fnames:\n",
        "    src = os.path.join(path_org_sunflower, fname)\n",
        "    dst = os.path.join(test_sunflower_dir, fname)\n",
        "    shutil.copyfile(src, dst)\n",
        "\n",
        "# for tulip dataset\n",
        "# tulip dataset train data\n",
        "fnames = [tulip_filenames[i] for i in range(0,500)]\n",
        "for fname in fnames:\n",
        "    src = os.path.join(path_org_tulip, fname)\n",
        "    dst = os.path.join(train_tulip_dir, fname)\n",
        "    shutil.copyfile(src, dst)\n",
        "# tulip dataset validate data\n",
        "fnames = [tulip_filenames[i] for i in range(500,600)]\n",
        "for fname in fnames:\n",
        "    src = os.path.join(path_org_tulip, fname)\n",
        "    dst = os.path.join(validation_tulip_dir, fname)\n",
        "    shutil.copyfile(src, dst)\n",
        "# tulip dataset test data\n",
        "fnames = [tulip_filenames[i] for i in range(600,700)]\n",
        "for fname in fnames:\n",
        "    src = os.path.join(path_org_tulip, fname)\n",
        "    dst = os.path.join(test_tulip_dir, fname)\n",
        "    shutil.copyfile(src, dst)"
      ],
      "execution_count": 0,
      "outputs": []
    },
    {
      "cell_type": "code",
      "metadata": {
        "id": "uP2DRCiPJHAp",
        "colab_type": "code",
        "colab": {
          "base_uri": "https://localhost:8080/",
          "height": 119
        },
        "outputId": "10c24697-5ac2-4ee9-9330-3a31aef5e274"
      },
      "source": [
        "#test folder have files\n",
        "print('total training sunflower images:', len(os.listdir(train_sunflower_dir)))\n",
        "print('total validation sunflower images:', len(os.listdir(validation_sunflower_dir)))\n",
        "print('total test sunflower images:', len(os.listdir(test_sunflower_dir)))\n",
        "\n",
        "\n",
        "print('total train tulip images:', len(os.listdir(train_tulip_dir)))\n",
        "print('total validation tulip images:', len(os.listdir(validation_tulip_dir)))\n",
        "print('total test tulip images:', len(os.listdir(test_tulip_dir)))"
      ],
      "execution_count": 11,
      "outputs": [
        {
          "output_type": "stream",
          "text": [
            "total training sunflower images: 500\n",
            "total validation sunflower images: 100\n",
            "total test sunflower images: 100\n",
            "total train tulip images: 500\n",
            "total validation tulip images: 100\n",
            "total test tulip images: 100\n"
          ],
          "name": "stdout"
        }
      ]
    },
    {
      "cell_type": "markdown",
      "metadata": {
        "id": "NXwG_QBwKfkb",
        "colab_type": "text"
      },
      "source": [
        "## Using ImageDataGenerator to read images from directories\n",
        "As you know by now, data should be formatted into appropriately preprocessed floatingpoint tensors before being fed into the network. Currently, the data sits on a drive as JPEG files, so the steps for getting it into the network are roughly as follows:\n",
        "\n",
        "* Read the picture files.\n",
        "* Decode the JPEG content to RGB grids of pixels.\n",
        "* Convert these into floating-point tensors.\n",
        "* Rescale the pixel values (between 0 and 255) to the [0, 1] interval (as you know, neural networks prefer to deal with small input values).\n",
        "\n",
        "It may seem a bit daunting, but fortunately Keras has utilities to take care of these steps automatically. Keras has a module with image-processing helper tools, located at keras.preprocessing.image. In particular, it contains the class ImageDataGenerator,which lets you quickly set up Python generators that can automatically turn image files on disk into batches of preprocessed tensors."
      ]
    },
    {
      "cell_type": "markdown",
      "metadata": {
        "id": "ICeza4thLLjf",
        "colab_type": "text"
      },
      "source": [
        "#Convolutional Networks with Dropout\n",
        "\n",
        "Ref: https://github.com/mneha4/Training-Neural-Nets---Guidelines"
      ]
    },
    {
      "cell_type": "code",
      "metadata": {
        "id": "sMyDCBrPsjwj",
        "colab_type": "code",
        "colab": {}
      },
      "source": [
        "from keras import layers\n",
        "from keras import models\n",
        "from keras import optimizers\n",
        "from keras.preprocessing.image import ImageDataGenerator"
      ],
      "execution_count": 0,
      "outputs": []
    },
    {
      "cell_type": "code",
      "metadata": {
        "id": "P1NJku1JLIsr",
        "colab_type": "code",
        "colab": {}
      },
      "source": [
        "model = models.Sequential()\n",
        "model.add(layers.Conv2D(32, (3, 3), activation='relu',\n",
        "input_shape=(150, 150, 3)))\n",
        "model.add(layers.MaxPooling2D((2, 2)))\n",
        "model.add(layers.Conv2D(64, (3, 3), activation='relu'))\n",
        "model.add(layers.MaxPooling2D((2, 2)))\n",
        "model.add(layers.Conv2D(128, (3, 3), activation='relu'))\n",
        "model.add(layers.MaxPooling2D((2, 2)))\n",
        "model.add(layers.Conv2D(128, (3, 3), activation='relu'))\n",
        "model.add(layers.MaxPooling2D((2, 2)))\n",
        "model.add(layers.Flatten())\n",
        "model.add(layers.Dropout(0.5))\n",
        "model.add(layers.Dense(512, activation='relu'))\n",
        "model.add(layers.Dense(2, activation='softmax'))# 2 layer output is sunflower and tulip\n",
        "\n",
        "model.compile(loss='categorical_crossentropy',\n",
        "              optimizer=optimizers.RMSprop(lr=1e-4),\n",
        "              metrics=['acc'])"
      ],
      "execution_count": 0,
      "outputs": []
    },
    {
      "cell_type": "code",
      "metadata": {
        "id": "IlMfTJDgLV06",
        "colab_type": "code",
        "colab": {
          "base_uri": "https://localhost:8080/",
          "height": 731
        },
        "outputId": "647c952b-3ccd-45a6-ffc8-f2e8332ce485"
      },
      "source": [
        "\n",
        "train_datagen = ImageDataGenerator(rescale=1./255,\n",
        "                                   rotation_range=40,\n",
        "                                   width_shift_range=0.2,\n",
        "                                   height_shift_range=0.2,\n",
        "                                   shear_range=0.2,\n",
        "                                   zoom_range=0.2,\n",
        "                                   horizontal_flip=True,)\n",
        "\n",
        "test_datagen = ImageDataGenerator(rescale=1./255)\n",
        "\n",
        "train_generator = train_datagen.flow_from_directory(train_dir,\n",
        "                                                    target_size=(150, 150),\n",
        "                                                    batch_size=32,\n",
        "                                                    class_mode='categorical')\n",
        "\n",
        "validation_generator = test_datagen.flow_from_directory(validation_dir,\n",
        "                                                        target_size=(150, 150),\n",
        "                                                        batch_size=32,\n",
        "                                                        class_mode='categorical')\n",
        "\n",
        "history = model.fit_generator(train_generator,\n",
        "                              steps_per_epoch=100,\n",
        "                              epochs=20,\n",
        "                              validation_data=validation_generator,\n",
        "                              validation_steps=50)"
      ],
      "execution_count": 33,
      "outputs": [
        {
          "output_type": "stream",
          "text": [
            "Found 1000 images belonging to 2 classes.\n",
            "Found 200 images belonging to 2 classes.\n",
            "Epoch 1/20\n",
            "100/100 [==============================] - 28s 276ms/step - loss: 0.4334 - acc: 0.7984 - val_loss: 0.3638 - val_acc: 0.8547\n",
            "Epoch 2/20\n",
            "100/100 [==============================] - 25s 250ms/step - loss: 0.3783 - acc: 0.8359 - val_loss: 0.3354 - val_acc: 0.8554\n",
            "Epoch 3/20\n",
            "100/100 [==============================] - 25s 251ms/step - loss: 0.3604 - acc: 0.8356 - val_loss: 0.3069 - val_acc: 0.8638\n",
            "Epoch 4/20\n",
            "100/100 [==============================] - 25s 252ms/step - loss: 0.3187 - acc: 0.8656 - val_loss: 0.2758 - val_acc: 0.8883\n",
            "Epoch 5/20\n",
            "100/100 [==============================] - 25s 250ms/step - loss: 0.3151 - acc: 0.8644 - val_loss: 0.2780 - val_acc: 0.8813\n",
            "Epoch 6/20\n",
            "100/100 [==============================] - 25s 248ms/step - loss: 0.2928 - acc: 0.8691 - val_loss: 0.2479 - val_acc: 0.9078\n",
            "Epoch 7/20\n",
            "100/100 [==============================] - 25s 251ms/step - loss: 0.2858 - acc: 0.8741 - val_loss: 0.2598 - val_acc: 0.8793\n",
            "Epoch 8/20\n",
            "100/100 [==============================] - 27s 268ms/step - loss: 0.2808 - acc: 0.8778 - val_loss: 0.2188 - val_acc: 0.9211\n",
            "Epoch 9/20\n",
            "100/100 [==============================] - 25s 252ms/step - loss: 0.2540 - acc: 0.8872 - val_loss: 0.2170 - val_acc: 0.9232\n",
            "Epoch 10/20\n",
            "100/100 [==============================] - 25s 249ms/step - loss: 0.2528 - acc: 0.8891 - val_loss: 0.2093 - val_acc: 0.9211\n",
            "Epoch 11/20\n",
            "100/100 [==============================] - 26s 255ms/step - loss: 0.2374 - acc: 0.9037 - val_loss: 0.2170 - val_acc: 0.9253\n",
            "Epoch 12/20\n",
            "100/100 [==============================] - 25s 252ms/step - loss: 0.2366 - acc: 0.9019 - val_loss: 0.2103 - val_acc: 0.8911\n",
            "Epoch 13/20\n",
            "100/100 [==============================] - 25s 251ms/step - loss: 0.2207 - acc: 0.9100 - val_loss: 0.2079 - val_acc: 0.9344\n",
            "Epoch 14/20\n",
            "100/100 [==============================] - 25s 249ms/step - loss: 0.2013 - acc: 0.9219 - val_loss: 0.3001 - val_acc: 0.8849\n",
            "Epoch 15/20\n",
            "100/100 [==============================] - 25s 247ms/step - loss: 0.2150 - acc: 0.9116 - val_loss: 0.3825 - val_acc: 0.8596\n",
            "Epoch 16/20\n",
            "100/100 [==============================] - 27s 265ms/step - loss: 0.2025 - acc: 0.9191 - val_loss: 0.1747 - val_acc: 0.9427\n",
            "Epoch 17/20\n",
            "100/100 [==============================] - 25s 250ms/step - loss: 0.1887 - acc: 0.9188 - val_loss: 0.2386 - val_acc: 0.8959\n",
            "Epoch 18/20\n",
            "100/100 [==============================] - 25s 252ms/step - loss: 0.1928 - acc: 0.9194 - val_loss: 0.1806 - val_acc: 0.9288\n",
            "Epoch 19/20\n",
            "100/100 [==============================] - 25s 250ms/step - loss: 0.1786 - acc: 0.9266 - val_loss: 0.1726 - val_acc: 0.9295\n",
            "Epoch 20/20\n",
            "100/100 [==============================] - 26s 256ms/step - loss: 0.1878 - acc: 0.9234 - val_loss: 0.1675 - val_acc: 0.9365\n"
          ],
          "name": "stdout"
        }
      ]
    },
    {
      "cell_type": "code",
      "metadata": {
        "id": "dRBEADLzLYlc",
        "colab_type": "code",
        "colab": {
          "base_uri": "https://localhost:8080/",
          "height": 545
        },
        "outputId": "7d0fad32-2e98-41be-b2c6-cffdbf02483b"
      },
      "source": [
        "model.save('flowers.h5')\n",
        "\n",
        "import matplotlib.pyplot as plt\n",
        "\n",
        "acc = history.history['acc']\n",
        "val_acc = history.history['val_acc']\n",
        "loss = history.history['loss']\n",
        "val_loss = history.history['val_loss']\n",
        "\n",
        "epochs = range(1, len(acc) + 1)\n",
        "\n",
        "plt.plot(epochs, acc, 'bo', label='Training acc')\n",
        "plt.plot(epochs, val_acc, 'b', label='Validation acc')\n",
        "plt.title('Training and validation accuracy')\n",
        "plt.legend()\n",
        "\n",
        "plt.figure()\n",
        "\n",
        "plt.plot(epochs, loss, 'bo', label='Training loss')\n",
        "plt.plot(epochs, val_loss, 'b', label='Validation loss')\n",
        "plt.title('Training and validation loss')\n",
        "plt.legend()\n",
        "\n",
        "plt.show()"
      ],
      "execution_count": 34,
      "outputs": [
        {
          "output_type": "display_data",
          "data": {
            "image/png": "[encoded data removed]",
            "text/plain": [
              "<Figure size 432x288 with 1 Axes>"
            ]
          },
          "metadata": {
            "tags": []
          }
        },
        {
          "output_type": "display_data",
          "data": {
            "image/png": "[encoded data removed]",
            "text/plain": [
              "<Figure size 432x288 with 1 Axes>"
            ]
          },
          "metadata": {
            "tags": []
          }
        }
      ]
    },
    {
      "cell_type": "markdown",
      "metadata": {
        "id": "-GGOs66UR5Xc",
        "colab_type": "text"
      },
      "source": [
        "# Show a test case with graphics"
      ]
    },
    {
      "cell_type": "code",
      "metadata": {
        "id": "UuFHS40xR-6m",
        "colab_type": "code",
        "colab": {}
      },
      "source": [
        "from IPython.core.display import display, HTML\n",
        "from PIL import Image\n",
        "from io import BytesIO\n",
        "import base64\n",
        "\n",
        "def img_to_display(filename):\n",
        "    # inspired on this kernel:\n",
        "    # https://www.kaggle.com/stassl/displaying-inline-images-in-pandas-dataframe\n",
        "    # credits to stassl :)\n",
        "    \n",
        "    i = Image.open(filename)\n",
        "    i.thumbnail((200, 200), Image.LANCZOS)\n",
        "    \n",
        "    with BytesIO() as buffer:\n",
        "        i.save(buffer, 'jpeg')\n",
        "        return base64.b64encode(buffer.getvalue()).decode()\n",
        "    \n",
        "\n",
        "def display_result(filename, prediction, target):\n",
        "    '''\n",
        "    Display the results in HTML\n",
        "    \n",
        "    '''\n",
        "\n",
        "    type_image = 'Unknown'\n",
        "    \n",
        "    if(prediction[0]>prediction[1] and prediction[0]>0.5):\n",
        "        type_image = 'Sunflower'\n",
        "    elif(prediction[0]<prediction[1] and prediction[1]>0.5):\n",
        "        type_image = 'Tulip'\n",
        "    \n",
        "            \n",
        "    display_html = '''\n",
        "    <div style=\"overflow: auto;  border: 2px solid #D8D8D8;\n",
        "        padding: 5px; width: 620px;\" >\n",
        "        <img src=\"data:image/jpeg;base64,{}\" style=\"float: left;\" width=\"200\" height=\"200\">\n",
        "        <div style=\"padding: 10px 0px 0px 20px; overflow: auto;\">\n",
        "            <h3 style=\"margin-left: 50px; margin-top: 2px;\">Predict is: {}</h3>\n",
        "            <p style=\"margin-left: 50px; margin-top: 5px; font-size: 16px\">Real Target: {}</p>\n",
        "            <p style=\"margin-left: 50px; margin-top:  10px; font-size: 16px\">probability of Sunflower:{}</p>\n",
        "            <p style=\"margin-left: 50px; margin-top: 15px; font-size: 16px\">probability of Tulip:{}</p>\n",
        "            <p style=\"margin-left: 50px; margin-top: 19px; font-size: 12px\">Filename: {}</p>\n",
        "        </div>\n",
        "    </div>\n",
        "    '''.format(img_to_display(filename)\n",
        "               , type_image\n",
        "               , target\n",
        "               , \"{0:.2f}%\".format(prediction[0]*100,2)\n",
        "               , \"{0:.2f}%\".format(prediction[1]*100,2)\n",
        "               , filename\n",
        "               )\n",
        "\n",
        "    display(HTML(display_html))"
      ],
      "execution_count": 0,
      "outputs": []
    },
    {
      "cell_type": "code",
      "metadata": {
        "id": "KT_gSSvoVlSh",
        "colab_type": "code",
        "colab": {
          "base_uri": "https://localhost:8080/",
          "height": 136
        },
        "outputId": "4c445dfd-b526-442e-a679-e56fd51d6e6a"
      },
      "source": [
        "import random\n",
        "import numpy as np\n",
        "\n",
        "\n",
        "data_test=[];\n",
        "real_result=[];\n",
        "\n",
        "#add flower\n",
        "for i in range(3):\n",
        "  filename=random.choice(os.listdir(test_sunflower_dir));\n",
        "  src=os.path.join(test_sunflower_dir,filename);\n",
        "  data_test.append(src)\n",
        "  real_result.append(\"Sunflower\")\n",
        "  #add\n",
        "  filename=random.choice(os.listdir(test_tulip_dir));\n",
        "  src=os.path.join(test_tulip_dir,filename);\n",
        "  data_test.append(src)\n",
        "  real_result.append(\"Tulip\")\n",
        "\n",
        "filename=random.choice(os.listdir(\"flowers/daisy\"));\n",
        "src=os.path.join(\"flowers/daisy\",filename);\n",
        "data_test.append(src)\n",
        "real_result.append(\"Daisy\")\n",
        "\n",
        "data_test"
      ],
      "execution_count": 147,
      "outputs": [
        {
          "output_type": "execute_result",
          "data": {
            "text/plain": [
              "['contents/test/sunflower/45045003_30bbd0a142_m.jpg',\n",
              " 'contents/test/tulip/12025042086_78bafc0eb6_n.jpg',\n",
              " 'contents/test/sunflower/184683023_737fec5b18.jpg',\n",
              " 'contents/test/tulip/14238880951_2f62f042be_n.jpg',\n",
              " 'contents/test/sunflower/15839183375_49bf4f75e8_m.jpg',\n",
              " 'contents/test/tulip/8572847041_d0cc07861f_n.jpg',\n",
              " 'flowers/daisy/515112668_a49c69455a.jpg']"
            ]
          },
          "metadata": {
            "tags": []
          },
          "execution_count": 147
        }
      ]
    },
    {
      "cell_type": "code",
      "metadata": {
        "id": "5MBDRmLXeiqy",
        "colab_type": "code",
        "colab": {}
      },
      "source": [
        "#mytest_datagen = ImageDataGenerator(rescale=1./255)\n",
        "#mytest_generator = test_datagen.flow_from_directory(test_dir,\n",
        "#                                                        target_size=(150, 150),\n",
        "#                                                        batch_size=10000,\n",
        "#                                                        class_mode='binary')\n",
        "#mytest_generator.reset()\n",
        "#pred=model.predict_generator(mytest_generator,steps=1,verbose=1)\n",
        "#predicted_class_indices=np.argmax(pred,axis=1)\n",
        "#print(len(pred))\n",
        "#pred\n"
      ],
      "execution_count": 0,
      "outputs": []
    },
    {
      "cell_type": "code",
      "metadata": {
        "id": "keJDH2ymgIKq",
        "colab_type": "code",
        "colab": {
          "base_uri": "https://localhost:8080/",
          "height": 1000
        },
        "outputId": "30a0f21f-5211-4adf-95a8-374db8a5a080"
      },
      "source": [
        "import numpy as np\n",
        "from keras.preprocessing import image\n",
        "\n",
        "for i in range(len(data_test)):\n",
        "  test_file=data_test[i]\n",
        "  #print(test_file)\n",
        "  img_width, img_height = 150, 150\n",
        "  img = image.load_img(test_file, target_size = (img_width, img_height))\n",
        "  img = image.img_to_array(img)\n",
        "  img = np.expand_dims(img, axis = 0)\n",
        "  predict=model.predict(img)\n",
        "  #print(predict)\n",
        "  #print(\"{},{}\".format(predict[0][0],predict[0][1]))\n",
        "  display_result(test_file, predict[0], real_result[i])\n",
        "  "
      ],
      "execution_count": 148,
      "outputs": [
        {
          "output_type": "display_data",
          "data": {
            "text/html": [
              "\n",
              "    <div style=\"overflow: auto;  border: 2px solid #D8D8D8;\n",
              "        padding: 5px; width: 620px;\" >\n",
              "        <img src=\"data:image/jpeg;base64,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\" style=\"float: left;\" width=\"200\" height=\"200\">\n",
              "        <div style=\"padding: 10px 0px 0px 20px; overflow: auto;\">\n",
              "            <h3 style=\"margin-left: 50px; margin-top: 2px;\">Predict is: Sunflower</h3>\n",
              "            <p style=\"margin-left: 50px; margin-top: 5px; font-size: 16px\">Real Target: Sunflower</p>\n",
              "            <p style=\"margin-left: 50px; margin-top:  10px; font-size: 16px\">probability of Sunflower:100.00%</p>\n",
              "            <p style=\"margin-left: 50px; margin-top: 15px; font-size: 16px\">probability of Tulip:0.00%</p>\n",
              "            <p style=\"margin-left: 50px; margin-top: 19px; font-size: 12px\">Filename: contents/test/sunflower/45045003_30bbd0a142_m.jpg</p>\n",
              "        </div>\n",
              "    </div>\n",
              "    "
            ],
            "text/plain": [
              "<IPython.core.display.HTML object>"
            ]
          },
          "metadata": {
            "tags": []
          }
        },
        {
          "output_type": "display_data",
          "data": {
            "text/html": [
              "\n",
              "    <div style=\"overflow: auto;  border: 2px solid #D8D8D8;\n",
              "        padding: 5px; width: 620px;\" >\n",
              "        <img src=\"data:image/jpeg;base64,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\" style=\"float: left;\" width=\"200\" height=\"200\">\n",
              "        <div style=\"padding: 10px 0px 0px 20px; overflow: auto;\">\n",
              "            <h3 style=\"margin-left: 50px; margin-top: 2px;\">Predict is: Tulip</h3>\n",
              "            <p style=\"margin-left: 50px; margin-top: 5px; font-size: 16px\">Real Target: Tulip</p>\n",
              "            <p style=\"margin-left: 50px; margin-top:  10px; font-size: 16px\">probability of Sunflower:0.00%</p>\n",
              "            <p style=\"margin-left: 50px; margin-top: 15px; font-size: 16px\">probability of Tulip:100.00%</p>\n",
              "            <p style=\"margin-left: 50px; margin-top: 19px; font-size: 12px\">Filename: contents/test/tulip/12025042086_78bafc0eb6_n.jpg</p>\n",
              "        </div>\n",
              "    </div>\n",
              "    "
            ],
            "text/plain": [
              "<IPython.core.display.HTML object>"
            ]
          },
          "metadata": {
            "tags": []
          }
        },
        {
          "output_type": "display_data",
          "data": {
            "text/html": [
              "\n",
              "    <div style=\"overflow: auto;  border: 2px solid #D8D8D8;\n",
              "        padding: 5px; width: 620px;\" >\n",
              "        <img src=\"data:image/jpeg;base64,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\" style=\"float: left;\" width=\"200\" height=\"200\">\n",
              "        <div style=\"padding: 10px 0px 0px 20px; overflow: auto;\">\n",
              "            <h3 style=\"margin-left: 50px; margin-top: 2px;\">Predict is: Sunflower</h3>\n",
              "            <p style=\"margin-left: 50px; margin-top: 5px; font-size: 16px\">Real Target: Sunflower</p>\n",
              "            <p style=\"margin-left: 50px; margin-top:  10px; font-size: 16px\">probability of Sunflower:100.00%</p>\n",
              "            <p style=\"margin-left: 50px; margin-top: 15px; font-size: 16px\">probability of Tulip:0.00%</p>\n",
              "            <p style=\"margin-left: 50px; margin-top: 19px; font-size: 12px\">Filename: contents/test/sunflower/184683023_737fec5b18.jpg</p>\n",
              "        </div>\n",
              "    </div>\n",
              "    "
            ],
            "text/plain": [
              "<IPython.core.display.HTML object>"
            ]
          },
          "metadata": {
            "tags": []
          }
        },
        {
          "output_type": "display_data",
          "data": {
            "text/html": [
              "\n",
              "    <div style=\"overflow: auto;  border: 2px solid #D8D8D8;\n",
              "        padding: 5px; width: 620px;\" >\n",
              "        <img src=\"data:image/jpeg;base64,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\" style=\"float: left;\" width=\"200\" height=\"200\">\n",
              "        <div style=\"padding: 10px 0px 0px 20px; overflow: auto;\">\n",
              "            <h3 style=\"margin-left: 50px; margin-top: 2px;\">Predict is: Tulip</h3>\n",
              "            <p style=\"margin-left: 50px; margin-top: 5px; font-size: 16px\">Real Target: Tulip</p>\n",
              "            <p style=\"margin-left: 50px; margin-top:  10px; font-size: 16px\">probability of Sunflower:0.00%</p>\n",
              "            <p style=\"margin-left: 50px; margin-top: 15px; font-size: 16px\">probability of Tulip:100.00%</p>\n",
              "            <p style=\"margin-left: 50px; margin-top: 19px; font-size: 12px\">Filename: contents/test/tulip/14238880951_2f62f042be_n.jpg</p>\n",
              "        </div>\n",
              "    </div>\n",
              "    "
            ],
            "text/plain": [
              "<IPython.core.display.HTML object>"
            ]
          },
          "metadata": {
            "tags": []
          }
        },
        {
          "output_type": "display_data",
          "data": {
            "text/html": [
              "\n",
              "    <div style=\"overflow: auto;  border: 2px solid #D8D8D8;\n",
              "        padding: 5px; width: 620px;\" >\n",
              "        <img src=\"data:image/jpeg;base64,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\" style=\"float: left;\" width=\"200\" height=\"200\">\n",
              "        <div style=\"padding: 10px 0px 0px 20px; overflow: auto;\">\n",
              "            <h3 style=\"margin-left: 50px; margin-top: 2px;\">Predict is: Sunflower</h3>\n",
              "            <p style=\"margin-left: 50px; margin-top: 5px; font-size: 16px\">Real Target: Sunflower</p>\n",
              "            <p style=\"margin-left: 50px; margin-top:  10px; font-size: 16px\">probability of Sunflower:100.00%</p>\n",
              "            <p style=\"margin-left: 50px; margin-top: 15px; font-size: 16px\">probability of Tulip:0.00%</p>\n",
              "            <p style=\"margin-left: 50px; margin-top: 19px; font-size: 12px\">Filename: contents/test/sunflower/15839183375_49bf4f75e8_m.jpg</p>\n",
              "        </div>\n",
              "    </div>\n",
              "    "
            ],
            "text/plain": [
              "<IPython.core.display.HTML object>"
            ]
          },
          "metadata": {
            "tags": []
          }
        },
        {
          "output_type": "display_data",
          "data": {
            "text/html": [
              "\n",
              "    <div style=\"overflow: auto;  border: 2px solid #D8D8D8;\n",
              "        padding: 5px; width: 620px;\" >\n",
              "        <img src=\"data:image/jpeg;base64,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\" style=\"float: left;\" width=\"200\" height=\"200\">\n",
              "        <div style=\"padding: 10px 0px 0px 20px; overflow: auto;\">\n",
              "            <h3 style=\"margin-left: 50px; margin-top: 2px;\">Predict is: Tulip</h3>\n",
              "            <p style=\"margin-left: 50px; margin-top: 5px; font-size: 16px\">Real Target: Tulip</p>\n",
              "            <p style=\"margin-left: 50px; margin-top:  10px; font-size: 16px\">probability of Sunflower:0.00%</p>\n",
              "            <p style=\"margin-left: 50px; margin-top: 15px; font-size: 16px\">probability of Tulip:100.00%</p>\n",
              "            <p style=\"margin-left: 50px; margin-top: 19px; font-size: 12px\">Filename: contents/test/tulip/8572847041_d0cc07861f_n.jpg</p>\n",
              "        </div>\n",
              "    </div>\n",
              "    "
            ],
            "text/plain": [
              "<IPython.core.display.HTML object>"
            ]
          },
          "metadata": {
            "tags": []
          }
        },
        {
          "output_type": "display_data",
          "data": {
            "text/html": [
              "\n",
              "    <div style=\"overflow: auto;  border: 2px solid #D8D8D8;\n",
              "        padding: 5px; width: 620px;\" >\n",
              "        <img src=\"data:image/jpeg;base64,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\" style=\"float: left;\" width=\"200\" height=\"200\">\n",
              "        <div style=\"padding: 10px 0px 0px 20px; overflow: auto;\">\n",
              "            <h3 style=\"margin-left: 50px; margin-top: 2px;\">Predict is: Tulip</h3>\n",
              "            <p style=\"margin-left: 50px; margin-top: 5px; font-size: 16px\">Real Target: Daisy</p>\n",
              "            <p style=\"margin-left: 50px; margin-top:  10px; font-size: 16px\">probability of Sunflower:0.00%</p>\n",
              "            <p style=\"margin-left: 50px; margin-top: 15px; font-size: 16px\">probability of Tulip:100.00%</p>\n",
              "            <p style=\"margin-left: 50px; margin-top: 19px; font-size: 12px\">Filename: flowers/daisy/515112668_a49c69455a.jpg</p>\n",
              "        </div>\n",
              "    </div>\n",
              "    "
            ],
            "text/plain": [
              "<IPython.core.display.HTML object>"
            ]
          },
          "metadata": {
            "tags": []
          }
        }
      ]
    }
  ]
}