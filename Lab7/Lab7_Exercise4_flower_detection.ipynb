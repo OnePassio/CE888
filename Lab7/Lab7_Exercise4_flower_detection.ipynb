{
  "nbformat": 4,
  "nbformat_minor": 0,
  "metadata": {
    "colab": {
      "name": "Lab7_Exercise4_flower_detection.ipynb",
      "provenance": [],
      "collapsed_sections": [],
      "authorship_tag": "ABX9TyMlAK1yAJibCwaRMG+HHfol",
      "include_colab_link": true
    },
    "kernelspec": {
      "name": "python3",
      "display_name": "Python 3"
    },
    "accelerator": "GPU"
  },
  "cells": [
    {
      "cell_type": "markdown",
      "metadata": {
        "id": "view-in-github",
        "colab_type": "text"
      },
      "source": [
        "<a href=\"https://colab.research.google.com/github/OnePassio/CE888/blob/master/Lab7/Lab7_Exercise4_flower_detection.ipynb\" target=\"_parent\"><img src=\"https://colab.research.google.com/assets/colab-badge.svg\" alt=\"Open In Colab\"/></a>"
      ]
    },
    {
      "cell_type": "markdown",
      "metadata": {
        "id": "NpPSjaCZ9l5b",
        "colab_type": "text"
      },
      "source": [
        "#Flowers Recognition from Kaggle\n",
        "This dataset contains labeled 4242 images of flowers.\n",
        "##API\n",
        "kaggle datasets download -d alxmamaev/flowers-recognition"
      ]
    },
    {
      "cell_type": "markdown",
      "metadata": {
        "id": "ci9kulM9_IA2",
        "colab_type": "text"
      },
      "source": [
        "#download the database"
      ]
    },
    {
      "cell_type": "code",
      "metadata": {
        "id": "WxiqZpiZ7FP9",
        "colab_type": "code",
        "colab": {
          "base_uri": "https://localhost:8080/",
          "height": 68
        },
        "outputId": "1a7db8c2-3621-4d15-b95e-cb79b10bada6"
      },
      "source": [
        "import os\n",
        "os.environ['KAGGLE_USERNAME'] = \"thomastran89\" # username from the json file\n",
        "os.environ['KAGGLE_KEY'] = \"29b93919c31aa2997218d05bc048f093\" # key from the json file\n",
        "!kaggle datasets download -d alxmamaev/flowers-recognition"
      ],
      "execution_count": 1,
      "outputs": [
        {
          "output_type": "stream",
          "text": [
            "Downloading flowers-recognition.zip to /content\n",
            " 98% 441M/450M [00:09<00:00, 84.3MB/s]\n",
            "100% 450M/450M [00:09<00:00, 48.6MB/s]\n"
          ],
          "name": "stdout"
        }
      ]
    },
    {
      "cell_type": "code",
      "metadata": {
        "id": "beD1xd_1_QQb",
        "colab_type": "code",
        "colab": {
          "base_uri": "https://localhost:8080/",
          "height": 34
        },
        "outputId": "a07dae41-afdc-42c3-8a2f-98c80bd42e55"
      },
      "source": [
        "!ls"
      ],
      "execution_count": 2,
      "outputs": [
        {
          "output_type": "stream",
          "text": [
            "flowers-recognition.zip  sample_data\n"
          ],
          "name": "stdout"
        }
      ]
    },
    {
      "cell_type": "markdown",
      "metadata": {
        "id": "2w9iE8MD_Unc",
        "colab_type": "text"
      },
      "source": [
        "# Unzip data into 'contents' folder"
      ]
    },
    {
      "cell_type": "code",
      "metadata": {
        "id": "eiXcXcRD_q8g",
        "colab_type": "code",
        "colab": {}
      },
      "source": [
        "!unzip flowers-recognition.zip"
      ],
      "execution_count": 0,
      "outputs": []
    },
    {
      "cell_type": "code",
      "metadata": {
        "id": "_Zkay543_-Tx",
        "colab_type": "code",
        "colab": {
          "base_uri": "https://localhost:8080/",
          "height": 34
        },
        "outputId": "c85a0761-1d6f-44a8-b710-9a2b06a3adb2"
      },
      "source": [
        "!ls flowers"
      ],
      "execution_count": 4,
      "outputs": [
        {
          "output_type": "stream",
          "text": [
            "daisy  dandelion  flowers  rose  sunflower  tulip\n"
          ],
          "name": "stdout"
        }
      ]
    },
    {
      "cell_type": "markdown",
      "metadata": {
        "id": "Zz9bwS5lDnrg",
        "colab_type": "text"
      },
      "source": [
        "## Build test Model for test sunflower & tulip only\n",
        "dog = tulip\n",
        "sunflower= cat"
      ]
    },
    {
      "cell_type": "code",
      "metadata": {
        "id": "NCns1r_XC_K9",
        "colab_type": "code",
        "colab": {}
      },
      "source": [
        "base_dir = 'contents'\n",
        "os.mkdir(base_dir)"
      ],
      "execution_count": 0,
      "outputs": []
    },
    {
      "cell_type": "code",
      "metadata": {
        "id": "Ckma2jWLBPn-",
        "colab_type": "code",
        "colab": {}
      },
      "source": [
        "train_dir = os.path.join(base_dir, 'train')\n",
        "os.mkdir(train_dir)\n",
        "\n",
        "validation_dir = os.path.join(base_dir, 'validation')\n",
        "os.mkdir(validation_dir)\n",
        "\n",
        "test_dir = os.path.join(base_dir, 'test')\n",
        "os.mkdir(test_dir)\n",
        "\n",
        "train_sunflower_dir = os.path.join(train_dir, 'sunflower')\n",
        "os.mkdir(train_sunflower_dir)\n",
        "validation_sunflower_dir = os.path.join(validation_dir, 'sunflower')\n",
        "os.mkdir(validation_sunflower_dir)\n",
        "test_sunflower_dir = os.path.join(test_dir, 'sunflower')\n",
        "os.mkdir(test_sunflower_dir)\n",
        "\n",
        "train_tulip_dir = os.path.join(train_dir, 'tulip')\n",
        "os.mkdir(train_tulip_dir)\n",
        "validation_tulip_dir = os.path.join(validation_dir, 'tulip')\n",
        "os.mkdir(validation_tulip_dir)\n",
        "test_tulip_dir = os.path.join(test_dir, 'tulip')\n",
        "os.mkdir(test_tulip_dir)"
      ],
      "execution_count": 0,
      "outputs": []
    },
    {
      "cell_type": "code",
      "metadata": {
        "id": "CCqGyjfyESjj",
        "colab_type": "code",
        "colab": {
          "base_uri": "https://localhost:8080/",
          "height": 34
        },
        "outputId": "bbe383cb-62cc-466d-e845-a5e78023dc33"
      },
      "source": [
        "!ls contents/train"
      ],
      "execution_count": 7,
      "outputs": [
        {
          "output_type": "stream",
          "text": [
            "sunflower  tulip\n"
          ],
          "name": "stdout"
        }
      ]
    },
    {
      "cell_type": "code",
      "metadata": {
        "id": "0_3_QjE9E-8v",
        "colab_type": "code",
        "colab": {
          "base_uri": "https://localhost:8080/",
          "height": 34
        },
        "outputId": "731070d5-4374-4b01-e1d2-fd16b2463d83"
      },
      "source": [
        "test_sunflower_dir"
      ],
      "execution_count": 8,
      "outputs": [
        {
          "output_type": "execute_result",
          "data": {
            "text/plain": [
              "'contents/test/sunflower'"
            ]
          },
          "metadata": {
            "tags": []
          },
          "execution_count": 8
        }
      ]
    },
    {
      "cell_type": "markdown",
      "metadata": {
        "id": "7EH7Z-8IEfL7",
        "colab_type": "text"
      },
      "source": [
        "## Copy Data from dataset to model data folder"
      ]
    },
    {
      "cell_type": "code",
      "metadata": {
        "id": "Crm4EFB7Em2Z",
        "colab_type": "code",
        "colab": {
          "base_uri": "https://localhost:8080/",
          "height": 51
        },
        "outputId": "ef965c17-0983-4e44-87db-525fd7a2be15"
      },
      "source": [
        "from os import listdir\n",
        "from os.path import isfile, join\n",
        "\n",
        "path_org_sunflower=\"flowers/sunflower\"\n",
        "path_org_tulip=\"flowers/tulip\"\n",
        "\n",
        "sunflower_filenames = [f for f in listdir(path_org_sunflower) if isfile(join(path_org_sunflower, f))]\n",
        "tulip_filenames = [f for f in listdir(path_org_tulip) if isfile(join(path_org_tulip, f))]\n",
        "\n",
        "print(\"Total sunflower image files is:{}\".format(len(sunflower_filenames)))\n",
        "print(\"Total Tulip image files is:{}\".format(len(tulip_filenames)))\n",
        "#print(tulip_filenames)"
      ],
      "execution_count": 9,
      "outputs": [
        {
          "output_type": "stream",
          "text": [
            "Total sunflower image files is:734\n",
            "Total Tulip image files is:984\n"
          ],
          "name": "stdout"
        }
      ]
    },
    {
      "cell_type": "markdown",
      "metadata": {
        "id": "HdAa_zvcGllI",
        "colab_type": "text"
      },
      "source": [
        "## Create Data set for train, validate & test (500-100-100)"
      ]
    },
    {
      "cell_type": "code",
      "metadata": {
        "id": "_jwamQ7QGsKU",
        "colab_type": "code",
        "colab": {}
      },
      "source": [
        "import shutil\n",
        "# for sunflower dataset\n",
        "# sunflower dataset train data\n",
        "fnames = [sunflower_filenames[i] for i in range(0,500)]\n",
        "for fname in fnames:\n",
        "    src = os.path.join(path_org_sunflower, fname)\n",
        "    dst = os.path.join(train_sunflower_dir, fname)\n",
        "    shutil.copyfile(src, dst)\n",
        "# sunflower dataset validate data\n",
        "fnames = [sunflower_filenames[i] for i in range(500,600)]\n",
        "for fname in fnames:\n",
        "    src = os.path.join(path_org_sunflower, fname)\n",
        "    dst = os.path.join(validation_sunflower_dir, fname)\n",
        "    shutil.copyfile(src, dst)\n",
        "# sunflower dataset test data\n",
        "fnames = [sunflower_filenames[i] for i in range(600,700)]\n",
        "for fname in fnames:\n",
        "    src = os.path.join(path_org_sunflower, fname)\n",
        "    dst = os.path.join(test_sunflower_dir, fname)\n",
        "    shutil.copyfile(src, dst)\n",
        "\n",
        "# for tulip dataset\n",
        "# tulip dataset train data\n",
        "fnames = [tulip_filenames[i] for i in range(0,500)]\n",
        "for fname in fnames:\n",
        "    src = os.path.join(path_org_tulip, fname)\n",
        "    dst = os.path.join(train_tulip_dir, fname)\n",
        "    shutil.copyfile(src, dst)\n",
        "# tulip dataset validate data\n",
        "fnames = [tulip_filenames[i] for i in range(500,600)]\n",
        "for fname in fnames:\n",
        "    src = os.path.join(path_org_tulip, fname)\n",
        "    dst = os.path.join(validation_tulip_dir, fname)\n",
        "    shutil.copyfile(src, dst)\n",
        "# tulip dataset test data\n",
        "fnames = [tulip_filenames[i] for i in range(600,700)]\n",
        "for fname in fnames:\n",
        "    src = os.path.join(path_org_tulip, fname)\n",
        "    dst = os.path.join(test_tulip_dir, fname)\n",
        "    shutil.copyfile(src, dst)"
      ],
      "execution_count": 0,
      "outputs": []
    },
    {
      "cell_type": "code",
      "metadata": {
        "id": "uP2DRCiPJHAp",
        "colab_type": "code",
        "colab": {
          "base_uri": "https://localhost:8080/",
          "height": 119
        },
        "outputId": "c9dca14a-aecc-4dc8-a33e-2703e6c933ba"
      },
      "source": [
        "#test folder have files\n",
        "print('total training sunflower images:', len(os.listdir(train_sunflower_dir)))\n",
        "print('total validation sunflower images:', len(os.listdir(validation_sunflower_dir)))\n",
        "print('total test sunflower images:', len(os.listdir(test_sunflower_dir)))\n",
        "\n",
        "\n",
        "print('total train tulip images:', len(os.listdir(train_tulip_dir)))\n",
        "print('total validation tulip images:', len(os.listdir(validation_tulip_dir)))\n",
        "print('total test tulip images:', len(os.listdir(test_tulip_dir)))"
      ],
      "execution_count": 11,
      "outputs": [
        {
          "output_type": "stream",
          "text": [
            "total training sunflower images: 500\n",
            "total validation sunflower images: 100\n",
            "total test sunflower images: 100\n",
            "total train tulip images: 500\n",
            "total validation tulip images: 100\n",
            "total test tulip images: 100\n"
          ],
          "name": "stdout"
        }
      ]
    },
    {
      "cell_type": "markdown",
      "metadata": {
        "id": "pqp0DGFeKN_l",
        "colab_type": "text"
      },
      "source": [
        "##Build Model CNN"
      ]
    },
    {
      "cell_type": "code",
      "metadata": {
        "id": "nkI7NrP-KSf6",
        "colab_type": "code",
        "colab": {
          "base_uri": "https://localhost:8080/",
          "height": 746
        },
        "outputId": "ba724160-0363-49ad-a395-b5dad58e742a"
      },
      "source": [
        "from keras import layers\n",
        "from keras import models\n",
        "\n",
        "model = models.Sequential()\n",
        "model.add(layers.Conv2D(32, (3, 3), activation='relu', input_shape=(150, 150, 3)))\n",
        "model.add(layers.MaxPooling2D((2, 2)))\n",
        "model.add(layers.Conv2D(64, (3, 3), activation='relu'))\n",
        "model.add(layers.MaxPooling2D((2, 2)))\n",
        "model.add(layers.Conv2D(128, (3, 3), activation='relu'))\n",
        "model.add(layers.MaxPooling2D((2, 2)))\n",
        "model.add(layers.Conv2D(128, (3, 3), activation='relu'))\n",
        "model.add(layers.MaxPooling2D((2, 2)))\n",
        "model.add(layers.Flatten())\n",
        "model.add(layers.Dense(512, activation='relu'))\n",
        "model.add(layers.Dense(1, activation='sigmoid'))\n",
        "model.summary()"
      ],
      "execution_count": 12,
      "outputs": [
        {
          "output_type": "stream",
          "text": [
            "Using TensorFlow backend.\n"
          ],
          "name": "stderr"
        },
        {
          "output_type": "display_data",
          "data": {
            "text/html": [
              "<p style=\"color: red;\">\n",
              "The default version of TensorFlow in Colab will soon switch to TensorFlow 2.x.<br>\n",
              "We recommend you <a href=\"https://www.tensorflow.org/guide/migrate\" target=\"_blank\">upgrade</a> now \n",
              "or ensure your notebook will continue to use TensorFlow 1.x via the <code>%tensorflow_version 1.x</code> magic:\n",
              "<a href=\"https://colab.research.google.com/notebooks/tensorflow_version.ipynb\" target=\"_blank\">more info</a>.</p>\n"
            ],
            "text/plain": [
              "<IPython.core.display.HTML object>"
            ]
          },
          "metadata": {
            "tags": []
          }
        },
        {
          "output_type": "stream",
          "text": [
            "WARNING:tensorflow:From /usr/local/lib/python3.6/dist-packages/keras/backend/tensorflow_backend.py:66: The name tf.get_default_graph is deprecated. Please use tf.compat.v1.get_default_graph instead.\n",
            "\n",
            "WARNING:tensorflow:From /usr/local/lib/python3.6/dist-packages/keras/backend/tensorflow_backend.py:541: The name tf.placeholder is deprecated. Please use tf.compat.v1.placeholder instead.\n",
            "\n",
            "WARNING:tensorflow:From /usr/local/lib/python3.6/dist-packages/keras/backend/tensorflow_backend.py:4432: The name tf.random_uniform is deprecated. Please use tf.random.uniform instead.\n",
            "\n",
            "WARNING:tensorflow:From /usr/local/lib/python3.6/dist-packages/keras/backend/tensorflow_backend.py:4267: The name tf.nn.max_pool is deprecated. Please use tf.nn.max_pool2d instead.\n",
            "\n",
            "Model: \"sequential_1\"\n",
            "_________________________________________________________________\n",
            "Layer (type)                 Output Shape              Param #   \n",
            "=================================================================\n",
            "conv2d_1 (Conv2D)            (None, 148, 148, 32)      896       \n",
            "_________________________________________________________________\n",
            "max_pooling2d_1 (MaxPooling2 (None, 74, 74, 32)        0         \n",
            "_________________________________________________________________\n",
            "conv2d_2 (Conv2D)            (None, 72, 72, 64)        18496     \n",
            "_________________________________________________________________\n",
            "max_pooling2d_2 (MaxPooling2 (None, 36, 36, 64)        0         \n",
            "_________________________________________________________________\n",
            "conv2d_3 (Conv2D)            (None, 34, 34, 128)       73856     \n",
            "_________________________________________________________________\n",
            "max_pooling2d_3 (MaxPooling2 (None, 17, 17, 128)       0         \n",
            "_________________________________________________________________\n",
            "conv2d_4 (Conv2D)            (None, 15, 15, 128)       147584    \n",
            "_________________________________________________________________\n",
            "max_pooling2d_4 (MaxPooling2 (None, 7, 7, 128)         0         \n",
            "_________________________________________________________________\n",
            "flatten_1 (Flatten)          (None, 6272)              0         \n",
            "_________________________________________________________________\n",
            "dense_1 (Dense)              (None, 512)               3211776   \n",
            "_________________________________________________________________\n",
            "dense_2 (Dense)              (None, 1)                 513       \n",
            "=================================================================\n",
            "Total params: 3,453,121\n",
            "Trainable params: 3,453,121\n",
            "Non-trainable params: 0\n",
            "_________________________________________________________________\n"
          ],
          "name": "stdout"
        }
      ]
    },
    {
      "cell_type": "code",
      "metadata": {
        "id": "tlCJ5kKlKa81",
        "colab_type": "code",
        "colab": {
          "base_uri": "https://localhost:8080/",
          "height": 156
        },
        "outputId": "de63f1c8-bcb8-4e1b-98d1-4e4e3e92b370"
      },
      "source": [
        "from keras import optimizers\n",
        "model.compile(loss='binary_crossentropy', \n",
        "              optimizer=optimizers.RMSprop(lr=1e-4),\n",
        "              metrics=['acc'])"
      ],
      "execution_count": 13,
      "outputs": [
        {
          "output_type": "stream",
          "text": [
            "WARNING:tensorflow:From /usr/local/lib/python3.6/dist-packages/keras/optimizers.py:793: The name tf.train.Optimizer is deprecated. Please use tf.compat.v1.train.Optimizer instead.\n",
            "\n",
            "WARNING:tensorflow:From /usr/local/lib/python3.6/dist-packages/keras/backend/tensorflow_backend.py:3657: The name tf.log is deprecated. Please use tf.math.log instead.\n",
            "\n",
            "WARNING:tensorflow:From /usr/local/lib/python3.6/dist-packages/tensorflow_core/python/ops/nn_impl.py:183: where (from tensorflow.python.ops.array_ops) is deprecated and will be removed in a future version.\n",
            "Instructions for updating:\n",
            "Use tf.where in 2.0, which has the same broadcast rule as np.where\n"
          ],
          "name": "stdout"
        }
      ]
    },
    {
      "cell_type": "markdown",
      "metadata": {
        "id": "NXwG_QBwKfkb",
        "colab_type": "text"
      },
      "source": [
        "## Using ImageDataGenerator to read images from directories\n",
        "As you know by now, data should be formatted into appropriately preprocessed floatingpoint tensors before being fed into the network. Currently, the data sits on a drive as JPEG files, so the steps for getting it into the network are roughly as follows:\n",
        "\n",
        "* Read the picture files.\n",
        "* Decode the JPEG content to RGB grids of pixels.\n",
        "* Convert these into floating-point tensors.\n",
        "* Rescale the pixel values (between 0 and 255) to the [0, 1] interval (as you know, neural networks prefer to deal with small input values).\n",
        "\n",
        "It may seem a bit daunting, but fortunately Keras has utilities to take care of these steps automatically. Keras has a module with image-processing helper tools, located at keras.preprocessing.image. In particular, it contains the class ImageDataGenerator,which lets you quickly set up Python generators that can automatically turn image files on disk into batches of preprocessed tensors."
      ]
    },
    {
      "cell_type": "code",
      "metadata": {
        "id": "32IbXoaBKoCK",
        "colab_type": "code",
        "colab": {
          "base_uri": "https://localhost:8080/",
          "height": 51
        },
        "outputId": "1ba5345d-7a50-4eef-80ef-1df9a2411285"
      },
      "source": [
        "from keras.preprocessing.image import ImageDataGenerator\n",
        "\n",
        "train_datagen = ImageDataGenerator(rescale=1./255)\n",
        "test_datagen = ImageDataGenerator(rescale=1./255)\n",
        "\n",
        "train_generator = train_datagen.flow_from_directory(train_dir,\n",
        "                                                    target_size=(150, 150), \n",
        "                                                    batch_size=20,\n",
        "                                                    class_mode='binary')\n",
        "\n",
        "validation_generator = test_datagen.flow_from_directory(validation_dir,\n",
        "                                                        target_size=(150, 150),\n",
        "                                                        batch_size=20,\n",
        "                                                        class_mode='binary')"
      ],
      "execution_count": 14,
      "outputs": [
        {
          "output_type": "stream",
          "text": [
            "Found 1000 images belonging to 2 classes.\n",
            "Found 200 images belonging to 2 classes.\n"
          ],
          "name": "stdout"
        }
      ]
    },
    {
      "cell_type": "markdown",
      "metadata": {
        "id": "p3JrHijmKw0c",
        "colab_type": "text"
      },
      "source": [
        "Let’s fit the model to the data using the generator. You do so using the fit_generator method, the equivalent of fit for data generators like this one. It expects as its first argument a Python generator that will yield batches of inputs and targets indefinitely,like this one does. Because the data is being generated endlessly, the Keras model needs to know how many samples to draw from the generator before declaring anepoch over. This is the role of the steps_per_epoch argument: after having drawn steps_per_epoch batches from the generator—that is, after having run for steps_per_epoch gradient descent steps—the fitting process will go to the next epoch. In this case, batches are 20 samples, so it will take 100 batches until you see your target of 2,000 samples.\n",
        "\n",
        "When using fit_generator, you can pass a validation_data argument, much as with the fit method. It’s important to note that this argument is allowed to be a data generator, but it could also be a tuple of Numpy arrays. If you pass a generator as validation_data, then this generator is expected to yield batches of validation data endlessly; thus you should also specify the validation_steps argument, which tells the process how many batches to draw from the validation generator for evaluation."
      ]
    },
    {
      "cell_type": "code",
      "metadata": {
        "id": "c-wI2Y9AKzFB",
        "colab_type": "code",
        "colab": {
          "base_uri": "https://localhost:8080/",
          "height": 1000
        },
        "outputId": "c7b5917a-79b6-4846-97d8-cd5ad991b40f"
      },
      "source": [
        "history = model.fit_generator(train_generator,\n",
        "                              steps_per_epoch=100,\n",
        "                              epochs=60,\n",
        "                              validation_data=validation_generator,\n",
        "                              validation_steps=10)"
      ],
      "execution_count": 15,
      "outputs": [
        {
          "output_type": "stream",
          "text": [
            "WARNING:tensorflow:From /usr/local/lib/python3.6/dist-packages/keras/backend/tensorflow_backend.py:1033: The name tf.assign_add is deprecated. Please use tf.compat.v1.assign_add instead.\n",
            "\n",
            "WARNING:tensorflow:From /usr/local/lib/python3.6/dist-packages/keras/backend/tensorflow_backend.py:1020: The name tf.assign is deprecated. Please use tf.compat.v1.assign instead.\n",
            "\n",
            "WARNING:tensorflow:From /usr/local/lib/python3.6/dist-packages/keras/backend/tensorflow_backend.py:3005: The name tf.Session is deprecated. Please use tf.compat.v1.Session instead.\n",
            "\n",
            "Epoch 1/60\n",
            "WARNING:tensorflow:From /usr/local/lib/python3.6/dist-packages/keras/backend/tensorflow_backend.py:190: The name tf.get_default_session is deprecated. Please use tf.compat.v1.get_default_session instead.\n",
            "\n",
            "WARNING:tensorflow:From /usr/local/lib/python3.6/dist-packages/keras/backend/tensorflow_backend.py:197: The name tf.ConfigProto is deprecated. Please use tf.compat.v1.ConfigProto instead.\n",
            "\n",
            "WARNING:tensorflow:From /usr/local/lib/python3.6/dist-packages/keras/backend/tensorflow_backend.py:207: The name tf.global_variables is deprecated. Please use tf.compat.v1.global_variables instead.\n",
            "\n",
            "WARNING:tensorflow:From /usr/local/lib/python3.6/dist-packages/keras/backend/tensorflow_backend.py:216: The name tf.is_variable_initialized is deprecated. Please use tf.compat.v1.is_variable_initialized instead.\n",
            "\n",
            "WARNING:tensorflow:From /usr/local/lib/python3.6/dist-packages/keras/backend/tensorflow_backend.py:223: The name tf.variables_initializer is deprecated. Please use tf.compat.v1.variables_initializer instead.\n",
            "\n",
            "100/100 [==============================] - 20s 201ms/step - loss: 0.4831 - acc: 0.7595 - val_loss: 0.3860 - val_acc: 0.8600\n",
            "Epoch 2/60\n",
            "100/100 [==============================] - 7s 66ms/step - loss: 0.3731 - acc: 0.8325 - val_loss: 0.3317 - val_acc: 0.8650\n",
            "Epoch 3/60\n",
            "100/100 [==============================] - 6s 65ms/step - loss: 0.3329 - acc: 0.8465 - val_loss: 0.3361 - val_acc: 0.8700\n",
            "Epoch 4/60\n",
            "100/100 [==============================] - 7s 66ms/step - loss: 0.3033 - acc: 0.8640 - val_loss: 0.2701 - val_acc: 0.8750\n",
            "Epoch 5/60\n",
            "100/100 [==============================] - 7s 67ms/step - loss: 0.2631 - acc: 0.8860 - val_loss: 0.2434 - val_acc: 0.9100\n",
            "Epoch 6/60\n",
            "100/100 [==============================] - 7s 66ms/step - loss: 0.2397 - acc: 0.8980 - val_loss: 0.2748 - val_acc: 0.8900\n",
            "Epoch 7/60\n",
            "100/100 [==============================] - 7s 67ms/step - loss: 0.2182 - acc: 0.9075 - val_loss: 0.2553 - val_acc: 0.9000\n",
            "Epoch 8/60\n",
            "100/100 [==============================] - 7s 65ms/step - loss: 0.2008 - acc: 0.9200 - val_loss: 0.2089 - val_acc: 0.9000\n",
            "Epoch 9/60\n",
            "100/100 [==============================] - 7s 66ms/step - loss: 0.1758 - acc: 0.9285 - val_loss: 0.3226 - val_acc: 0.8800\n",
            "Epoch 10/60\n",
            "100/100 [==============================] - 7s 66ms/step - loss: 0.1624 - acc: 0.9390 - val_loss: 0.2238 - val_acc: 0.9350\n",
            "Epoch 11/60\n",
            "100/100 [==============================] - 7s 66ms/step - loss: 0.1328 - acc: 0.9480 - val_loss: 0.1821 - val_acc: 0.9400\n",
            "Epoch 12/60\n",
            "100/100 [==============================] - 7s 67ms/step - loss: 0.1191 - acc: 0.9525 - val_loss: 0.1859 - val_acc: 0.9400\n",
            "Epoch 13/60\n",
            "100/100 [==============================] - 7s 67ms/step - loss: 0.1063 - acc: 0.9655 - val_loss: 0.2093 - val_acc: 0.9300\n",
            "Epoch 14/60\n",
            "100/100 [==============================] - 7s 67ms/step - loss: 0.0779 - acc: 0.9775 - val_loss: 0.4153 - val_acc: 0.8650\n",
            "Epoch 15/60\n",
            "100/100 [==============================] - 7s 66ms/step - loss: 0.0793 - acc: 0.9750 - val_loss: 0.2931 - val_acc: 0.9150\n",
            "Epoch 16/60\n",
            "100/100 [==============================] - 7s 67ms/step - loss: 0.0513 - acc: 0.9830 - val_loss: 0.2005 - val_acc: 0.9200\n",
            "Epoch 17/60\n",
            "100/100 [==============================] - 7s 66ms/step - loss: 0.0556 - acc: 0.9845 - val_loss: 0.2084 - val_acc: 0.9300\n",
            "Epoch 18/60\n",
            "100/100 [==============================] - 7s 67ms/step - loss: 0.0345 - acc: 0.9895 - val_loss: 0.6728 - val_acc: 0.8200\n",
            "Epoch 19/60\n",
            "100/100 [==============================] - 7s 68ms/step - loss: 0.0393 - acc: 0.9900 - val_loss: 0.2449 - val_acc: 0.9300\n",
            "Epoch 20/60\n",
            "100/100 [==============================] - 7s 68ms/step - loss: 0.0320 - acc: 0.9900 - val_loss: 0.2404 - val_acc: 0.9300\n",
            "Epoch 21/60\n",
            "100/100 [==============================] - 7s 66ms/step - loss: 0.0401 - acc: 0.9895 - val_loss: 0.2542 - val_acc: 0.9250\n",
            "Epoch 22/60\n",
            "100/100 [==============================] - 7s 66ms/step - loss: 0.0238 - acc: 0.9920 - val_loss: 0.2168 - val_acc: 0.9400\n",
            "Epoch 23/60\n",
            "100/100 [==============================] - 7s 67ms/step - loss: 0.0129 - acc: 0.9970 - val_loss: 0.6911 - val_acc: 0.8600\n",
            "Epoch 24/60\n",
            "100/100 [==============================] - 7s 66ms/step - loss: 0.0232 - acc: 0.9925 - val_loss: 0.3560 - val_acc: 0.9150\n",
            "Epoch 25/60\n",
            "100/100 [==============================] - 7s 67ms/step - loss: 0.0195 - acc: 0.9960 - val_loss: 0.2349 - val_acc: 0.9300\n",
            "Epoch 26/60\n",
            "100/100 [==============================] - 7s 65ms/step - loss: 0.0181 - acc: 0.9940 - val_loss: 0.2833 - val_acc: 0.9350\n",
            "Epoch 27/60\n",
            "100/100 [==============================] - 7s 66ms/step - loss: 0.0161 - acc: 0.9945 - val_loss: 0.3737 - val_acc: 0.9300\n",
            "Epoch 28/60\n",
            "100/100 [==============================] - 7s 67ms/step - loss: 0.0183 - acc: 0.9960 - val_loss: 0.3674 - val_acc: 0.9300\n",
            "Epoch 29/60\n",
            "100/100 [==============================] - 7s 68ms/step - loss: 0.0114 - acc: 0.9940 - val_loss: 0.3404 - val_acc: 0.9300\n",
            "Epoch 30/60\n",
            "100/100 [==============================] - 7s 67ms/step - loss: 0.0103 - acc: 0.9965 - val_loss: 0.2976 - val_acc: 0.9350\n",
            "Epoch 31/60\n",
            "100/100 [==============================] - 7s 66ms/step - loss: 0.0242 - acc: 0.9940 - val_loss: 0.3517 - val_acc: 0.9350\n",
            "Epoch 32/60\n",
            "100/100 [==============================] - 7s 67ms/step - loss: 0.0078 - acc: 0.9985 - val_loss: 0.3903 - val_acc: 0.9300\n",
            "Epoch 33/60\n",
            "100/100 [==============================] - 7s 66ms/step - loss: 0.0102 - acc: 0.9955 - val_loss: 0.4169 - val_acc: 0.9350\n",
            "Epoch 34/60\n",
            "100/100 [==============================] - 7s 68ms/step - loss: 0.0138 - acc: 0.9950 - val_loss: 0.4931 - val_acc: 0.9250\n",
            "Epoch 35/60\n",
            "100/100 [==============================] - 7s 66ms/step - loss: 0.0143 - acc: 0.9965 - val_loss: 0.2859 - val_acc: 0.9350\n",
            "Epoch 36/60\n",
            "100/100 [==============================] - 7s 66ms/step - loss: 0.0184 - acc: 0.9975 - val_loss: 0.5547 - val_acc: 0.9050\n",
            "Epoch 37/60\n",
            "100/100 [==============================] - 7s 67ms/step - loss: 0.0113 - acc: 0.9955 - val_loss: 0.3321 - val_acc: 0.9300\n",
            "Epoch 38/60\n",
            "100/100 [==============================] - 7s 67ms/step - loss: 0.0042 - acc: 0.9985 - val_loss: 0.8403 - val_acc: 0.8800\n",
            "Epoch 39/60\n",
            "100/100 [==============================] - 7s 66ms/step - loss: 0.0173 - acc: 0.9965 - val_loss: 0.4818 - val_acc: 0.9100\n",
            "Epoch 40/60\n",
            "100/100 [==============================] - 7s 67ms/step - loss: 0.0215 - acc: 0.9945 - val_loss: 0.3415 - val_acc: 0.9350\n",
            "Epoch 41/60\n",
            "100/100 [==============================] - 7s 67ms/step - loss: 1.8783e-04 - acc: 1.0000 - val_loss: 0.3867 - val_acc: 0.9100\n",
            "Epoch 42/60\n",
            "100/100 [==============================] - 7s 67ms/step - loss: 0.0142 - acc: 0.9960 - val_loss: 0.4474 - val_acc: 0.9250\n",
            "Epoch 43/60\n",
            "100/100 [==============================] - 7s 67ms/step - loss: 0.0133 - acc: 0.9970 - val_loss: 0.4808 - val_acc: 0.9250\n",
            "Epoch 44/60\n",
            "100/100 [==============================] - 7s 66ms/step - loss: 0.0070 - acc: 0.9975 - val_loss: 0.4435 - val_acc: 0.9350\n",
            "Epoch 45/60\n",
            "100/100 [==============================] - 7s 65ms/step - loss: 0.0046 - acc: 0.9985 - val_loss: 0.5333 - val_acc: 0.9100\n",
            "Epoch 46/60\n",
            "100/100 [==============================] - 7s 67ms/step - loss: 0.0105 - acc: 0.9985 - val_loss: 0.5541 - val_acc: 0.9250\n",
            "Epoch 47/60\n",
            "100/100 [==============================] - 7s 67ms/step - loss: 0.0139 - acc: 0.9970 - val_loss: 0.5130 - val_acc: 0.9250\n",
            "Epoch 48/60\n",
            "100/100 [==============================] - 7s 66ms/step - loss: 5.8110e-05 - acc: 1.0000 - val_loss: 0.6520 - val_acc: 0.9200\n",
            "Epoch 49/60\n",
            "100/100 [==============================] - 7s 66ms/step - loss: 0.0042 - acc: 0.9985 - val_loss: 0.5735 - val_acc: 0.9250\n",
            "Epoch 50/60\n",
            "100/100 [==============================] - 7s 67ms/step - loss: 0.0106 - acc: 0.9980 - val_loss: 0.5161 - val_acc: 0.9200\n",
            "Epoch 51/60\n",
            "100/100 [==============================] - 7s 65ms/step - loss: 0.0261 - acc: 0.9955 - val_loss: 0.4257 - val_acc: 0.9250\n",
            "Epoch 52/60\n",
            "100/100 [==============================] - 7s 67ms/step - loss: 2.4112e-05 - acc: 1.0000 - val_loss: 0.4639 - val_acc: 0.9350\n",
            "Epoch 53/60\n",
            "100/100 [==============================] - 7s 65ms/step - loss: 0.0048 - acc: 0.9990 - val_loss: 0.4511 - val_acc: 0.9150\n",
            "Epoch 54/60\n",
            "100/100 [==============================] - 7s 67ms/step - loss: 0.0108 - acc: 0.9970 - val_loss: 0.4853 - val_acc: 0.9150\n",
            "Epoch 55/60\n",
            "100/100 [==============================] - 7s 67ms/step - loss: 0.0219 - acc: 0.9970 - val_loss: 0.8797 - val_acc: 0.8900\n",
            "Epoch 56/60\n",
            "100/100 [==============================] - 7s 68ms/step - loss: 1.2813e-04 - acc: 1.0000 - val_loss: 0.5999 - val_acc: 0.9250\n",
            "Epoch 57/60\n",
            "100/100 [==============================] - 7s 66ms/step - loss: 0.0092 - acc: 0.9965 - val_loss: 0.5568 - val_acc: 0.9300\n",
            "Epoch 58/60\n",
            "100/100 [==============================] - 7s 67ms/step - loss: 0.0050 - acc: 0.9970 - val_loss: 0.4907 - val_acc: 0.9250\n",
            "Epoch 59/60\n",
            "100/100 [==============================] - 7s 69ms/step - loss: 5.2689e-05 - acc: 1.0000 - val_loss: 0.5517 - val_acc: 0.9300\n",
            "Epoch 60/60\n",
            "100/100 [==============================] - 7s 66ms/step - loss: 0.0067 - acc: 0.9990 - val_loss: 0.6978 - val_acc: 0.9250\n"
          ],
          "name": "stdout"
        }
      ]
    },
    {
      "cell_type": "code",
      "metadata": {
        "id": "iQ3rhsAeLAVl",
        "colab_type": "code",
        "colab": {
          "base_uri": "https://localhost:8080/",
          "height": 545
        },
        "outputId": "5f3c145a-56b5-40a4-be89-9936d534dd46"
      },
      "source": [
        "model.save('flowers_1.h5')\n",
        "\n",
        "import matplotlib.pyplot as plt\n",
        "\n",
        "acc = history.history['acc']\n",
        "val_acc = history.history['val_acc']\n",
        "loss = history.history['loss']\n",
        "val_loss = history.history['val_loss']\n",
        "\n",
        "epochs = range(1, len(acc) + 1)\n",
        "\n",
        "plt.plot(epochs, acc, 'bo', label='Training acc')\n",
        "plt.plot(epochs, val_acc, 'b', label='Validation acc')\n",
        "plt.title('Training and validation accuracy')\n",
        "plt.legend()\n",
        "\n",
        "plt.figure()\n",
        "\n",
        "plt.plot(epochs, loss, 'bo', label='Training loss')\n",
        "plt.plot(epochs, val_loss, 'b', label='Validation loss')\n",
        "plt.title('Training and validation loss')\n",
        "plt.legend()\n",
        "\n",
        "plt.show()"
      ],
      "execution_count": 16,
      "outputs": [
        {
          "output_type": "display_data",
          "data": {
            "image/png": "[encoded data removed]",
            "text/plain": [
              "<Figure size 432x288 with 1 Axes>"
            ]
          },
          "metadata": {
            "tags": []
          }
        },
        {
          "output_type": "display_data",
          "data": {
            "image/png": "[encoded data removed]",
            "text/plain": [
              "<Figure size 432x288 with 1 Axes>"
            ]
          },
          "metadata": {
            "tags": []
          }
        }
      ]
    },
    {
      "cell_type": "markdown",
      "metadata": {
        "id": "ICeza4thLLjf",
        "colab_type": "text"
      },
      "source": [
        "#Convolutional Networks with Dropout\n",
        "\n",
        "Ref: https://github.com/mneha4/Training-Neural-Nets---Guidelines"
      ]
    },
    {
      "cell_type": "code",
      "metadata": {
        "id": "P1NJku1JLIsr",
        "colab_type": "code",
        "colab": {
          "base_uri": "https://localhost:8080/",
          "height": 122
        },
        "outputId": "98d70d1b-b402-496d-d43b-863afa2b292e"
      },
      "source": [
        "model = models.Sequential()\n",
        "model.add(layers.Conv2D(32, (3, 3), activation='relu',\n",
        "input_shape=(150, 150, 3)))\n",
        "model.add(layers.MaxPooling2D((2, 2)))\n",
        "model.add(layers.Conv2D(64, (3, 3), activation='relu'))\n",
        "model.add(layers.MaxPooling2D((2, 2)))\n",
        "model.add(layers.Conv2D(128, (3, 3), activation='relu'))\n",
        "model.add(layers.MaxPooling2D((2, 2)))\n",
        "model.add(layers.Conv2D(128, (3, 3), activation='relu'))\n",
        "model.add(layers.MaxPooling2D((2, 2)))\n",
        "model.add(layers.Flatten())\n",
        "model.add(layers.Dropout(0.5))\n",
        "model.add(layers.Dense(512, activation='relu'))\n",
        "model.add(layers.Dense(1, activation='sigmoid'))\n",
        "\n",
        "model.compile(loss='binary_crossentropy',\n",
        "              optimizer=optimizers.RMSprop(lr=1e-4),\n",
        "              metrics=['acc'])"
      ],
      "execution_count": 17,
      "outputs": [
        {
          "output_type": "stream",
          "text": [
            "WARNING:tensorflow:From /usr/local/lib/python3.6/dist-packages/keras/backend/tensorflow_backend.py:148: The name tf.placeholder_with_default is deprecated. Please use tf.compat.v1.placeholder_with_default instead.\n",
            "\n",
            "WARNING:tensorflow:From /usr/local/lib/python3.6/dist-packages/keras/backend/tensorflow_backend.py:3733: calling dropout (from tensorflow.python.ops.nn_ops) with keep_prob is deprecated and will be removed in a future version.\n",
            "Instructions for updating:\n",
            "Please use `rate` instead of `keep_prob`. Rate should be set to `rate = 1 - keep_prob`.\n"
          ],
          "name": "stdout"
        }
      ]
    },
    {
      "cell_type": "code",
      "metadata": {
        "id": "IlMfTJDgLV06",
        "colab_type": "code",
        "colab": {
          "base_uri": "https://localhost:8080/",
          "height": 1000
        },
        "outputId": "b919e2ed-98d5-4deb-aaaf-8575939f701d"
      },
      "source": [
        "\n",
        "train_datagen = ImageDataGenerator(rescale=1./255,\n",
        "                                   rotation_range=40,\n",
        "                                   width_shift_range=0.2,\n",
        "                                   height_shift_range=0.2,\n",
        "                                   shear_range=0.2,\n",
        "                                   zoom_range=0.2,\n",
        "                                   horizontal_flip=True,)\n",
        "\n",
        "test_datagen = ImageDataGenerator(rescale=1./255)\n",
        "\n",
        "train_generator = train_datagen.flow_from_directory(train_dir,\n",
        "                                                    target_size=(150, 150),\n",
        "                                                    batch_size=32,\n",
        "                                                    class_mode='binary')\n",
        "\n",
        "validation_generator = test_datagen.flow_from_directory(validation_dir,\n",
        "                                                        target_size=(150, 150),\n",
        "                                                        batch_size=32,\n",
        "                                                        class_mode='binary')\n",
        "\n",
        "history = model.fit_generator(train_generator,\n",
        "                              steps_per_epoch=100,\n",
        "                              epochs=60,\n",
        "                              validation_data=validation_generator,\n",
        "                              validation_steps=50)"
      ],
      "execution_count": 18,
      "outputs": [
        {
          "output_type": "stream",
          "text": [
            "Found 1000 images belonging to 2 classes.\n",
            "Found 200 images belonging to 2 classes.\n",
            "Epoch 1/60\n",
            "100/100 [==============================] - 28s 283ms/step - loss: 0.5198 - acc: 0.7269 - val_loss: 0.5846 - val_acc: 0.7046\n",
            "Epoch 2/60\n",
            "100/100 [==============================] - 25s 252ms/step - loss: 0.4042 - acc: 0.8206 - val_loss: 0.3250 - val_acc: 0.8722\n",
            "Epoch 3/60\n",
            "100/100 [==============================] - 26s 260ms/step - loss: 0.3650 - acc: 0.8415 - val_loss: 0.3107 - val_acc: 0.8820\n",
            "Epoch 4/60\n",
            "100/100 [==============================] - 25s 253ms/step - loss: 0.3303 - acc: 0.8575 - val_loss: 0.2582 - val_acc: 0.9071\n",
            "Epoch 5/60\n",
            "100/100 [==============================] - 26s 258ms/step - loss: 0.3244 - acc: 0.8591 - val_loss: 0.2680 - val_acc: 0.8946\n",
            "Epoch 6/60\n",
            "100/100 [==============================] - 25s 250ms/step - loss: 0.2986 - acc: 0.8715 - val_loss: 0.4440 - val_acc: 0.7870\n",
            "Epoch 7/60\n",
            "100/100 [==============================] - 25s 251ms/step - loss: 0.2941 - acc: 0.8697 - val_loss: 0.2676 - val_acc: 0.8906\n",
            "Epoch 8/60\n",
            "100/100 [==============================] - 27s 270ms/step - loss: 0.2748 - acc: 0.8741 - val_loss: 0.2304 - val_acc: 0.9106\n",
            "Epoch 9/60\n",
            "100/100 [==============================] - 25s 249ms/step - loss: 0.2707 - acc: 0.8819 - val_loss: 0.2506 - val_acc: 0.9050\n",
            "Epoch 10/60\n",
            "100/100 [==============================] - 25s 254ms/step - loss: 0.2578 - acc: 0.8875 - val_loss: 0.2248 - val_acc: 0.9085\n",
            "Epoch 11/60\n",
            "100/100 [==============================] - 25s 252ms/step - loss: 0.2474 - acc: 0.8891 - val_loss: 0.1931 - val_acc: 0.9204\n",
            "Epoch 12/60\n",
            "100/100 [==============================] - 26s 255ms/step - loss: 0.2334 - acc: 0.9037 - val_loss: 0.1909 - val_acc: 0.9183\n",
            "Epoch 13/60\n",
            "100/100 [==============================] - 25s 253ms/step - loss: 0.2183 - acc: 0.9075 - val_loss: 0.2947 - val_acc: 0.8848\n",
            "Epoch 14/60\n",
            "100/100 [==============================] - 25s 249ms/step - loss: 0.2216 - acc: 0.9081 - val_loss: 0.2489 - val_acc: 0.9105\n",
            "Epoch 15/60\n",
            "100/100 [==============================] - 25s 252ms/step - loss: 0.2095 - acc: 0.9091 - val_loss: 0.1850 - val_acc: 0.9448\n",
            "Epoch 16/60\n",
            "100/100 [==============================] - 27s 266ms/step - loss: 0.2076 - acc: 0.9128 - val_loss: 0.1862 - val_acc: 0.9218\n",
            "Epoch 17/60\n",
            "100/100 [==============================] - 25s 254ms/step - loss: 0.1985 - acc: 0.9181 - val_loss: 0.1667 - val_acc: 0.9260\n",
            "Epoch 18/60\n",
            "100/100 [==============================] - 25s 249ms/step - loss: 0.1918 - acc: 0.9188 - val_loss: 0.2011 - val_acc: 0.9078\n",
            "Epoch 19/60\n",
            "100/100 [==============================] - 25s 250ms/step - loss: 0.1903 - acc: 0.9212 - val_loss: 0.2629 - val_acc: 0.8925\n",
            "Epoch 20/60\n",
            "100/100 [==============================] - 26s 257ms/step - loss: 0.1778 - acc: 0.9244 - val_loss: 0.1867 - val_acc: 0.9099\n",
            "Epoch 21/60\n",
            "100/100 [==============================] - 25s 249ms/step - loss: 0.1788 - acc: 0.9265 - val_loss: 0.2485 - val_acc: 0.8949\n",
            "Epoch 22/60\n",
            "100/100 [==============================] - 25s 248ms/step - loss: 0.1622 - acc: 0.9325 - val_loss: 0.2656 - val_acc: 0.9050\n",
            "Epoch 23/60\n",
            "100/100 [==============================] - 25s 248ms/step - loss: 0.1611 - acc: 0.9309 - val_loss: 0.1930 - val_acc: 0.9036\n",
            "Epoch 24/60\n",
            "100/100 [==============================] - 27s 270ms/step - loss: 0.1736 - acc: 0.9347 - val_loss: 0.1715 - val_acc: 0.9260\n",
            "Epoch 25/60\n",
            "100/100 [==============================] - 25s 254ms/step - loss: 0.1587 - acc: 0.9387 - val_loss: 0.1498 - val_acc: 0.9295\n",
            "Epoch 26/60\n",
            "100/100 [==============================] - 25s 251ms/step - loss: 0.1538 - acc: 0.9397 - val_loss: 0.1670 - val_acc: 0.9169\n",
            "Epoch 27/60\n",
            "100/100 [==============================] - 25s 253ms/step - loss: 0.1532 - acc: 0.9381 - val_loss: 0.2267 - val_acc: 0.8932\n",
            "Epoch 28/60\n",
            "100/100 [==============================] - 25s 251ms/step - loss: 0.1488 - acc: 0.9416 - val_loss: 0.1563 - val_acc: 0.9446\n",
            "Epoch 29/60\n",
            "100/100 [==============================] - 25s 253ms/step - loss: 0.1416 - acc: 0.9391 - val_loss: 0.4053 - val_acc: 0.8834\n",
            "Epoch 30/60\n",
            "100/100 [==============================] - 25s 247ms/step - loss: 0.1454 - acc: 0.9406 - val_loss: 0.1615 - val_acc: 0.9197\n",
            "Epoch 31/60\n",
            "100/100 [==============================] - 25s 249ms/step - loss: 0.1419 - acc: 0.9459 - val_loss: 0.1468 - val_acc: 0.9490\n",
            "Epoch 32/60\n",
            "100/100 [==============================] - 27s 268ms/step - loss: 0.1289 - acc: 0.9500 - val_loss: 0.1469 - val_acc: 0.9295\n",
            "Epoch 33/60\n",
            "100/100 [==============================] - 25s 250ms/step - loss: 0.1246 - acc: 0.9462 - val_loss: 0.1616 - val_acc: 0.9246\n",
            "Epoch 34/60\n",
            "100/100 [==============================] - 25s 251ms/step - loss: 0.1295 - acc: 0.9456 - val_loss: 0.1630 - val_acc: 0.9232\n",
            "Epoch 35/60\n",
            "100/100 [==============================] - 25s 252ms/step - loss: 0.1263 - acc: 0.9469 - val_loss: 0.2166 - val_acc: 0.9141\n",
            "Epoch 36/60\n",
            "100/100 [==============================] - 26s 256ms/step - loss: 0.1189 - acc: 0.9528 - val_loss: 0.2524 - val_acc: 0.9204\n",
            "Epoch 37/60\n",
            "100/100 [==============================] - 25s 252ms/step - loss: 0.1225 - acc: 0.9513 - val_loss: 0.1642 - val_acc: 0.9365\n",
            "Epoch 38/60\n",
            "100/100 [==============================] - 25s 246ms/step - loss: 0.1169 - acc: 0.9541 - val_loss: 0.1930 - val_acc: 0.9385\n",
            "Epoch 39/60\n",
            "100/100 [==============================] - 25s 252ms/step - loss: 0.1191 - acc: 0.9534 - val_loss: 0.1703 - val_acc: 0.9323\n",
            "Epoch 40/60\n",
            "100/100 [==============================] - 27s 265ms/step - loss: 0.1177 - acc: 0.9537 - val_loss: 0.1554 - val_acc: 0.9490\n",
            "Epoch 41/60\n",
            "100/100 [==============================] - 26s 255ms/step - loss: 0.1077 - acc: 0.9609 - val_loss: 0.2329 - val_acc: 0.9316\n",
            "Epoch 42/60\n",
            "100/100 [==============================] - 25s 249ms/step - loss: 0.1065 - acc: 0.9553 - val_loss: 0.2101 - val_acc: 0.9240\n",
            "Epoch 43/60\n",
            "100/100 [==============================] - 25s 252ms/step - loss: 0.1022 - acc: 0.9616 - val_loss: 0.1749 - val_acc: 0.9260\n",
            "Epoch 44/60\n",
            "100/100 [==============================] - 25s 251ms/step - loss: 0.1002 - acc: 0.9556 - val_loss: 0.1552 - val_acc: 0.9441\n",
            "Epoch 45/60\n",
            "100/100 [==============================] - 25s 248ms/step - loss: 0.1030 - acc: 0.9581 - val_loss: 0.1601 - val_acc: 0.9413\n",
            "Epoch 46/60\n",
            "100/100 [==============================] - 25s 252ms/step - loss: 0.0963 - acc: 0.9613 - val_loss: 0.1780 - val_acc: 0.9372\n",
            "Epoch 47/60\n",
            "100/100 [==============================] - 25s 247ms/step - loss: 0.0980 - acc: 0.9594 - val_loss: 0.1626 - val_acc: 0.9211\n",
            "Epoch 48/60\n",
            "100/100 [==============================] - 27s 268ms/step - loss: 0.1026 - acc: 0.9603 - val_loss: 0.1695 - val_acc: 0.9211\n",
            "Epoch 49/60\n",
            "100/100 [==============================] - 25s 255ms/step - loss: 0.0864 - acc: 0.9672 - val_loss: 0.1951 - val_acc: 0.9389\n",
            "Epoch 50/60\n",
            "100/100 [==============================] - 25s 255ms/step - loss: 0.0999 - acc: 0.9603 - val_loss: 0.1664 - val_acc: 0.9448\n",
            "Epoch 51/60\n",
            "100/100 [==============================] - 25s 249ms/step - loss: 0.0873 - acc: 0.9656 - val_loss: 0.1823 - val_acc: 0.9232\n",
            "Epoch 52/60\n",
            "100/100 [==============================] - 25s 252ms/step - loss: 0.0896 - acc: 0.9638 - val_loss: 0.1790 - val_acc: 0.9372\n",
            "Epoch 53/60\n",
            "100/100 [==============================] - 25s 255ms/step - loss: 0.0859 - acc: 0.9672 - val_loss: 0.1842 - val_acc: 0.9323\n",
            "Epoch 54/60\n",
            "100/100 [==============================] - 25s 247ms/step - loss: 0.0802 - acc: 0.9700 - val_loss: 0.2342 - val_acc: 0.9462\n",
            "Epoch 55/60\n",
            "100/100 [==============================] - 25s 251ms/step - loss: 0.0843 - acc: 0.9694 - val_loss: 0.2548 - val_acc: 0.9246\n",
            "Epoch 56/60\n",
            "100/100 [==============================] - 27s 266ms/step - loss: 0.0795 - acc: 0.9709 - val_loss: 0.1612 - val_acc: 0.9297\n",
            "Epoch 57/60\n",
            "100/100 [==============================] - 25s 252ms/step - loss: 0.0801 - acc: 0.9706 - val_loss: 0.1703 - val_acc: 0.9455\n",
            "Epoch 58/60\n",
            "100/100 [==============================] - 25s 252ms/step - loss: 0.0681 - acc: 0.9725 - val_loss: 0.3169 - val_acc: 0.9351\n",
            "Epoch 59/60\n",
            "100/100 [==============================] - 25s 249ms/step - loss: 0.0798 - acc: 0.9725 - val_loss: 0.2151 - val_acc: 0.9274\n",
            "Epoch 60/60\n",
            "100/100 [==============================] - 25s 254ms/step - loss: 0.0811 - acc: 0.9697 - val_loss: 0.1665 - val_acc: 0.9483\n"
          ],
          "name": "stdout"
        }
      ]
    },
    {
      "cell_type": "code",
      "metadata": {
        "id": "dRBEADLzLYlc",
        "colab_type": "code",
        "colab": {
          "base_uri": "https://localhost:8080/",
          "height": 545
        },
        "outputId": "1be81125-40a0-4407-9dd2-e8a224c8c4a4"
      },
      "source": [
        "model.save('flowers_2.h5')\n",
        "\n",
        "import matplotlib.pyplot as plt\n",
        "\n",
        "acc = history.history['acc']\n",
        "val_acc = history.history['val_acc']\n",
        "loss = history.history['loss']\n",
        "val_loss = history.history['val_loss']\n",
        "\n",
        "epochs = range(1, len(acc) + 1)\n",
        "\n",
        "plt.plot(epochs, acc, 'bo', label='Training acc')\n",
        "plt.plot(epochs, val_acc, 'b', label='Validation acc')\n",
        "plt.title('Training and validation accuracy')\n",
        "plt.legend()\n",
        "\n",
        "plt.figure()\n",
        "\n",
        "plt.plot(epochs, loss, 'bo', label='Training loss')\n",
        "plt.plot(epochs, val_loss, 'b', label='Validation loss')\n",
        "plt.title('Training and validation loss')\n",
        "plt.legend()\n",
        "\n",
        "plt.show()"
      ],
      "execution_count": 19,
      "outputs": [
        {
          "output_type": "display_data",
          "data": {
            "image/png": "[encoded data removed]",
            "text/plain": [
              "<Figure size 432x288 with 1 Axes>"
            ]
          },
          "metadata": {
            "tags": []
          }
        },
        {
          "output_type": "display_data",
          "data": {
            "image/png": "[encoded data removed]",
            "text/plain": [
              "<Figure size 432x288 with 1 Axes>"
            ]
          },
          "metadata": {
            "tags": []
          }
        }
      ]
    },
    {
      "cell_type": "markdown",
      "metadata": {
        "id": "-GGOs66UR5Xc",
        "colab_type": "text"
      },
      "source": [
        "# Show a test case with graphics"
      ]
    },
    {
      "cell_type": "code",
      "metadata": {
        "id": "UuFHS40xR-6m",
        "colab_type": "code",
        "colab": {}
      },
      "source": [
        "def img_to_display(filename):\n",
        "    # inspired on this kernel:\n",
        "    # https://www.kaggle.com/stassl/displaying-inline-images-in-pandas-dataframe\n",
        "    # credits to stassl :)\n",
        "    \n",
        "    i = Image.open(filename)\n",
        "    i.thumbnail((200, 200), Image.LANCZOS)\n",
        "    \n",
        "    with BytesIO() as buffer:\n",
        "        i.save(buffer, 'jpeg')\n",
        "        return base64.b64encode(buffer.getvalue()).decode()\n",
        "    \n",
        "\n",
        "def display_result(filename, prediction, target):\n",
        "    '''\n",
        "    Display the results in HTML\n",
        "    \n",
        "    '''\n",
        "\n",
        "    type_image = 'Unknown'\n",
        "    \n",
        "    if(prediction[0]>prediction[1] and prediction[0]>0.5):\n",
        "        type_image = 'Sunflower'\n",
        "    elif(prediction[0]<prediction[1] and prediction[1]>0.5):\n",
        "        type_image = 'Tulip'\n",
        "    \n",
        "            \n",
        "    display_html = '''\n",
        "    <div style=\"overflow: auto;  border: 2px solid #D8D8D8;\n",
        "        padding: 5px; width: 420px;\" >\n",
        "        <img src=\"data:image/jpeg;base64,{}\" style=\"float: left;\" width=\"200\" height=\"200\">\n",
        "        <div style=\"padding: 10px 0px 0px 20px; overflow: auto;\">\n",
        "            <h3 style=\"margin-left: 50px; margin-top: 2px;\">Predict is{}</h3>\n",
        "            <p style=\"margin-left: 50px; margin-top: -6px; font-size: 12px\">{} probability of Sunflower:{}</p>\n",
        "            <p style=\"margin-left: 50px; margin-top: -6px; font-size: 12px\">probability of Tulip:{}</p>\n",
        "            <p style=\"margin-left: 50px; margin-top: -16px; font-size: 12px\">Real Target: {}</p>\n",
        "            <p style=\"margin-left: 50px; margin-top: -16px; font-size: 12px\">Filename: {}</p>\n",
        "        </div>\n",
        "    </div>\n",
        "    '''.format(img_to_display(filename)\n",
        "               , type_image\n",
        "               , \"{0:.2f}%\".format(prediction[0]*100,2)\n",
        "               , \"{0:.2f}%\".format(prediction[1]*100,2)\n",
        "               , target\n",
        "               , filename.split('/')[-1]\n",
        "               )\n",
        "\n",
        "    display(HTML(display_html))"
      ],
      "execution_count": 0,
      "outputs": []
    },
    {
      "cell_type": "code",
      "metadata": {
        "id": "CdkVeWStXoxV",
        "colab_type": "code",
        "colab": {}
      },
      "source": [
        "import numpy as np\n",
        "def flower_prediction(filename):\n",
        "    '''\n",
        "    predict the gender\n",
        "    \n",
        "    input:\n",
        "        filename: str of the file name\n",
        "        \n",
        "    return:\n",
        "        array of the prob of the targets.\n",
        "    \n",
        "    '''\n",
        "    \n",
        "    im = cv2.imread(filename)\n",
        "    im = cv2.resize(cv2.cvtColor(im, cv2.COLOR_BGR2RGB), (178, 218)).astype(np.float32) / 255.0\n",
        "    im = np.expand_dims(im, axis =0)\n",
        "    \n",
        "    # prediction\n",
        "    result = model.predict(im)\n",
        "    prediction = np.argmax(result)\n",
        "    \n",
        "    return result"
      ],
      "execution_count": 0,
      "outputs": []
    },
    {
      "cell_type": "code",
      "metadata": {
        "id": "YCpLHwbEb2ba",
        "colab_type": "code",
        "colab": {}
      },
      "source": [
        "!rm -r mytest2\n",
        "!mkdir mytest2\n",
        "!mkdir mytest2/tulip\n",
        "!mkdir mytest2/sunflower"
      ],
      "execution_count": 0,
      "outputs": []
    },
    {
      "cell_type": "code",
      "metadata": {
        "id": "KT_gSSvoVlSh",
        "colab_type": "code",
        "colab": {
          "base_uri": "https://localhost:8080/",
          "height": 68
        },
        "outputId": "657ff54d-526c-4769-a543-72297f25f1a2"
      },
      "source": [
        "import random\n",
        "import numpy as np\n",
        "\n",
        "my_test_folder=\"mytest2\"\n",
        "data_test=[];\n",
        "real_result=[];\n",
        "\n",
        "\n",
        "file_test_1=os.path.join(test_sunflower_dir,random.choice(os.listdir(test_sunflower_dir)));\n",
        "print(file_test_1)\n",
        "shutil.copyfile(file_test_1, os.path.join(my_test_folder+\"/tulip\",\"1.jpg\"))\n",
        "#shutil.copyfile(file_test_1, os.path.join(my_test_folder+\"/sunflower\",\"1.jpg\"))\n",
        "\n",
        "#data_test.append()\n",
        "#real_result.append(\"Sunflower\")\n",
        "\n",
        "\n",
        "file_test_2=os.path.join(test_tulip_dir,random.choice(os.listdir(test_tulip_dir)));\n",
        "print(file_test_2)\n",
        "shutil.copyfile(file_test_2, os.path.join(my_test_folder+\"/tulip\",\"2.jpg\"))\n",
        " #data_test.append(os.path.join(test_tulip_dir,file_test_2))\n",
        " #real_result.append(\"Tulip\")\n",
        "\n",
        " #file_test_3=random.choice(os.listdir(\"flowers/rose\"));\n",
        " #data_test.append(os.path.join(\"flowers/rose\",file_test_3))\n",
        " #real_result.append(\"Rose\")\n",
        "\n",
        " #result = model.predict(file_test_1)\n",
        " #prediction = np.argmax(result)\n"
      ],
      "execution_count": 144,
      "outputs": [
        {
          "output_type": "stream",
          "text": [
            "contents/test/sunflower/15054865768_2cc87ac9d4_m.jpg\n",
            "contents/test/tulip/14957470_6a8c272a87_m.jpg\n"
          ],
          "name": "stdout"
        },
        {
          "output_type": "execute_result",
          "data": {
            "text/plain": [
              "'mytest2/tulip/2.jpg'"
            ]
          },
          "metadata": {
            "tags": []
          },
          "execution_count": 144
        }
      ]
    },
    {
      "cell_type": "code",
      "metadata": {
        "id": "5MBDRmLXeiqy",
        "colab_type": "code",
        "colab": {
          "base_uri": "https://localhost:8080/",
          "height": 1000
        },
        "outputId": "d2d79403-5ae5-408f-c571-504a9fc09880"
      },
      "source": [
        "mytest_datagen = ImageDataGenerator(rescale=1./255)\n",
        "mytest_generator = test_datagen.flow_from_directory(test_dir,\n",
        "                                                        target_size=(150, 150),\n",
        "                                                        batch_size=10000,\n",
        "                                                        class_mode='binary')\n",
        "mytest_generator.reset()\n",
        "pred=model.predict_generator(mytest_generator,steps=1,verbose=1)\n",
        "predicted_class_indices=np.argmax(pred,axis=1)\n",
        "#print(predicted_class_indices)\n",
        "print(len(predicted_class_indices))\n",
        "print(predicted_class_indices)\n",
        "\n",
        "for x in pred:\n",
        "  print(\"{0:.3f}%\".format(x[0]))"
      ],
      "execution_count": 163,
      "outputs": [
        {
          "output_type": "stream",
          "text": [
            "Found 200 images belonging to 2 classes.\n",
            "1/1 [==============================] - 1s 588ms/step\n",
            "200\n",
            "[0 0 0 0 0 0 0 0 0 0 0 0 0 0 0 0 0 0 0 0 0 0 0 0 0 0 0 0 0 0 0 0 0 0 0 0 0\n",
            " 0 0 0 0 0 0 0 0 0 0 0 0 0 0 0 0 0 0 0 0 0 0 0 0 0 0 0 0 0 0 0 0 0 0 0 0 0\n",
            " 0 0 0 0 0 0 0 0 0 0 0 0 0 0 0 0 0 0 0 0 0 0 0 0 0 0 0 0 0 0 0 0 0 0 0 0 0\n",
            " 0 0 0 0 0 0 0 0 0 0 0 0 0 0 0 0 0 0 0 0 0 0 0 0 0 0 0 0 0 0 0 0 0 0 0 0 0\n",
            " 0 0 0 0 0 0 0 0 0 0 0 0 0 0 0 0 0 0 0 0 0 0 0 0 0 0 0 0 0 0 0 0 0 0 0 0 0\n",
            " 0 0 0 0 0 0 0 0 0 0 0 0 0 0 0]\n",
            "1.000%\n",
            "0.000%\n",
            "1.000%\n",
            "0.000%\n",
            "0.000%\n",
            "1.000%\n",
            "0.000%\n",
            "1.000%\n",
            "0.961%\n",
            "0.680%\n",
            "0.996%\n",
            "0.048%\n",
            "0.000%\n",
            "0.998%\n",
            "0.000%\n",
            "0.000%\n",
            "0.000%\n",
            "0.779%\n",
            "0.001%\n",
            "1.000%\n",
            "1.000%\n",
            "1.000%\n",
            "0.000%\n",
            "0.991%\n",
            "0.996%\n",
            "0.000%\n",
            "0.000%\n",
            "0.040%\n",
            "1.000%\n",
            "0.000%\n",
            "0.000%\n",
            "1.000%\n",
            "0.044%\n",
            "0.000%\n",
            "0.000%\n",
            "0.000%\n",
            "0.956%\n",
            "0.270%\n",
            "0.000%\n",
            "0.000%\n",
            "0.000%\n",
            "0.042%\n",
            "0.000%\n",
            "1.000%\n",
            "0.000%\n",
            "0.977%\n",
            "0.946%\n",
            "0.000%\n",
            "0.000%\n",
            "0.000%\n",
            "0.000%\n",
            "0.000%\n",
            "1.000%\n",
            "1.000%\n",
            "1.000%\n",
            "0.000%\n",
            "1.000%\n",
            "0.000%\n",
            "0.962%\n",
            "1.000%\n",
            "1.000%\n",
            "1.000%\n",
            "1.000%\n",
            "0.000%\n",
            "0.998%\n",
            "0.993%\n",
            "1.000%\n",
            "1.000%\n",
            "0.000%\n",
            "0.216%\n",
            "0.019%\n",
            "1.000%\n",
            "1.000%\n",
            "0.254%\n",
            "0.003%\n",
            "0.000%\n",
            "0.011%\n",
            "1.000%\n",
            "0.001%\n",
            "0.999%\n",
            "0.290%\n",
            "0.000%\n",
            "0.000%\n",
            "1.000%\n",
            "0.977%\n",
            "0.000%\n",
            "0.998%\n",
            "0.985%\n",
            "0.887%\n",
            "1.000%\n",
            "1.000%\n",
            "0.859%\n",
            "1.000%\n",
            "0.005%\n",
            "0.670%\n",
            "0.999%\n",
            "0.434%\n",
            "0.000%\n",
            "0.000%\n",
            "0.000%\n",
            "0.995%\n",
            "0.000%\n",
            "0.000%\n",
            "0.000%\n",
            "0.053%\n",
            "0.000%\n",
            "0.000%\n",
            "0.997%\n",
            "0.000%\n",
            "1.000%\n",
            "0.905%\n",
            "1.000%\n",
            "0.000%\n",
            "0.000%\n",
            "0.000%\n",
            "1.000%\n",
            "0.000%\n",
            "0.999%\n",
            "1.000%\n",
            "0.000%\n",
            "0.999%\n",
            "1.000%\n",
            "1.000%\n",
            "0.096%\n",
            "0.000%\n",
            "0.197%\n",
            "0.000%\n",
            "1.000%\n",
            "0.000%\n",
            "1.000%\n",
            "1.000%\n",
            "1.000%\n",
            "1.000%\n",
            "0.980%\n",
            "0.034%\n",
            "0.000%\n",
            "0.997%\n",
            "0.006%\n",
            "0.895%\n",
            "0.000%\n",
            "0.019%\n",
            "0.000%\n",
            "0.989%\n",
            "0.000%\n",
            "0.000%\n",
            "0.000%\n",
            "0.000%\n",
            "0.993%\n",
            "1.000%\n",
            "0.995%\n",
            "0.734%\n",
            "1.000%\n",
            "0.170%\n",
            "0.998%\n",
            "1.000%\n",
            "1.000%\n",
            "0.264%\n",
            "1.000%\n",
            "0.974%\n",
            "0.011%\n",
            "0.994%\n",
            "0.000%\n",
            "0.994%\n",
            "1.000%\n",
            "0.000%\n",
            "0.999%\n",
            "0.000%\n",
            "0.997%\n",
            "0.002%\n",
            "0.000%\n",
            "0.000%\n",
            "0.933%\n",
            "0.000%\n",
            "0.000%\n",
            "0.000%\n",
            "1.000%\n",
            "0.000%\n",
            "0.000%\n",
            "0.014%\n",
            "0.001%\n",
            "1.000%\n",
            "0.000%\n",
            "0.506%\n",
            "0.668%\n",
            "1.000%\n",
            "0.000%\n",
            "0.000%\n",
            "1.000%\n",
            "1.000%\n",
            "1.000%\n",
            "0.884%\n",
            "1.000%\n",
            "0.000%\n",
            "1.000%\n",
            "0.000%\n",
            "1.000%\n",
            "0.000%\n",
            "0.000%\n",
            "0.000%\n",
            "0.982%\n"
          ],
          "name": "stdout"
        }
      ]
    },
    {
      "cell_type": "code",
      "metadata": {
        "id": "2ZODiLSNiAtJ",
        "colab_type": "code",
        "colab": {
          "base_uri": "https://localhost:8080/",
          "height": 1000
        },
        "outputId": "b1f3d91c-89c4-4d86-a68e-eaf0e19ac8ed"
      },
      "source": [
        "labels = (train_generator.class_indices)\n",
        "labels = dict((v,k) for k,v in labels.items())\n",
        "predictions = [labels[k] for k in predicted_class_indices]\n",
        "predictions"
      ],
      "execution_count": 158,
      "outputs": [
        {
          "output_type": "execute_result",
          "data": {
            "text/plain": [
              "['sunflower',\n",
              " 'sunflower',\n",
              " 'sunflower',\n",
              " 'sunflower',\n",
              " 'sunflower',\n",
              " 'sunflower',\n",
              " 'sunflower',\n",
              " 'sunflower',\n",
              " 'sunflower',\n",
              " 'sunflower',\n",
              " 'sunflower',\n",
              " 'sunflower',\n",
              " 'sunflower',\n",
              " 'sunflower',\n",
              " 'sunflower',\n",
              " 'sunflower',\n",
              " 'sunflower',\n",
              " 'sunflower',\n",
              " 'sunflower',\n",
              " 'sunflower',\n",
              " 'sunflower',\n",
              " 'sunflower',\n",
              " 'sunflower',\n",
              " 'sunflower',\n",
              " 'sunflower',\n",
              " 'sunflower',\n",
              " 'sunflower',\n",
              " 'sunflower',\n",
              " 'sunflower',\n",
              " 'sunflower',\n",
              " 'sunflower',\n",
              " 'sunflower',\n",
              " 'sunflower',\n",
              " 'sunflower',\n",
              " 'sunflower',\n",
              " 'sunflower',\n",
              " 'sunflower',\n",
              " 'sunflower',\n",
              " 'sunflower',\n",
              " 'sunflower',\n",
              " 'sunflower',\n",
              " 'sunflower',\n",
              " 'sunflower',\n",
              " 'sunflower',\n",
              " 'sunflower',\n",
              " 'sunflower',\n",
              " 'sunflower',\n",
              " 'sunflower',\n",
              " 'sunflower',\n",
              " 'sunflower',\n",
              " 'sunflower',\n",
              " 'sunflower',\n",
              " 'sunflower',\n",
              " 'sunflower',\n",
              " 'sunflower',\n",
              " 'sunflower',\n",
              " 'sunflower',\n",
              " 'sunflower',\n",
              " 'sunflower',\n",
              " 'sunflower',\n",
              " 'sunflower',\n",
              " 'sunflower',\n",
              " 'sunflower',\n",
              " 'sunflower',\n",
              " 'sunflower',\n",
              " 'sunflower',\n",
              " 'sunflower',\n",
              " 'sunflower',\n",
              " 'sunflower',\n",
              " 'sunflower',\n",
              " 'sunflower',\n",
              " 'sunflower',\n",
              " 'sunflower',\n",
              " 'sunflower',\n",
              " 'sunflower',\n",
              " 'sunflower',\n",
              " 'sunflower',\n",
              " 'sunflower',\n",
              " 'sunflower',\n",
              " 'sunflower',\n",
              " 'sunflower',\n",
              " 'sunflower',\n",
              " 'sunflower',\n",
              " 'sunflower',\n",
              " 'sunflower',\n",
              " 'sunflower',\n",
              " 'sunflower',\n",
              " 'sunflower',\n",
              " 'sunflower',\n",
              " 'sunflower',\n",
              " 'sunflower',\n",
              " 'sunflower',\n",
              " 'sunflower',\n",
              " 'sunflower',\n",
              " 'sunflower',\n",
              " 'sunflower',\n",
              " 'sunflower',\n",
              " 'sunflower',\n",
              " 'sunflower',\n",
              " 'sunflower',\n",
              " 'sunflower',\n",
              " 'sunflower',\n",
              " 'sunflower',\n",
              " 'sunflower',\n",
              " 'sunflower',\n",
              " 'sunflower',\n",
              " 'sunflower',\n",
              " 'sunflower',\n",
              " 'sunflower',\n",
              " 'sunflower',\n",
              " 'sunflower',\n",
              " 'sunflower',\n",
              " 'sunflower',\n",
              " 'sunflower',\n",
              " 'sunflower',\n",
              " 'sunflower',\n",
              " 'sunflower',\n",
              " 'sunflower',\n",
              " 'sunflower',\n",
              " 'sunflower',\n",
              " 'sunflower',\n",
              " 'sunflower',\n",
              " 'sunflower',\n",
              " 'sunflower',\n",
              " 'sunflower',\n",
              " 'sunflower',\n",
              " 'sunflower',\n",
              " 'sunflower',\n",
              " 'sunflower',\n",
              " 'sunflower',\n",
              " 'sunflower',\n",
              " 'sunflower',\n",
              " 'sunflower',\n",
              " 'sunflower',\n",
              " 'sunflower',\n",
              " 'sunflower',\n",
              " 'sunflower',\n",
              " 'sunflower',\n",
              " 'sunflower',\n",
              " 'sunflower',\n",
              " 'sunflower',\n",
              " 'sunflower',\n",
              " 'sunflower',\n",
              " 'sunflower',\n",
              " 'sunflower',\n",
              " 'sunflower',\n",
              " 'sunflower',\n",
              " 'sunflower',\n",
              " 'sunflower',\n",
              " 'sunflower',\n",
              " 'sunflower',\n",
              " 'sunflower',\n",
              " 'sunflower',\n",
              " 'sunflower',\n",
              " 'sunflower',\n",
              " 'sunflower',\n",
              " 'sunflower',\n",
              " 'sunflower',\n",
              " 'sunflower',\n",
              " 'sunflower',\n",
              " 'sunflower',\n",
              " 'sunflower',\n",
              " 'sunflower',\n",
              " 'sunflower',\n",
              " 'sunflower',\n",
              " 'sunflower',\n",
              " 'sunflower',\n",
              " 'sunflower',\n",
              " 'sunflower',\n",
              " 'sunflower',\n",
              " 'sunflower',\n",
              " 'sunflower',\n",
              " 'sunflower',\n",
              " 'sunflower',\n",
              " 'sunflower',\n",
              " 'sunflower',\n",
              " 'sunflower',\n",
              " 'sunflower',\n",
              " 'sunflower',\n",
              " 'sunflower',\n",
              " 'sunflower',\n",
              " 'sunflower',\n",
              " 'sunflower',\n",
              " 'sunflower',\n",
              " 'sunflower',\n",
              " 'sunflower',\n",
              " 'sunflower',\n",
              " 'sunflower',\n",
              " 'sunflower',\n",
              " 'sunflower',\n",
              " 'sunflower',\n",
              " 'sunflower',\n",
              " 'sunflower',\n",
              " 'sunflower',\n",
              " 'sunflower',\n",
              " 'sunflower',\n",
              " 'sunflower',\n",
              " 'sunflower',\n",
              " 'sunflower',\n",
              " 'sunflower']"
            ]
          },
          "metadata": {
            "tags": []
          },
          "execution_count": 158
        }
      ]
    },
    {
      "cell_type": "code",
      "metadata": {
        "id": "keJDH2ymgIKq",
        "colab_type": "code",
        "colab": {
          "base_uri": "https://localhost:8080/",
          "height": 34
        },
        "outputId": "629b19fc-2a1b-4bd2-f8d0-4335c8cb7e1d"
      },
      "source": [
        "import numpy as np\n",
        "from keras.preprocessing import image\n",
        "\n",
        "img_width, img_height = 150, 150\n",
        "img = image.load_img('contents/test/sunflower/184683023_737fec5b18.jpg', target_size = (img_width, img_height))\n",
        "img = image.img_to_array(img)\n",
        "img = np.expand_dims(img, axis = 0)\n",
        "\n",
        "predict=model.predict(img)[0]\n",
        "predict"
      ],
      "execution_count": 161,
      "outputs": [
        {
          "output_type": "execute_result",
          "data": {
            "text/plain": [
              "array([0.], dtype=float32)"
            ]
          },
          "metadata": {
            "tags": []
          },
          "execution_count": 161
        }
      ]
    },
    {
      "cell_type": "code",
      "metadata": {
        "id": "ZQl2sQO1ffsf",
        "colab_type": "code",
        "colab": {
          "base_uri": "https://localhost:8080/",
          "height": 164
        },
        "outputId": "e3c06add-576e-4ae4-e8ca-677e98101e5c"
      },
      "source": [
        "print(test_dir)"
      ],
      "execution_count": 99,
      "outputs": [
        {
          "output_type": "error",
          "ename": "NameError",
          "evalue": "ignored",
          "traceback": [
            "\u001b[0;31m---------------------------------------------------------------------------\u001b[0m",
            "\u001b[0;31mNameError\u001b[0m                                 Traceback (most recent call last)",
            "\u001b[0;32m<ipython-input-99-e0f073cf382d>\u001b[0m in \u001b[0;36m<module>\u001b[0;34m()\u001b[0m\n\u001b[0;32m----> 1\u001b[0;31m \u001b[0mprint\u001b[0m\u001b[0;34m(\u001b[0m\u001b[0mmytest2\u001b[0m\u001b[0;34m)\u001b[0m\u001b[0;34m\u001b[0m\u001b[0;34m\u001b[0m\u001b[0m\n\u001b[0m",
            "\u001b[0;31mNameError\u001b[0m: name 'mytest2' is not defined"
          ]
        }
      ]
    },
    {
      "cell_type": "code",
      "metadata": {
        "id": "11LjGfBHbP13",
        "colab_type": "code",
        "colab": {
          "base_uri": "https://localhost:8080/",
          "height": 34
        },
        "outputId": "0c834941-262c-4023-c320-27f2897622cf"
      },
      "source": [
        "os.listdir(\"mytest2/sunflower\")"
      ],
      "execution_count": 102,
      "outputs": [
        {
          "output_type": "execute_result",
          "data": {
            "text/plain": [
              "['1.jpg']"
            ]
          },
          "metadata": {
            "tags": []
          },
          "execution_count": 102
        }
      ]
    }
  ]
}